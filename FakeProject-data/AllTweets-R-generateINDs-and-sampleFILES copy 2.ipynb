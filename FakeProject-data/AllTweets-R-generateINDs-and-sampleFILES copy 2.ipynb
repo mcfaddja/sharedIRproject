{
 "cells": [
  {
   "cell_type": "markdown",
   "metadata": {},
   "source": [
    "# Generate Indicies and Create Sample files: All Tweets (*R*) \n",
    "\n",
    "This notebook generates indices for use in sampling the data as well as exports datasets from the corpus based on those indices.  The indices are exported as well.\n",
    "\n",
    "## Load the data file\n",
    "\n",
    "> First, we store the file names (*and their locations*) of the files containing fake tweets in the string '**fileName0**' and the string array '**fileName**'[ ]."
   ]
  },
  {
   "cell_type": "code",
   "execution_count": 1,
   "metadata": {
    "collapsed": true
   },
   "outputs": [],
   "source": [
    "fileName0 = 'datasetsFULLcsv/fakeFollowersCSV/tweets.csv'\n",
    "\n",
    "fileNames = c('datasetsFULLcsv/socialSpambots1csv/tweets.csv', 'datasetsFULLcsv/socialSpambots2csv/tweets.csv', 'datasetsFULLcsv/socialSpambots3csv/tweets.csv', 'datasetsFULLcsv/traditionalSpambots1csv/tweets.csv')"
   ]
  },
  {
   "cell_type": "markdown",
   "metadata": {},
   "source": [
    "> Using the CSV file names previously specified in '**fileName0**' and '**fileNames**'[ ], we can now load the file into the _data.frame_( ) named '**fakeCSV**'."
   ]
  },
  {
   "cell_type": "code",
   "execution_count": 2,
   "metadata": {
    "scrolled": true
   },
   "outputs": [
    {
     "name": "stderr",
     "output_type": "stream",
     "text": [
      "Warning message in scan(file = file, what = what, sep = sep, quote = quote, dec = dec, :\n",
      "“embedded nul(s) found in input”Warning message in scan(file = file, what = what, sep = sep, quote = quote, dec = dec, :\n",
      "“embedded nul(s) found in input”Warning message in scan(file = file, what = what, sep = sep, quote = quote, dec = dec, :\n",
      "“embedded nul(s) found in input”Warning message in scan(file = file, what = what, sep = sep, quote = quote, dec = dec, :\n",
      "“embedded nul(s) found in input”Warning message in scan(file = file, what = what, sep = sep, quote = quote, dec = dec, :\n",
      "“embedded nul(s) found in input”"
     ]
    }
   ],
   "source": [
    "fakeCSV = read.csv(fileName0)\n",
    "fakeTweets <- data.frame(userID = fakeCSV$user_id, id = fakeCSV$id, text = fakeCSV$text)\n",
    "\n",
    "for (filename in fileNames) {\n",
    "    temp0 = read.csv(filename)\n",
    "    #fakeCSV <- rbind(fakeCSV, temp0)\n",
    "    temp <- data.frame(userID = temp0$user_id, id = temp0$id, text = temp0$text)\n",
    "    fakeTweets <- rbind(fakeTweets, temp)\n",
    "}"
   ]
  },
  {
   "cell_type": "markdown",
   "metadata": {},
   "source": [
    "> We now load the file containing real tweets into the _data.frame_( ) named '**fakeCSV**'."
   ]
  },
  {
   "cell_type": "code",
   "execution_count": 3,
   "metadata": {},
   "outputs": [
    {
     "name": "stderr",
     "output_type": "stream",
     "text": [
      "Warning message in scan(file = file, what = what, sep = sep, quote = quote, dec = dec, :\n",
      "“embedded nul(s) found in input”"
     ]
    }
   ],
   "source": [
    "realCSV = read.csv('datasetsFULLcsv/genuineAccountsCSV/tweets.csv')"
   ]
  },
  {
   "cell_type": "markdown",
   "metadata": {},
   "source": [
    "> From the '**fakeCSV**' and '**realCSV** _data.frame_( )s, we will create two smaller, simpler *data.frame*( )s named '**fakeTweets**' and '**realTweets**', respectively.  This reduction in size and complexity of '**fakeTweets**' is due to the fact that it only contains the ID number of the tweet in our database, along with the text of the tweet.  "
   ]
  },
  {
   "cell_type": "code",
   "execution_count": 4,
   "metadata": {
    "collapsed": true
   },
   "outputs": [],
   "source": [
    "fakeTweets <- data.frame(id = fakeCSV$id, text = fakeCSV$text)\n",
    "realTweets <- data.frame(id = realCSV$id, text = realCSV$text)"
   ]
  },
  {
   "cell_type": "markdown",
   "metadata": {},
   "source": [
    "> The initial size of the imports are"
   ]
  },
  {
   "cell_type": "code",
   "execution_count": 5,
   "metadata": {},
   "outputs": [
    {
     "data": {
      "text/html": [
       "196027"
      ],
      "text/latex": [
       "196027"
      ],
      "text/markdown": [
       "196027"
      ],
      "text/plain": [
       "[1] 196027"
      ]
     },
     "metadata": {},
     "output_type": "display_data"
    },
    {
     "data": {
      "text/html": [
       "2839362"
      ],
      "text/latex": [
       "2839362"
      ],
      "text/markdown": [
       "2839362"
      ],
      "text/plain": [
       "[1] 2839362"
      ]
     },
     "metadata": {},
     "output_type": "display_data"
    }
   ],
   "source": [
    "nrow(fakeTweets)\n",
    "nrow(realTweets)"
   ]
  },
  {
   "cell_type": "markdown",
   "metadata": {
    "collapsed": true
   },
   "source": [
    "## Clean the data\n",
    "\n",
    ">> Now we remove web URLS, twitter usernames, twitter hashtags, punctuation, and stand-alone numeric digits."
   ]
  },
  {
   "cell_type": "code",
   "execution_count": 6,
   "metadata": {
    "collapsed": true
   },
   "outputs": [],
   "source": [
    "# remove web URLs\n",
    "fakeTweets <- data.frame(id = fakeTweets$id, text = gsub(\"http[[:alnum:][:punct:]]*\", \"\", fakeTweets$text))\n",
    "realTweets <- data.frame(id = realTweets$id, text = gsub(\"http[[:alnum:][:punct:]]*\", \"\", realTweets$text))\n",
    "\n",
    "# remove twitter handles (@<username>)\n",
    "fakeTweets <- data.frame(id = fakeTweets$id, text = gsub(\"#[[:alnum:][:punct:]]*\", \"\", fakeTweets$text))\n",
    "realTweets <- data.frame(id = realTweets$id, text = gsub(\"#[[:alnum:][:punct:]]*\", \"\", realTweets$text))\n",
    "\n",
    "# remove hashtags (#<hashtag name>)\n",
    "fakeTweets <- data.frame(id = fakeTweets$id, text = gsub(\"@[[:alnum:][:punct:]]*\", \"\", fakeTweets$text))\n",
    "realTweets <- data.frame(id = realTweets$id, text = gsub(\"@[[:alnum:][:punct:]]*\", \"\", realTweets$text))\n",
    "\n",
    "# remove punctuation\n",
    "fakeTweets <- data.frame(id = fakeTweets$id, text = gsub('[[:punct:] ]+', ' ', fakeTweets$text))\n",
    "realTweets <- data.frame(id = realTweets$id, text = gsub('[[:punct:] ]+', ' ', realTweets$text))\n",
    "\n",
    "# remove numbers\n",
    "fakeTweets <- data.frame(id = fakeTweets$id, text = gsub(\"[0-9]\", \"\", fakeTweets$text))\n",
    "realTweets <- data.frame(id = realTweets$id, text = gsub(\"[0-9]\", \"\", realTweets$text))\n",
    "\n",
    "# convert to lowercase\n",
    "fakeTweets <- data.frame(id = fakeTweets$id, text = tolower(fakeTweets$text))\n",
    "realTweets <- data.frame(id = realTweets$id, text = tolower(realTweets$text))"
   ]
  },
  {
   "cell_type": "markdown",
   "metadata": {},
   "source": [
    "> The number of Tweets available after \"cleaning\""
   ]
  },
  {
   "cell_type": "code",
   "execution_count": 7,
   "metadata": {},
   "outputs": [
    {
     "data": {
      "text/html": [
       "196027"
      ],
      "text/latex": [
       "196027"
      ],
      "text/markdown": [
       "196027"
      ],
      "text/plain": [
       "[1] 196027"
      ]
     },
     "metadata": {},
     "output_type": "display_data"
    },
    {
     "data": {
      "text/html": [
       "2839362"
      ],
      "text/latex": [
       "2839362"
      ],
      "text/markdown": [
       "2839362"
      ],
      "text/plain": [
       "[1] 2839362"
      ]
     },
     "metadata": {},
     "output_type": "display_data"
    }
   ],
   "source": [
    "nrow(fakeTweets)\n",
    "nrow(realTweets)"
   ]
  },
  {
   "cell_type": "markdown",
   "metadata": {},
   "source": [
    "> ### TidyText the data file\n",
    "\n",
    "> Now we must tokenize the text of each tweet using the '*tidytext*' and '*dplyr*' libraries.  To do this, the '*tidytext*' and '*dplyr*' libraries must be imported and the data frames type used to store both types of tweets converted to the data frame type from the '**dplyr**' library before the tweets can be tokenized. \n",
    "\n",
    ">> First, we import the '*tidytext*' and '*dplyr*' libraries: "
   ]
  },
  {
   "cell_type": "code",
   "execution_count": 8,
   "metadata": {},
   "outputs": [
    {
     "name": "stderr",
     "output_type": "stream",
     "text": [
      "\n",
      "Attaching package: ‘dplyr’\n",
      "\n",
      "The following objects are masked from ‘package:stats’:\n",
      "\n",
      "    filter, lag\n",
      "\n",
      "The following objects are masked from ‘package:base’:\n",
      "\n",
      "    intersect, setdiff, setequal, union\n",
      "\n"
     ]
    }
   ],
   "source": [
    "library(dplyr)\n",
    "library(tidytext)"
   ]
  },
  {
   "cell_type": "markdown",
   "metadata": {},
   "source": [
    ">> Then we convert the data frames of '**fakeTweets**' and '**realTweets**' to the data frame type from the '*dplyr*' library:"
   ]
  },
  {
   "cell_type": "code",
   "execution_count": 9,
   "metadata": {
    "scrolled": true
   },
   "outputs": [],
   "source": [
    "fakeTweets <- data_frame(id = fakeTweets$id, text = as.character(fakeTweets$text))\n",
    "realTweets <- data_frame(id = realTweets$id, text = as.character(realTweets$text))"
   ]
  },
  {
   "cell_type": "markdown",
   "metadata": {},
   "source": [
    ">> so that we can finally tokenize the text from each of the tweets,\n",
    "\n",
    "> ### Tokenization\n",
    "\n",
    "> We now tokenize the text of the tweets, storing these tokens in new data frames (*from __dplyr__*). \n",
    "\n",
    ">> For the fake tweets, we use the new data frame (*from __dplyr__*) '**fakeTweetTOKENS**':"
   ]
  },
  {
   "cell_type": "code",
   "execution_count": 10,
   "metadata": {
    "collapsed": true
   },
   "outputs": [],
   "source": [
    "fakeTweetsTOKENS <- fakeTweets %>%\n",
    "    unnest_tokens(word, text)"
   ]
  },
  {
   "cell_type": "markdown",
   "metadata": {},
   "source": [
    ">> Similarly, we tokenize the text of the real tweets, them in the new data frame (*from __dplyr__*) '**realTweetTOKENS**'."
   ]
  },
  {
   "cell_type": "code",
   "execution_count": 11,
   "metadata": {
    "collapsed": true
   },
   "outputs": [],
   "source": [
    "realTweetsTOKENS <- realTweets %>%\n",
    "    unnest_tokens(word, text)"
   ]
  },
  {
   "cell_type": "code",
   "execution_count": 12,
   "metadata": {},
   "outputs": [],
   "source": [
    "#nrow(fakeTweetsTOKENS)\n",
    "#nrow(realTweetsTOKENS)"
   ]
  },
  {
   "cell_type": "markdown",
   "metadata": {},
   "source": [
    "> ### Remove '*Stop Words*'\n",
    "\n",
    "> Now, we will remove any stop words from the text of the tweets.  To do this, we first import the '*stop_words*' dataset from the '*tidytext*' library.\n",
    "\n",
    ">> Importing the '*stop_words*' dataset from the '*tidytext*' library:"
   ]
  },
  {
   "cell_type": "code",
   "execution_count": 13,
   "metadata": {
    "collapsed": true
   },
   "outputs": [],
   "source": [
    "data(stop_words)"
   ]
  },
  {
   "cell_type": "markdown",
   "metadata": {},
   "source": [
    ">> Now, we use the '*anti_join*( )' function from the '*dplyr*' library to remove these stop words from the fake tweets"
   ]
  },
  {
   "cell_type": "code",
   "execution_count": 14,
   "metadata": {},
   "outputs": [
    {
     "name": "stderr",
     "output_type": "stream",
     "text": [
      "Joining, by = \"word\"\n"
     ]
    }
   ],
   "source": [
    "fakeTweetsTOKENS <- fakeTweetsTOKENS %>%\n",
    "    anti_join(stop_words)"
   ]
  },
  {
   "cell_type": "markdown",
   "metadata": {},
   "source": [
    ">> and the fake tweets"
   ]
  },
  {
   "cell_type": "code",
   "execution_count": 15,
   "metadata": {},
   "outputs": [
    {
     "name": "stderr",
     "output_type": "stream",
     "text": [
      "Joining, by = \"word\"\n"
     ]
    }
   ],
   "source": [
    "realTweetsTOKENS <- realTweetsTOKENS %>%\n",
    "    anti_join(stop_words)"
   ]
  },
  {
   "cell_type": "markdown",
   "metadata": {},
   "source": [
    "> Number of fake and real tweet tokens is"
   ]
  },
  {
   "cell_type": "code",
   "execution_count": 16,
   "metadata": {},
   "outputs": [
    {
     "data": {
      "text/html": [
       "1320088"
      ],
      "text/latex": [
       "1320088"
      ],
      "text/markdown": [
       "1320088"
      ],
      "text/plain": [
       "[1] 1320088"
      ]
     },
     "metadata": {},
     "output_type": "display_data"
    },
    {
     "data": {
      "text/html": [
       "13654172"
      ],
      "text/latex": [
       "13654172"
      ],
      "text/markdown": [
       "13654172"
      ],
      "text/plain": [
       "[1] 13654172"
      ]
     },
     "metadata": {},
     "output_type": "display_data"
    }
   ],
   "source": [
    "nrow(fakeTweetsTOKENS)\n",
    "nrow(realTweetsTOKENS)"
   ]
  },
  {
   "cell_type": "markdown",
   "metadata": {},
   "source": [
    "## NRC Model\n",
    "\n",
    "> We are first going to use the **NRC Sentiment Model** containing ten emotions associated with words.  Thus, we load the sentiments database for NRC followed by storing those ten emotions in their own dataframe."
   ]
  },
  {
   "cell_type": "code",
   "execution_count": 17,
   "metadata": {},
   "outputs": [],
   "source": [
    "nrcWORDS <- get_sentiments(\"nrc\")\n",
    "nrcEMOTIONS <- unique(nrcWORDS$sentiment)"
   ]
  },
  {
   "cell_type": "markdown",
   "metadata": {},
   "source": [
    "> ### Associate Words with their Emotions\n",
    "\n",
    "> Now, we generate data frames that associates the words in fake tweets with their associated emotions under the **NRC Model**.\n",
    "\n",
    ">> First, for fake tweets"
   ]
  },
  {
   "cell_type": "code",
   "execution_count": 18,
   "metadata": {},
   "outputs": [
    {
     "name": "stderr",
     "output_type": "stream",
     "text": [
      "Joining, by = \"word\"\n",
      "Joining, by = \"id\"\n",
      "Joining, by = \"word\"\n",
      "Joining, by = c(\"id\", \"word\", \"sentiment\")\n",
      "Joining, by = \"word\"\n",
      "Joining, by = c(\"id\", \"word\", \"sentiment\")\n",
      "Joining, by = \"word\"\n",
      "Joining, by = c(\"id\", \"word\", \"sentiment\")\n",
      "Joining, by = \"word\"\n",
      "Joining, by = c(\"id\", \"word\", \"sentiment\")\n",
      "Joining, by = \"word\"\n",
      "Joining, by = c(\"id\", \"word\", \"sentiment\")\n",
      "Joining, by = \"word\"\n",
      "Joining, by = c(\"id\", \"word\", \"sentiment\")\n",
      "Joining, by = \"word\"\n",
      "Joining, by = c(\"id\", \"word\", \"sentiment\")\n",
      "Joining, by = \"word\"\n",
      "Joining, by = c(\"id\", \"word\", \"sentiment\")\n",
      "Joining, by = \"word\"\n",
      "Joining, by = c(\"id\", \"word\", \"sentiment\")\n"
     ]
    }
   ],
   "source": [
    "fakeTweetsNRCsentiment <- data.frame(id = 0)\n",
    "for (emotion in nrcEMOTIONS){\n",
    "    fakeTweetsNRCsentiment0 <- inner_join(fakeTweetsTOKENS, filter(nrcWORDS, sentiment == emotion))\n",
    "    fakeTweetsNRCsentiment <- full_join(fakeTweetsNRCsentiment, fakeTweetsNRCsentiment0)\n",
    "    }\n",
    "fakeTweetsNRCsentiment <- data.frame(fakeTweetsNRCsentiment[-1,])"
   ]
  },
  {
   "cell_type": "markdown",
   "metadata": {},
   "source": [
    ">> and then for real tweets"
   ]
  },
  {
   "cell_type": "code",
   "execution_count": 19,
   "metadata": {},
   "outputs": [
    {
     "name": "stderr",
     "output_type": "stream",
     "text": [
      "Joining, by = \"word\"\n",
      "Joining, by = \"id\"\n",
      "Warning message:\n",
      "“Column `id` joining factors with different levels, coercing to character vector”Joining, by = \"word\"\n",
      "Joining, by = c(\"id\", \"word\", \"sentiment\")\n",
      "Warning message:\n",
      "“Column `id` joining character vector and factor, coercing into character vector”Joining, by = \"word\"\n",
      "Joining, by = c(\"id\", \"word\", \"sentiment\")\n",
      "Warning message:\n",
      "“Column `id` joining character vector and factor, coercing into character vector”Joining, by = \"word\"\n",
      "Joining, by = c(\"id\", \"word\", \"sentiment\")\n",
      "Warning message:\n",
      "“Column `id` joining character vector and factor, coercing into character vector”Joining, by = \"word\"\n",
      "Joining, by = c(\"id\", \"word\", \"sentiment\")\n",
      "Warning message:\n",
      "“Column `id` joining character vector and factor, coercing into character vector”Joining, by = \"word\"\n",
      "Joining, by = c(\"id\", \"word\", \"sentiment\")\n",
      "Warning message:\n",
      "“Column `id` joining character vector and factor, coercing into character vector”Joining, by = \"word\"\n",
      "Joining, by = c(\"id\", \"word\", \"sentiment\")\n",
      "Warning message:\n",
      "“Column `id` joining character vector and factor, coercing into character vector”Joining, by = \"word\"\n",
      "Joining, by = c(\"id\", \"word\", \"sentiment\")\n",
      "Warning message:\n",
      "“Column `id` joining character vector and factor, coercing into character vector”Joining, by = \"word\"\n",
      "Joining, by = c(\"id\", \"word\", \"sentiment\")\n",
      "Warning message:\n",
      "“Column `id` joining character vector and factor, coercing into character vector”Joining, by = \"word\"\n",
      "Joining, by = c(\"id\", \"word\", \"sentiment\")\n",
      "Warning message:\n",
      "“Column `id` joining character vector and factor, coercing into character vector”"
     ]
    }
   ],
   "source": [
    "realTweetsNRCsentiment <- data.frame(id = as.factor(0))\n",
    "for (emotion in nrcEMOTIONS){\n",
    "    realTweetsNRCsentiment0 <- inner_join(realTweetsTOKENS, filter(nrcWORDS, sentiment == emotion))\n",
    "    realTweetsNRCsentiment <- full_join(realTweetsNRCsentiment, realTweetsNRCsentiment0)\n",
    "    }\n",
    "realTweetsNRCsentiment <- data.frame(realTweetsNRCsentiment[-1,])\n",
    "#realTweetsNRCsentiment"
   ]
  },
  {
   "cell_type": "markdown",
   "metadata": {},
   "source": [
    "> The number of word, sentiment pairs now in our data sets"
   ]
  },
  {
   "cell_type": "code",
   "execution_count": 20,
   "metadata": {},
   "outputs": [
    {
     "data": {
      "text/html": [
       "245770"
      ],
      "text/latex": [
       "245770"
      ],
      "text/markdown": [
       "245770"
      ],
      "text/plain": [
       "[1] 245770"
      ]
     },
     "metadata": {},
     "output_type": "display_data"
    },
    {
     "data": {
      "text/html": [
       "6216860"
      ],
      "text/latex": [
       "6216860"
      ],
      "text/markdown": [
       "6216860"
      ],
      "text/plain": [
       "[1] 6216860"
      ]
     },
     "metadata": {},
     "output_type": "display_data"
    }
   ],
   "source": [
    "nrow(fakeTweetsNRCsentiment)\n",
    "nrow(realTweetsNRCsentiment)"
   ]
  },
  {
   "cell_type": "markdown",
   "metadata": {},
   "source": [
    "> ### Generate *Tweet-Emotion Matrices*\n",
    "\n",
    "> We now need to generate what we are calling *Tweet-Emotion Matrices*.  In these matrices, the rows represent the tweets we have analyzed, while the columns represent the ten emotions in the **NRC Model**.  Thus, the elements of the matrix represent the strength of the emotion represented by the element's column for the tweet represented by the element's row.\n",
    "\n",
    ">> First, we do this for the fake tweets:"
   ]
  },
  {
   "cell_type": "code",
   "execution_count": 21,
   "metadata": {
    "collapsed": true
   },
   "outputs": [],
   "source": [
    "attach(fakeTweetsNRCsentiment)\n",
    "fakeNRCscoredTweets <- data.frame(table(id, sentiment), realFAKEcat = \"fake\")\n",
    "detach(fakeTweetsNRCsentiment)"
   ]
  },
  {
   "cell_type": "markdown",
   "metadata": {},
   "source": [
    ">> Then we do it for the real tweets"
   ]
  },
  {
   "cell_type": "code",
   "execution_count": 22,
   "metadata": {
    "collapsed": true
   },
   "outputs": [],
   "source": [
    "attach(realTweetsNRCsentiment)\n",
    "realNRCscoredTweets <- data.frame(table(id, sentiment), realFAKEcat = \"real\")\n",
    "detach(realTweetsNRCsentiment)"
   ]
  },
  {
   "cell_type": "markdown",
   "metadata": {},
   "source": [
    ">> We now create a combined data frame containing **_ALL_** tweets, both real and fake"
   ]
  },
  {
   "cell_type": "code",
   "execution_count": 23,
   "metadata": {
    "collapsed": true
   },
   "outputs": [],
   "source": [
    "NRCscoredTweets <- rbind(fakeNRCscoredTweets, realNRCscoredTweets)"
   ]
  },
  {
   "cell_type": "markdown",
   "metadata": {},
   "source": [
    ">> Using this data frame, we create \"data *sub*-frames\" to store the frequency data for each emotion covered by the **NRC Model**:"
   ]
  },
  {
   "cell_type": "code",
   "execution_count": 40,
   "metadata": {
    "collapsed": true
   },
   "outputs": [],
   "source": [
    "trustScores <- data.frame(id = filter(NRCscoredTweets, sentiment == \"trust\")$id, trust = filter(NRCscoredTweets, sentiment == \"trust\")$Freq)\n",
    "fearScores <- data.frame(id = filter(NRCscoredTweets, sentiment == \"fear\")$id, fear = filter(NRCscoredTweets, sentiment == \"fear\")$Freq)\n",
    "negScores <- data.frame(id = filter(NRCscoredTweets, sentiment == \"negative\")$id, negative = filter(NRCscoredTweets, sentiment == \"negative\")$Freq)\n",
    "sadnessScores <- data.frame(id = filter(NRCscoredTweets, sentiment == \"sadness\")$id, sadness = filter(NRCscoredTweets, sentiment == \"sadness\")$Freq)\n",
    "angerScores <- data.frame(id = filter(NRCscoredTweets, sentiment == \"anger\")$id, anger = filter(NRCscoredTweets, sentiment == \"anger\")$Freq)\n",
    "surpriseScores <- data.frame(id = filter(NRCscoredTweets, sentiment == \"surprise\")$id, surprise = filter(NRCscoredTweets, sentiment == \"surprise\")$Freq)\n",
    "posScores <- data.frame(id = filter(NRCscoredTweets, sentiment == \"positive\")$id, positive = filter(NRCscoredTweets, sentiment == \"positive\")$Freq)\n",
    "disgustScores <- data.frame(id = filter(NRCscoredTweets, sentiment == \"disgust\")$id, disgust = filter(NRCscoredTweets, sentiment == \"disgust\")$Freq)\n",
    "joyScores <- data.frame(id = filter(NRCscoredTweets, sentiment == \"joy\")$id, joy = filter(NRCscoredTweets, sentiment == \"joy\")$Freq)\n",
    "anticipationScores <- data.frame(id = filter(NRCscoredTweets, sentiment == \"anticipation\")$id, anticipation = filter(NRCscoredTweets, sentiment == \"anticipation\")$Freq, realFAKEcat = filter(NRCscoredTweets, sentiment == \"anticipation\")$realFAKEcat)"
   ]
  },
  {
   "cell_type": "markdown",
   "metadata": {},
   "source": [
    ">> These \"data *sub*-frames\" are now combined by the tweet id represented by each row to give the final **_Tweet-Emotion Matrix_**."
   ]
  },
  {
   "cell_type": "code",
   "execution_count": 45,
   "metadata": {
    "scrolled": true
   },
   "outputs": [
    {
     "name": "stderr",
     "output_type": "stream",
     "text": [
      "Joining, by = \"id\"\n",
      "Joining, by = \"id\"\n",
      "Joining, by = \"id\"\n",
      "Joining, by = \"id\"\n",
      "Joining, by = \"id\"\n",
      "Joining, by = \"id\"\n",
      "Joining, by = \"id\"\n",
      "Joining, by = \"id\"\n",
      "Joining, by = \"id\"\n"
     ]
    }
   ],
   "source": [
    "nrcSCORES <- full_join(trustScores, full_join(fearScores, full_join(negScores, full_join(sadnessScores, full_join(angerScores, full_join(surpriseScores, full_join(posScores, full_join(disgustScores, full_join(joyScores, anticipationScores)))))))))"
   ]
  },
  {
   "cell_type": "markdown",
   "metadata": {},
   "source": [
    "> ### Look at the table\n",
    "\n",
    "> We now get a quick look at the layout of our table to ensure its what we want"
   ]
  },
  {
   "cell_type": "code",
   "execution_count": 46,
   "metadata": {},
   "outputs": [
    {
     "data": {
      "text/html": [
       "<table>\n",
       "<thead><tr><th scope=col>id</th><th scope=col>trust</th><th scope=col>fear</th><th scope=col>negative</th><th scope=col>sadness</th><th scope=col>anger</th><th scope=col>surprise</th><th scope=col>positive</th><th scope=col>disgust</th><th scope=col>joy</th><th scope=col>anticipation</th><th scope=col>realFAKEcat</th></tr></thead>\n",
       "<tbody>\n",
       "\t<tr><td>1023861511</td><td>1         </td><td>0         </td><td>0         </td><td>0         </td><td>0         </td><td>0         </td><td>0         </td><td>0         </td><td>0         </td><td>0         </td><td>fake      </td></tr>\n",
       "\t<tr><td>1183192955</td><td>0         </td><td>1         </td><td>1         </td><td>0         </td><td>0         </td><td>0         </td><td>0         </td><td>0         </td><td>0         </td><td>0         </td><td>fake      </td></tr>\n",
       "\t<tr><td>1189773795</td><td>0         </td><td>0         </td><td>1         </td><td>1         </td><td>0         </td><td>0         </td><td>0         </td><td>0         </td><td>0         </td><td>0         </td><td>fake      </td></tr>\n",
       "\t<tr><td>1204599498</td><td>0         </td><td>0         </td><td>0         </td><td>0         </td><td>0         </td><td>0         </td><td>1         </td><td>0         </td><td>0         </td><td>0         </td><td>fake      </td></tr>\n",
       "\t<tr><td>1210430389</td><td>2         </td><td>0         </td><td>0         </td><td>1         </td><td>0         </td><td>1         </td><td>4         </td><td>0         </td><td>2         </td><td>2         </td><td>fake      </td></tr>\n",
       "\t<tr><td>1213317158</td><td>1         </td><td>0         </td><td>0         </td><td>1         </td><td>0         </td><td>1         </td><td>2         </td><td>0         </td><td>1         </td><td>1         </td><td>fake      </td></tr>\n",
       "\t<tr><td>1226758528</td><td>1         </td><td>0         </td><td>0         </td><td>0         </td><td>0         </td><td>0         </td><td>1         </td><td>0         </td><td>0         </td><td>0         </td><td>fake      </td></tr>\n",
       "\t<tr><td>1230802453</td><td>0         </td><td>1         </td><td>1         </td><td>1         </td><td>0         </td><td>0         </td><td>0         </td><td>1         </td><td>0         </td><td>0         </td><td>fake      </td></tr>\n",
       "\t<tr><td>1235967720</td><td>0         </td><td>0         </td><td>0         </td><td>0         </td><td>0         </td><td>0         </td><td>1         </td><td>0         </td><td>0         </td><td>0         </td><td>fake      </td></tr>\n",
       "\t<tr><td>1248303008</td><td>0         </td><td>0         </td><td>0         </td><td>0         </td><td>0         </td><td>0         </td><td>0         </td><td>0         </td><td>0         </td><td>1         </td><td>fake      </td></tr>\n",
       "\t<tr><td>1248315583</td><td>1         </td><td>0         </td><td>0         </td><td>0         </td><td>0         </td><td>1         </td><td>1         </td><td>1         </td><td>1         </td><td>1         </td><td>fake      </td></tr>\n",
       "\t<tr><td>1257268832</td><td>1         </td><td>0         </td><td>0         </td><td>0         </td><td>0         </td><td>1         </td><td>1         </td><td>1         </td><td>1         </td><td>1         </td><td>fake      </td></tr>\n",
       "\t<tr><td>1261824330</td><td>1         </td><td>0         </td><td>0         </td><td>0         </td><td>0         </td><td>0         </td><td>1         </td><td>0         </td><td>1         </td><td>1         </td><td>fake      </td></tr>\n",
       "\t<tr><td>1265670629</td><td>1         </td><td>0         </td><td>0         </td><td>0         </td><td>0         </td><td>1         </td><td>1         </td><td>0         </td><td>1         </td><td>1         </td><td>fake      </td></tr>\n",
       "\t<tr><td>1273331935</td><td>0         </td><td>0         </td><td>0         </td><td>0         </td><td>0         </td><td>0         </td><td>1         </td><td>0         </td><td>0         </td><td>0         </td><td>fake      </td></tr>\n",
       "\t<tr><td>1274028569</td><td>0         </td><td>0         </td><td>1         </td><td>0         </td><td>0         </td><td>0         </td><td>0         </td><td>0         </td><td>0         </td><td>0         </td><td>fake      </td></tr>\n",
       "\t<tr><td>1277870540</td><td>1         </td><td>0         </td><td>0         </td><td>0         </td><td>0         </td><td>0         </td><td>1         </td><td>0         </td><td>1         </td><td>1         </td><td>fake      </td></tr>\n",
       "\t<tr><td>1284091600</td><td>0         </td><td>0         </td><td>1         </td><td>0         </td><td>1         </td><td>0         </td><td>0         </td><td>1         </td><td>0         </td><td>0         </td><td>fake      </td></tr>\n",
       "\t<tr><td>1317142395</td><td>0         </td><td>1         </td><td>1         </td><td>1         </td><td>1         </td><td>1         </td><td>0         </td><td>1         </td><td>0         </td><td>1         </td><td>fake      </td></tr>\n",
       "\t<tr><td>1330704084</td><td>0         </td><td>0         </td><td>0         </td><td>0         </td><td>0         </td><td>0         </td><td>0         </td><td>0         </td><td>0         </td><td>1         </td><td>fake      </td></tr>\n",
       "\t<tr><td>1330730973</td><td>2         </td><td>2         </td><td>4         </td><td>3         </td><td>2         </td><td>1         </td><td>2         </td><td>1         </td><td>2         </td><td>1         </td><td>fake      </td></tr>\n",
       "\t<tr><td>1330737617</td><td>1         </td><td>0         </td><td>0         </td><td>0         </td><td>0         </td><td>1         </td><td>2         </td><td>0         </td><td>1         </td><td>1         </td><td>fake      </td></tr>\n",
       "\t<tr><td>1330765639</td><td>0         </td><td>1         </td><td>1         </td><td>1         </td><td>0         </td><td>0         </td><td>0         </td><td>0         </td><td>0         </td><td>0         </td><td>fake      </td></tr>\n",
       "\t<tr><td>1348853138</td><td>0         </td><td>1         </td><td>1         </td><td>1         </td><td>0         </td><td>0         </td><td>0         </td><td>0         </td><td>0         </td><td>0         </td><td>fake      </td></tr>\n",
       "\t<tr><td>1387782384</td><td>1         </td><td>0         </td><td>0         </td><td>0         </td><td>0         </td><td>0         </td><td>2         </td><td>0         </td><td>1         </td><td>0         </td><td>fake      </td></tr>\n",
       "\t<tr><td>1392546412</td><td>0         </td><td>0         </td><td>0         </td><td>0         </td><td>0         </td><td>0         </td><td>0         </td><td>0         </td><td>0         </td><td>1         </td><td>fake      </td></tr>\n",
       "\t<tr><td>1395106681</td><td>0         </td><td>0         </td><td>0         </td><td>1         </td><td>0         </td><td>0         </td><td>0         </td><td>0         </td><td>0         </td><td>1         </td><td>fake      </td></tr>\n",
       "\t<tr><td>1395201197</td><td>1         </td><td>0         </td><td>0         </td><td>0         </td><td>0         </td><td>0         </td><td>1         </td><td>0         </td><td>1         </td><td>2         </td><td>fake      </td></tr>\n",
       "\t<tr><td>1395209740</td><td>0         </td><td>0         </td><td>1         </td><td>0         </td><td>1         </td><td>0         </td><td>1         </td><td>1         </td><td>1         </td><td>1         </td><td>fake      </td></tr>\n",
       "\t<tr><td>1427927588</td><td>0         </td><td>0         </td><td>1         </td><td>1         </td><td>0         </td><td>0         </td><td>0         </td><td>1         </td><td>0         </td><td>0         </td><td>fake      </td></tr>\n",
       "\t<tr><td>⋮</td><td>⋮</td><td>⋮</td><td>⋮</td><td>⋮</td><td>⋮</td><td>⋮</td><td>⋮</td><td>⋮</td><td>⋮</td><td>⋮</td><td>⋮</td></tr>\n",
       "\t<tr><td>99892075553763329</td><td>1                </td><td>0                </td><td>0                </td><td>0                </td><td>0                </td><td>0                </td><td>0                </td><td>0                </td><td>0                </td><td>1                </td><td>real             </td></tr>\n",
       "\t<tr><td>99892864728834048</td><td>0                </td><td>0                </td><td>0                </td><td>0                </td><td>0                </td><td>0                </td><td>1                </td><td>0                </td><td>1                </td><td>0                </td><td>real             </td></tr>\n",
       "\t<tr><td>99893394159050752</td><td>0                </td><td>0                </td><td>0                </td><td>0                </td><td>0                </td><td>0                </td><td>0                </td><td>1                </td><td>0                </td><td>0                </td><td>real             </td></tr>\n",
       "\t<tr><td>99895706571116544</td><td>1                </td><td>0                </td><td>0                </td><td>0                </td><td>0                </td><td>1                </td><td>1                </td><td>0                </td><td>1                </td><td>1                </td><td>real             </td></tr>\n",
       "\t<tr><td>99896158566096896</td><td>0                </td><td>0                </td><td>0                </td><td>0                </td><td>0                </td><td>0                </td><td>1                </td><td>0                </td><td>0                </td><td>0                </td><td>real             </td></tr>\n",
       "\t<tr><td>99898235065339904</td><td>0                </td><td>1                </td><td>1                </td><td>1                </td><td>1                </td><td>0                </td><td>0                </td><td>1                </td><td>0                </td><td>0                </td><td>real             </td></tr>\n",
       "\t<tr><td>99899088346152961</td><td>1                </td><td>0                </td><td>0                </td><td>0                </td><td>0                </td><td>0                </td><td>1                </td><td>0                </td><td>0                </td><td>1                </td><td>real             </td></tr>\n",
       "\t<tr><td>99902661935104002</td><td>1                </td><td>0                </td><td>1                </td><td>0                </td><td>0                </td><td>0                </td><td>0                </td><td>0                </td><td>0                </td><td>0                </td><td>real             </td></tr>\n",
       "\t<tr><td>999098069        </td><td>0                </td><td>0                </td><td>0                </td><td>0                </td><td>0                </td><td>0                </td><td>0                </td><td>0                </td><td>0                </td><td>1                </td><td>real             </td></tr>\n",
       "\t<tr><td>9991511556       </td><td>0                </td><td>1                </td><td>1                </td><td>0                </td><td>1                </td><td>1                </td><td>0                </td><td>0                </td><td>0                </td><td>0                </td><td>real             </td></tr>\n",
       "\t<tr><td>99916019371474944</td><td>1                </td><td>0                </td><td>0                </td><td>0                </td><td>0                </td><td>0                </td><td>0                </td><td>0                </td><td>0                </td><td>1                </td><td>real             </td></tr>\n",
       "\t<tr><td>9991845064       </td><td>0                </td><td>1                </td><td>1                </td><td>1                </td><td>0                </td><td>0                </td><td>0                </td><td>0                </td><td>0                </td><td>0                </td><td>real             </td></tr>\n",
       "\t<tr><td>99921540782632961</td><td>0                </td><td>0                </td><td>0                </td><td>0                </td><td>0                </td><td>0                </td><td>1                </td><td>0                </td><td>0                </td><td>0                </td><td>real             </td></tr>\n",
       "\t<tr><td>9992920426       </td><td>1                </td><td>0                </td><td>0                </td><td>0                </td><td>0                </td><td>0                </td><td>1                </td><td>0                </td><td>0                </td><td>0                </td><td>real             </td></tr>\n",
       "\t<tr><td>999335623        </td><td>1                </td><td>0                </td><td>0                </td><td>0                </td><td>0                </td><td>0                </td><td>0                </td><td>0                </td><td>0                </td><td>0                </td><td>real             </td></tr>\n",
       "\t<tr><td>9993556940       </td><td>2                </td><td>0                </td><td>0                </td><td>0                </td><td>0                </td><td>0                </td><td>1                </td><td>0                </td><td>1                </td><td>1                </td><td>real             </td></tr>\n",
       "\t<tr><td>999454921        </td><td>1                </td><td>0                </td><td>0                </td><td>0                </td><td>0                </td><td>0                </td><td>1                </td><td>0                </td><td>1                </td><td>0                </td><td>real             </td></tr>\n",
       "\t<tr><td>99945739437879296</td><td>0                </td><td>0                </td><td>0                </td><td>0                </td><td>0                </td><td>1                </td><td>1                </td><td>0                </td><td>0                </td><td>0                </td><td>real             </td></tr>\n",
       "\t<tr><td>999458614        </td><td>0                </td><td>0                </td><td>0                </td><td>0                </td><td>0                </td><td>1                </td><td>2                </td><td>0                </td><td>1                </td><td>1                </td><td>real             </td></tr>\n",
       "\t<tr><td>999475920        </td><td>0                </td><td>0                </td><td>0                </td><td>0                </td><td>0                </td><td>0                </td><td>0                </td><td>0                </td><td>0                </td><td>1                </td><td>real             </td></tr>\n",
       "\t<tr><td>99948350484381697</td><td>0                </td><td>0                </td><td>1                </td><td>0                </td><td>0                </td><td>0                </td><td>1                </td><td>0                </td><td>0                </td><td>1                </td><td>real             </td></tr>\n",
       "\t<tr><td>99949142712918017</td><td>0                </td><td>1                </td><td>2                </td><td>1                </td><td>2                </td><td>0                </td><td>0                </td><td>1                </td><td>0                </td><td>0                </td><td>real             </td></tr>\n",
       "\t<tr><td>99953361541005312</td><td>0                </td><td>0                </td><td>0                </td><td>0                </td><td>0                </td><td>0                </td><td>0                </td><td>0                </td><td>0                </td><td>2                </td><td>real             </td></tr>\n",
       "\t<tr><td>99958248064557057</td><td>1                </td><td>0                </td><td>0                </td><td>0                </td><td>0                </td><td>1                </td><td>1                </td><td>0                </td><td>1                </td><td>2                </td><td>real             </td></tr>\n",
       "\t<tr><td>9996364068       </td><td>0                </td><td>0                </td><td>0                </td><td>0                </td><td>0                </td><td>0                </td><td>1                </td><td>0                </td><td>0                </td><td>0                </td><td>real             </td></tr>\n",
       "\t<tr><td>999682705        </td><td>0                </td><td>0                </td><td>0                </td><td>0                </td><td>0                </td><td>0                </td><td>1                </td><td>0                </td><td>0                </td><td>0                </td><td>real             </td></tr>\n",
       "\t<tr><td>99973790699753473</td><td>0                </td><td>0                </td><td>0                </td><td>0                </td><td>0                </td><td>0                </td><td>1                </td><td>0                </td><td>0                </td><td>0                </td><td>real             </td></tr>\n",
       "\t<tr><td>9998069706       </td><td>0                </td><td>0                </td><td>1                </td><td>0                </td><td>1                </td><td>0                </td><td>0                </td><td>0                </td><td>0                </td><td>0                </td><td>real             </td></tr>\n",
       "\t<tr><td>9998131050       </td><td>1                </td><td>0                </td><td>0                </td><td>0                </td><td>0                </td><td>0                </td><td>1                </td><td>0                </td><td>0                </td><td>0                </td><td>real             </td></tr>\n",
       "\t<tr><td>99986578054717440</td><td>0                </td><td>1                </td><td>1                </td><td>1                </td><td>1                </td><td>0                </td><td>0                </td><td>1                </td><td>0                </td><td>0                </td><td>real             </td></tr>\n",
       "</tbody>\n",
       "</table>\n"
      ],
      "text/latex": [
       "\\begin{tabular}{r|llllllllllll}\n",
       " id & trust & fear & negative & sadness & anger & surprise & positive & disgust & joy & anticipation & realFAKEcat\\\\\n",
       "\\hline\n",
       "\t 1023861511 & 1          & 0          & 0          & 0          & 0          & 0          & 0          & 0          & 0          & 0          & fake      \\\\\n",
       "\t 1183192955 & 0          & 1          & 1          & 0          & 0          & 0          & 0          & 0          & 0          & 0          & fake      \\\\\n",
       "\t 1189773795 & 0          & 0          & 1          & 1          & 0          & 0          & 0          & 0          & 0          & 0          & fake      \\\\\n",
       "\t 1204599498 & 0          & 0          & 0          & 0          & 0          & 0          & 1          & 0          & 0          & 0          & fake      \\\\\n",
       "\t 1210430389 & 2          & 0          & 0          & 1          & 0          & 1          & 4          & 0          & 2          & 2          & fake      \\\\\n",
       "\t 1213317158 & 1          & 0          & 0          & 1          & 0          & 1          & 2          & 0          & 1          & 1          & fake      \\\\\n",
       "\t 1226758528 & 1          & 0          & 0          & 0          & 0          & 0          & 1          & 0          & 0          & 0          & fake      \\\\\n",
       "\t 1230802453 & 0          & 1          & 1          & 1          & 0          & 0          & 0          & 1          & 0          & 0          & fake      \\\\\n",
       "\t 1235967720 & 0          & 0          & 0          & 0          & 0          & 0          & 1          & 0          & 0          & 0          & fake      \\\\\n",
       "\t 1248303008 & 0          & 0          & 0          & 0          & 0          & 0          & 0          & 0          & 0          & 1          & fake      \\\\\n",
       "\t 1248315583 & 1          & 0          & 0          & 0          & 0          & 1          & 1          & 1          & 1          & 1          & fake      \\\\\n",
       "\t 1257268832 & 1          & 0          & 0          & 0          & 0          & 1          & 1          & 1          & 1          & 1          & fake      \\\\\n",
       "\t 1261824330 & 1          & 0          & 0          & 0          & 0          & 0          & 1          & 0          & 1          & 1          & fake      \\\\\n",
       "\t 1265670629 & 1          & 0          & 0          & 0          & 0          & 1          & 1          & 0          & 1          & 1          & fake      \\\\\n",
       "\t 1273331935 & 0          & 0          & 0          & 0          & 0          & 0          & 1          & 0          & 0          & 0          & fake      \\\\\n",
       "\t 1274028569 & 0          & 0          & 1          & 0          & 0          & 0          & 0          & 0          & 0          & 0          & fake      \\\\\n",
       "\t 1277870540 & 1          & 0          & 0          & 0          & 0          & 0          & 1          & 0          & 1          & 1          & fake      \\\\\n",
       "\t 1284091600 & 0          & 0          & 1          & 0          & 1          & 0          & 0          & 1          & 0          & 0          & fake      \\\\\n",
       "\t 1317142395 & 0          & 1          & 1          & 1          & 1          & 1          & 0          & 1          & 0          & 1          & fake      \\\\\n",
       "\t 1330704084 & 0          & 0          & 0          & 0          & 0          & 0          & 0          & 0          & 0          & 1          & fake      \\\\\n",
       "\t 1330730973 & 2          & 2          & 4          & 3          & 2          & 1          & 2          & 1          & 2          & 1          & fake      \\\\\n",
       "\t 1330737617 & 1          & 0          & 0          & 0          & 0          & 1          & 2          & 0          & 1          & 1          & fake      \\\\\n",
       "\t 1330765639 & 0          & 1          & 1          & 1          & 0          & 0          & 0          & 0          & 0          & 0          & fake      \\\\\n",
       "\t 1348853138 & 0          & 1          & 1          & 1          & 0          & 0          & 0          & 0          & 0          & 0          & fake      \\\\\n",
       "\t 1387782384 & 1          & 0          & 0          & 0          & 0          & 0          & 2          & 0          & 1          & 0          & fake      \\\\\n",
       "\t 1392546412 & 0          & 0          & 0          & 0          & 0          & 0          & 0          & 0          & 0          & 1          & fake      \\\\\n",
       "\t 1395106681 & 0          & 0          & 0          & 1          & 0          & 0          & 0          & 0          & 0          & 1          & fake      \\\\\n",
       "\t 1395201197 & 1          & 0          & 0          & 0          & 0          & 0          & 1          & 0          & 1          & 2          & fake      \\\\\n",
       "\t 1395209740 & 0          & 0          & 1          & 0          & 1          & 0          & 1          & 1          & 1          & 1          & fake      \\\\\n",
       "\t 1427927588 & 0          & 0          & 1          & 1          & 0          & 0          & 0          & 1          & 0          & 0          & fake      \\\\\n",
       "\t ⋮ & ⋮ & ⋮ & ⋮ & ⋮ & ⋮ & ⋮ & ⋮ & ⋮ & ⋮ & ⋮ & ⋮\\\\\n",
       "\t 99892075553763329 & 1                 & 0                 & 0                 & 0                 & 0                 & 0                 & 0                 & 0                 & 0                 & 1                 & real             \\\\\n",
       "\t 99892864728834048 & 0                 & 0                 & 0                 & 0                 & 0                 & 0                 & 1                 & 0                 & 1                 & 0                 & real             \\\\\n",
       "\t 99893394159050752 & 0                 & 0                 & 0                 & 0                 & 0                 & 0                 & 0                 & 1                 & 0                 & 0                 & real             \\\\\n",
       "\t 99895706571116544 & 1                 & 0                 & 0                 & 0                 & 0                 & 1                 & 1                 & 0                 & 1                 & 1                 & real             \\\\\n",
       "\t 99896158566096896 & 0                 & 0                 & 0                 & 0                 & 0                 & 0                 & 1                 & 0                 & 0                 & 0                 & real             \\\\\n",
       "\t 99898235065339904 & 0                 & 1                 & 1                 & 1                 & 1                 & 0                 & 0                 & 1                 & 0                 & 0                 & real             \\\\\n",
       "\t 99899088346152961 & 1                 & 0                 & 0                 & 0                 & 0                 & 0                 & 1                 & 0                 & 0                 & 1                 & real             \\\\\n",
       "\t 99902661935104002 & 1                 & 0                 & 1                 & 0                 & 0                 & 0                 & 0                 & 0                 & 0                 & 0                 & real             \\\\\n",
       "\t 999098069         & 0                 & 0                 & 0                 & 0                 & 0                 & 0                 & 0                 & 0                 & 0                 & 1                 & real             \\\\\n",
       "\t 9991511556        & 0                 & 1                 & 1                 & 0                 & 1                 & 1                 & 0                 & 0                 & 0                 & 0                 & real             \\\\\n",
       "\t 99916019371474944 & 1                 & 0                 & 0                 & 0                 & 0                 & 0                 & 0                 & 0                 & 0                 & 1                 & real             \\\\\n",
       "\t 9991845064        & 0                 & 1                 & 1                 & 1                 & 0                 & 0                 & 0                 & 0                 & 0                 & 0                 & real             \\\\\n",
       "\t 99921540782632961 & 0                 & 0                 & 0                 & 0                 & 0                 & 0                 & 1                 & 0                 & 0                 & 0                 & real             \\\\\n",
       "\t 9992920426        & 1                 & 0                 & 0                 & 0                 & 0                 & 0                 & 1                 & 0                 & 0                 & 0                 & real             \\\\\n",
       "\t 999335623         & 1                 & 0                 & 0                 & 0                 & 0                 & 0                 & 0                 & 0                 & 0                 & 0                 & real             \\\\\n",
       "\t 9993556940        & 2                 & 0                 & 0                 & 0                 & 0                 & 0                 & 1                 & 0                 & 1                 & 1                 & real             \\\\\n",
       "\t 999454921         & 1                 & 0                 & 0                 & 0                 & 0                 & 0                 & 1                 & 0                 & 1                 & 0                 & real             \\\\\n",
       "\t 99945739437879296 & 0                 & 0                 & 0                 & 0                 & 0                 & 1                 & 1                 & 0                 & 0                 & 0                 & real             \\\\\n",
       "\t 999458614         & 0                 & 0                 & 0                 & 0                 & 0                 & 1                 & 2                 & 0                 & 1                 & 1                 & real             \\\\\n",
       "\t 999475920         & 0                 & 0                 & 0                 & 0                 & 0                 & 0                 & 0                 & 0                 & 0                 & 1                 & real             \\\\\n",
       "\t 99948350484381697 & 0                 & 0                 & 1                 & 0                 & 0                 & 0                 & 1                 & 0                 & 0                 & 1                 & real             \\\\\n",
       "\t 99949142712918017 & 0                 & 1                 & 2                 & 1                 & 2                 & 0                 & 0                 & 1                 & 0                 & 0                 & real             \\\\\n",
       "\t 99953361541005312 & 0                 & 0                 & 0                 & 0                 & 0                 & 0                 & 0                 & 0                 & 0                 & 2                 & real             \\\\\n",
       "\t 99958248064557057 & 1                 & 0                 & 0                 & 0                 & 0                 & 1                 & 1                 & 0                 & 1                 & 2                 & real             \\\\\n",
       "\t 9996364068        & 0                 & 0                 & 0                 & 0                 & 0                 & 0                 & 1                 & 0                 & 0                 & 0                 & real             \\\\\n",
       "\t 999682705         & 0                 & 0                 & 0                 & 0                 & 0                 & 0                 & 1                 & 0                 & 0                 & 0                 & real             \\\\\n",
       "\t 99973790699753473 & 0                 & 0                 & 0                 & 0                 & 0                 & 0                 & 1                 & 0                 & 0                 & 0                 & real             \\\\\n",
       "\t 9998069706        & 0                 & 0                 & 1                 & 0                 & 1                 & 0                 & 0                 & 0                 & 0                 & 0                 & real             \\\\\n",
       "\t 9998131050        & 1                 & 0                 & 0                 & 0                 & 0                 & 0                 & 1                 & 0                 & 0                 & 0                 & real             \\\\\n",
       "\t 99986578054717440 & 0                 & 1                 & 1                 & 1                 & 1                 & 0                 & 0                 & 1                 & 0                 & 0                 & real             \\\\\n",
       "\\end{tabular}\n"
      ],
      "text/markdown": [
       "\n",
       "id | trust | fear | negative | sadness | anger | surprise | positive | disgust | joy | anticipation | realFAKEcat | \n",
       "|---|---|---|---|---|---|---|---|---|---|---|---|---|---|---|---|---|---|---|---|---|---|---|---|---|---|---|---|---|---|---|---|---|---|---|---|---|---|---|---|---|---|---|---|---|---|---|---|---|---|---|---|---|---|---|---|---|---|---|---|---|\n",
       "| 1023861511 | 1          | 0          | 0          | 0          | 0          | 0          | 0          | 0          | 0          | 0          | fake       | \n",
       "| 1183192955 | 0          | 1          | 1          | 0          | 0          | 0          | 0          | 0          | 0          | 0          | fake       | \n",
       "| 1189773795 | 0          | 0          | 1          | 1          | 0          | 0          | 0          | 0          | 0          | 0          | fake       | \n",
       "| 1204599498 | 0          | 0          | 0          | 0          | 0          | 0          | 1          | 0          | 0          | 0          | fake       | \n",
       "| 1210430389 | 2          | 0          | 0          | 1          | 0          | 1          | 4          | 0          | 2          | 2          | fake       | \n",
       "| 1213317158 | 1          | 0          | 0          | 1          | 0          | 1          | 2          | 0          | 1          | 1          | fake       | \n",
       "| 1226758528 | 1          | 0          | 0          | 0          | 0          | 0          | 1          | 0          | 0          | 0          | fake       | \n",
       "| 1230802453 | 0          | 1          | 1          | 1          | 0          | 0          | 0          | 1          | 0          | 0          | fake       | \n",
       "| 1235967720 | 0          | 0          | 0          | 0          | 0          | 0          | 1          | 0          | 0          | 0          | fake       | \n",
       "| 1248303008 | 0          | 0          | 0          | 0          | 0          | 0          | 0          | 0          | 0          | 1          | fake       | \n",
       "| 1248315583 | 1          | 0          | 0          | 0          | 0          | 1          | 1          | 1          | 1          | 1          | fake       | \n",
       "| 1257268832 | 1          | 0          | 0          | 0          | 0          | 1          | 1          | 1          | 1          | 1          | fake       | \n",
       "| 1261824330 | 1          | 0          | 0          | 0          | 0          | 0          | 1          | 0          | 1          | 1          | fake       | \n",
       "| 1265670629 | 1          | 0          | 0          | 0          | 0          | 1          | 1          | 0          | 1          | 1          | fake       | \n",
       "| 1273331935 | 0          | 0          | 0          | 0          | 0          | 0          | 1          | 0          | 0          | 0          | fake       | \n",
       "| 1274028569 | 0          | 0          | 1          | 0          | 0          | 0          | 0          | 0          | 0          | 0          | fake       | \n",
       "| 1277870540 | 1          | 0          | 0          | 0          | 0          | 0          | 1          | 0          | 1          | 1          | fake       | \n",
       "| 1284091600 | 0          | 0          | 1          | 0          | 1          | 0          | 0          | 1          | 0          | 0          | fake       | \n",
       "| 1317142395 | 0          | 1          | 1          | 1          | 1          | 1          | 0          | 1          | 0          | 1          | fake       | \n",
       "| 1330704084 | 0          | 0          | 0          | 0          | 0          | 0          | 0          | 0          | 0          | 1          | fake       | \n",
       "| 1330730973 | 2          | 2          | 4          | 3          | 2          | 1          | 2          | 1          | 2          | 1          | fake       | \n",
       "| 1330737617 | 1          | 0          | 0          | 0          | 0          | 1          | 2          | 0          | 1          | 1          | fake       | \n",
       "| 1330765639 | 0          | 1          | 1          | 1          | 0          | 0          | 0          | 0          | 0          | 0          | fake       | \n",
       "| 1348853138 | 0          | 1          | 1          | 1          | 0          | 0          | 0          | 0          | 0          | 0          | fake       | \n",
       "| 1387782384 | 1          | 0          | 0          | 0          | 0          | 0          | 2          | 0          | 1          | 0          | fake       | \n",
       "| 1392546412 | 0          | 0          | 0          | 0          | 0          | 0          | 0          | 0          | 0          | 1          | fake       | \n",
       "| 1395106681 | 0          | 0          | 0          | 1          | 0          | 0          | 0          | 0          | 0          | 1          | fake       | \n",
       "| 1395201197 | 1          | 0          | 0          | 0          | 0          | 0          | 1          | 0          | 1          | 2          | fake       | \n",
       "| 1395209740 | 0          | 0          | 1          | 0          | 1          | 0          | 1          | 1          | 1          | 1          | fake       | \n",
       "| 1427927588 | 0          | 0          | 1          | 1          | 0          | 0          | 0          | 1          | 0          | 0          | fake       | \n",
       "| ⋮ | ⋮ | ⋮ | ⋮ | ⋮ | ⋮ | ⋮ | ⋮ | ⋮ | ⋮ | ⋮ | ⋮ | \n",
       "| 99892075553763329 | 1                 | 0                 | 0                 | 0                 | 0                 | 0                 | 0                 | 0                 | 0                 | 1                 | real              | \n",
       "| 99892864728834048 | 0                 | 0                 | 0                 | 0                 | 0                 | 0                 | 1                 | 0                 | 1                 | 0                 | real              | \n",
       "| 99893394159050752 | 0                 | 0                 | 0                 | 0                 | 0                 | 0                 | 0                 | 1                 | 0                 | 0                 | real              | \n",
       "| 99895706571116544 | 1                 | 0                 | 0                 | 0                 | 0                 | 1                 | 1                 | 0                 | 1                 | 1                 | real              | \n",
       "| 99896158566096896 | 0                 | 0                 | 0                 | 0                 | 0                 | 0                 | 1                 | 0                 | 0                 | 0                 | real              | \n",
       "| 99898235065339904 | 0                 | 1                 | 1                 | 1                 | 1                 | 0                 | 0                 | 1                 | 0                 | 0                 | real              | \n",
       "| 99899088346152961 | 1                 | 0                 | 0                 | 0                 | 0                 | 0                 | 1                 | 0                 | 0                 | 1                 | real              | \n",
       "| 99902661935104002 | 1                 | 0                 | 1                 | 0                 | 0                 | 0                 | 0                 | 0                 | 0                 | 0                 | real              | \n",
       "| 999098069         | 0                 | 0                 | 0                 | 0                 | 0                 | 0                 | 0                 | 0                 | 0                 | 1                 | real              | \n",
       "| 9991511556        | 0                 | 1                 | 1                 | 0                 | 1                 | 1                 | 0                 | 0                 | 0                 | 0                 | real              | \n",
       "| 99916019371474944 | 1                 | 0                 | 0                 | 0                 | 0                 | 0                 | 0                 | 0                 | 0                 | 1                 | real              | \n",
       "| 9991845064        | 0                 | 1                 | 1                 | 1                 | 0                 | 0                 | 0                 | 0                 | 0                 | 0                 | real              | \n",
       "| 99921540782632961 | 0                 | 0                 | 0                 | 0                 | 0                 | 0                 | 1                 | 0                 | 0                 | 0                 | real              | \n",
       "| 9992920426        | 1                 | 0                 | 0                 | 0                 | 0                 | 0                 | 1                 | 0                 | 0                 | 0                 | real              | \n",
       "| 999335623         | 1                 | 0                 | 0                 | 0                 | 0                 | 0                 | 0                 | 0                 | 0                 | 0                 | real              | \n",
       "| 9993556940        | 2                 | 0                 | 0                 | 0                 | 0                 | 0                 | 1                 | 0                 | 1                 | 1                 | real              | \n",
       "| 999454921         | 1                 | 0                 | 0                 | 0                 | 0                 | 0                 | 1                 | 0                 | 1                 | 0                 | real              | \n",
       "| 99945739437879296 | 0                 | 0                 | 0                 | 0                 | 0                 | 1                 | 1                 | 0                 | 0                 | 0                 | real              | \n",
       "| 999458614         | 0                 | 0                 | 0                 | 0                 | 0                 | 1                 | 2                 | 0                 | 1                 | 1                 | real              | \n",
       "| 999475920         | 0                 | 0                 | 0                 | 0                 | 0                 | 0                 | 0                 | 0                 | 0                 | 1                 | real              | \n",
       "| 99948350484381697 | 0                 | 0                 | 1                 | 0                 | 0                 | 0                 | 1                 | 0                 | 0                 | 1                 | real              | \n",
       "| 99949142712918017 | 0                 | 1                 | 2                 | 1                 | 2                 | 0                 | 0                 | 1                 | 0                 | 0                 | real              | \n",
       "| 99953361541005312 | 0                 | 0                 | 0                 | 0                 | 0                 | 0                 | 0                 | 0                 | 0                 | 2                 | real              | \n",
       "| 99958248064557057 | 1                 | 0                 | 0                 | 0                 | 0                 | 1                 | 1                 | 0                 | 1                 | 2                 | real              | \n",
       "| 9996364068        | 0                 | 0                 | 0                 | 0                 | 0                 | 0                 | 1                 | 0                 | 0                 | 0                 | real              | \n",
       "| 999682705         | 0                 | 0                 | 0                 | 0                 | 0                 | 0                 | 1                 | 0                 | 0                 | 0                 | real              | \n",
       "| 99973790699753473 | 0                 | 0                 | 0                 | 0                 | 0                 | 0                 | 1                 | 0                 | 0                 | 0                 | real              | \n",
       "| 9998069706        | 0                 | 0                 | 1                 | 0                 | 1                 | 0                 | 0                 | 0                 | 0                 | 0                 | real              | \n",
       "| 9998131050        | 1                 | 0                 | 0                 | 0                 | 0                 | 0                 | 1                 | 0                 | 0                 | 0                 | real              | \n",
       "| 99986578054717440 | 0                 | 1                 | 1                 | 1                 | 1                 | 0                 | 0                 | 1                 | 0                 | 0                 | real              | \n",
       "\n",
       "\n"
      ],
      "text/plain": [
       "        id                trust fear negative sadness anger surprise positive\n",
       "1       1023861511        1     0    0        0       0     0        0       \n",
       "2       1183192955        0     1    1        0       0     0        0       \n",
       "3       1189773795        0     0    1        1       0     0        0       \n",
       "4       1204599498        0     0    0        0       0     0        1       \n",
       "5       1210430389        2     0    0        1       0     1        4       \n",
       "6       1213317158        1     0    0        1       0     1        2       \n",
       "7       1226758528        1     0    0        0       0     0        1       \n",
       "8       1230802453        0     1    1        1       0     0        0       \n",
       "9       1235967720        0     0    0        0       0     0        1       \n",
       "10      1248303008        0     0    0        0       0     0        0       \n",
       "11      1248315583        1     0    0        0       0     1        1       \n",
       "12      1257268832        1     0    0        0       0     1        1       \n",
       "13      1261824330        1     0    0        0       0     0        1       \n",
       "14      1265670629        1     0    0        0       0     1        1       \n",
       "15      1273331935        0     0    0        0       0     0        1       \n",
       "16      1274028569        0     0    1        0       0     0        0       \n",
       "17      1277870540        1     0    0        0       0     0        1       \n",
       "18      1284091600        0     0    1        0       1     0        0       \n",
       "19      1317142395        0     1    1        1       1     1        0       \n",
       "20      1330704084        0     0    0        0       0     0        0       \n",
       "21      1330730973        2     2    4        3       2     1        2       \n",
       "22      1330737617        1     0    0        0       0     1        2       \n",
       "23      1330765639        0     1    1        1       0     0        0       \n",
       "24      1348853138        0     1    1        1       0     0        0       \n",
       "25      1387782384        1     0    0        0       0     0        2       \n",
       "26      1392546412        0     0    0        0       0     0        0       \n",
       "27      1395106681        0     0    0        1       0     0        0       \n",
       "28      1395201197        1     0    0        0       0     0        1       \n",
       "29      1395209740        0     0    1        0       1     0        1       \n",
       "30      1427927588        0     0    1        1       0     0        0       \n",
       "⋮       ⋮                 ⋮     ⋮    ⋮        ⋮       ⋮     ⋮        ⋮       \n",
       "1545660 99892075553763329 1     0    0        0       0     0        0       \n",
       "1545661 99892864728834048 0     0    0        0       0     0        1       \n",
       "1545662 99893394159050752 0     0    0        0       0     0        0       \n",
       "1545663 99895706571116544 1     0    0        0       0     1        1       \n",
       "1545664 99896158566096896 0     0    0        0       0     0        1       \n",
       "1545665 99898235065339904 0     1    1        1       1     0        0       \n",
       "1545666 99899088346152961 1     0    0        0       0     0        1       \n",
       "1545667 99902661935104002 1     0    1        0       0     0        0       \n",
       "1545668 999098069         0     0    0        0       0     0        0       \n",
       "1545669 9991511556        0     1    1        0       1     1        0       \n",
       "1545670 99916019371474944 1     0    0        0       0     0        0       \n",
       "1545671 9991845064        0     1    1        1       0     0        0       \n",
       "1545672 99921540782632961 0     0    0        0       0     0        1       \n",
       "1545673 9992920426        1     0    0        0       0     0        1       \n",
       "1545674 999335623         1     0    0        0       0     0        0       \n",
       "1545675 9993556940        2     0    0        0       0     0        1       \n",
       "1545676 999454921         1     0    0        0       0     0        1       \n",
       "1545677 99945739437879296 0     0    0        0       0     1        1       \n",
       "1545678 999458614         0     0    0        0       0     1        2       \n",
       "1545679 999475920         0     0    0        0       0     0        0       \n",
       "1545680 99948350484381697 0     0    1        0       0     0        1       \n",
       "1545681 99949142712918017 0     1    2        1       2     0        0       \n",
       "1545682 99953361541005312 0     0    0        0       0     0        0       \n",
       "1545683 99958248064557057 1     0    0        0       0     1        1       \n",
       "1545684 9996364068        0     0    0        0       0     0        1       \n",
       "1545685 999682705         0     0    0        0       0     0        1       \n",
       "1545686 99973790699753473 0     0    0        0       0     0        1       \n",
       "1545687 9998069706        0     0    1        0       1     0        0       \n",
       "1545688 9998131050        1     0    0        0       0     0        1       \n",
       "1545689 99986578054717440 0     1    1        1       1     0        0       \n",
       "        disgust joy anticipation realFAKEcat\n",
       "1       0       0   0            fake       \n",
       "2       0       0   0            fake       \n",
       "3       0       0   0            fake       \n",
       "4       0       0   0            fake       \n",
       "5       0       2   2            fake       \n",
       "6       0       1   1            fake       \n",
       "7       0       0   0            fake       \n",
       "8       1       0   0            fake       \n",
       "9       0       0   0            fake       \n",
       "10      0       0   1            fake       \n",
       "11      1       1   1            fake       \n",
       "12      1       1   1            fake       \n",
       "13      0       1   1            fake       \n",
       "14      0       1   1            fake       \n",
       "15      0       0   0            fake       \n",
       "16      0       0   0            fake       \n",
       "17      0       1   1            fake       \n",
       "18      1       0   0            fake       \n",
       "19      1       0   1            fake       \n",
       "20      0       0   1            fake       \n",
       "21      1       2   1            fake       \n",
       "22      0       1   1            fake       \n",
       "23      0       0   0            fake       \n",
       "24      0       0   0            fake       \n",
       "25      0       1   0            fake       \n",
       "26      0       0   1            fake       \n",
       "27      0       0   1            fake       \n",
       "28      0       1   2            fake       \n",
       "29      1       1   1            fake       \n",
       "30      1       0   0            fake       \n",
       "⋮       ⋮       ⋮   ⋮            ⋮          \n",
       "1545660 0       0   1            real       \n",
       "1545661 0       1   0            real       \n",
       "1545662 1       0   0            real       \n",
       "1545663 0       1   1            real       \n",
       "1545664 0       0   0            real       \n",
       "1545665 1       0   0            real       \n",
       "1545666 0       0   1            real       \n",
       "1545667 0       0   0            real       \n",
       "1545668 0       0   1            real       \n",
       "1545669 0       0   0            real       \n",
       "1545670 0       0   1            real       \n",
       "1545671 0       0   0            real       \n",
       "1545672 0       0   0            real       \n",
       "1545673 0       0   0            real       \n",
       "1545674 0       0   0            real       \n",
       "1545675 0       1   1            real       \n",
       "1545676 0       1   0            real       \n",
       "1545677 0       0   0            real       \n",
       "1545678 0       1   1            real       \n",
       "1545679 0       0   1            real       \n",
       "1545680 0       0   1            real       \n",
       "1545681 1       0   0            real       \n",
       "1545682 0       0   2            real       \n",
       "1545683 0       1   2            real       \n",
       "1545684 0       0   0            real       \n",
       "1545685 0       0   0            real       \n",
       "1545686 0       0   0            real       \n",
       "1545687 0       0   0            real       \n",
       "1545688 0       0   0            real       \n",
       "1545689 1       0   0            real       "
      ]
     },
     "metadata": {},
     "output_type": "display_data"
    }
   ],
   "source": [
    "nrcSCORES"
   ]
  },
  {
   "cell_type": "markdown",
   "metadata": {},
   "source": [
    "> ### Generate fake and real tables\n",
    "\n",
    "> We now create two versions of this **_Tweet-Emotion Matrix_**, one with only fake tweets and the other with only real tweets.\n",
    "\n",
    ">> For the fake tweets:"
   ]
  },
  {
   "cell_type": "code",
   "execution_count": 47,
   "metadata": {
    "collapsed": true
   },
   "outputs": [],
   "source": [
    "fakeNRCscores <- filter(nrcSCORES, realFAKEcat == 'fake')"
   ]
  },
  {
   "cell_type": "markdown",
   "metadata": {},
   "source": [
    ">> and then for the real tweets"
   ]
  },
  {
   "cell_type": "code",
   "execution_count": 48,
   "metadata": {
    "collapsed": true
   },
   "outputs": [],
   "source": [
    "realNRCscores <- filter(nrcSCORES, realFAKEcat == 'real')"
   ]
  },
  {
   "cell_type": "markdown",
   "metadata": {},
   "source": [
    "> ### Export tables\n",
    "\n",
    "> We now export the complete processed tables for fake tweets, real tweets, and all tweets.\n",
    "\n",
    ">> Starting with the fake tweets:"
   ]
  },
  {
   "cell_type": "code",
   "execution_count": 55,
   "metadata": {},
   "outputs": [],
   "source": [
    "write.table(fakeNRCscores, \"fakeNRCscores.csv\", sep=\",\")"
   ]
  },
  {
   "cell_type": "markdown",
   "metadata": {},
   "source": [
    ">> Continuing with the real tweets:"
   ]
  },
  {
   "cell_type": "code",
   "execution_count": 52,
   "metadata": {
    "collapsed": true
   },
   "outputs": [],
   "source": [
    "write.table(realNRCscores, \"realNRCscores.csv\", sep=\",\")"
   ]
  },
  {
   "cell_type": "markdown",
   "metadata": {},
   "source": [
    ">> and finishing with all tweets:"
   ]
  },
  {
   "cell_type": "code",
   "execution_count": 54,
   "metadata": {
    "collapsed": true
   },
   "outputs": [],
   "source": [
    "write.table(nrcSCORES, \"NRCscores.csv\", sep=\",\")"
   ]
  },
  {
   "cell_type": "markdown",
   "metadata": {},
   "source": [
    "## Random Sampling Indicies Generation\n",
    "\n",
    "> We now need to generate sets containing random indicies of elements in our data so that we can sample our data for training and testing purposes.  We will create 4 paired sets of indicies, with two pairs of sets being for training and the remaining 2 sets being for testing.  These pairs of indicies are\n",
    "* __PAIR 1 :__ Has a total size of 50,000 between the pair of sets.  The first set in the pair is for 25,000 real tweets, while the second set is for 25,000 fake tweets.  This pair of sets is for training\n",
    "* __PAIR 2 :__ Has a total size of 10,000 between the pair of sets.  The first set in the pair is for 5,000 real tweets, while the second set is for 5,000 fake tweets. This pair of sets if for training\n",
    "* __PAIR 3 :__ Has a total size of 15,000 and randomly contains any tweet in the database.  This set is for testing\n",
    "* __PAIR 4 :__ Has a total size of 5,000 and randomly contains any tweet in the database.  This set is for testing\n",
    "\n",
    "> ### *PAIR 1*"
   ]
  },
  {
   "cell_type": "code",
   "execution_count": 64,
   "metadata": {
    "collapsed": true
   },
   "outputs": [],
   "source": [
    "set.seed(runif(1,1,10000))\n",
    "fakeTrainInd1 <- sample(1:nrow(fakeNRCscores), 25000)\n",
    "\n",
    "set.seed(runif(1,1,10000))\n",
    "realTrainInd1 <- sample(1:nrow(realNRCscores), 25000)"
   ]
  },
  {
   "cell_type": "markdown",
   "metadata": {},
   "source": []
  },
  {
   "cell_type": "code",
   "execution_count": 69,
   "metadata": {
    "collapsed": true
   },
   "outputs": [],
   "source": [
    "write.table(fakeTrainInd1, \"fakeTrainInd1.txt\")\n",
    "\n",
    "write.table(realTrainInd1, \"realTrainInd1.txt\")"
   ]
  },
  {
   "cell_type": "markdown",
   "metadata": {},
   "source": [
    "> ### *PAIR 2*"
   ]
  },
  {
   "cell_type": "code",
   "execution_count": 65,
   "metadata": {
    "collapsed": true
   },
   "outputs": [],
   "source": [
    "set.seed(runif(1,1,10000))\n",
    "fakeTrainInd2 <- sample(1:nrow(fakeNRCscores), 5000)\n",
    "\n",
    "set.seed(runif(1,1,10000))\n",
    "realTrainInd2 <- sample(1:nrow(realNRCscores), 5000)"
   ]
  },
  {
   "cell_type": "markdown",
   "metadata": {},
   "source": []
  },
  {
   "cell_type": "code",
   "execution_count": 70,
   "metadata": {
    "collapsed": true
   },
   "outputs": [],
   "source": [
    "write.table(fakeTrainInd2, \"fakeTrainInd2.txt\")\n",
    "\n",
    "write.table(realTrainInd2, \"realTrainInd2.txt\")"
   ]
  },
  {
   "cell_type": "markdown",
   "metadata": {},
   "source": [
    "> ### *PAIR 3*"
   ]
  },
  {
   "cell_type": "code",
   "execution_count": 66,
   "metadata": {
    "collapsed": true
   },
   "outputs": [],
   "source": [
    "set.seed(runif(1,1,10000))\n",
    "testInd1 <- sample(1:nrow(nrcSCORES), 15000)"
   ]
  },
  {
   "cell_type": "markdown",
   "metadata": {},
   "source": []
  },
  {
   "cell_type": "code",
   "execution_count": 71,
   "metadata": {
    "collapsed": true
   },
   "outputs": [],
   "source": [
    "write.table(testInd1, \"testInd1.txt\")"
   ]
  },
  {
   "cell_type": "markdown",
   "metadata": {},
   "source": [
    "> ### *PAIR 4*"
   ]
  },
  {
   "cell_type": "code",
   "execution_count": 67,
   "metadata": {
    "collapsed": true
   },
   "outputs": [],
   "source": [
    "set.seed(runif(1,1,10000))\n",
    "testInd2 <- sample(1:nrow(nrcSCORES), 5000)"
   ]
  },
  {
   "cell_type": "markdown",
   "metadata": {},
   "source": []
  },
  {
   "cell_type": "code",
   "execution_count": 72,
   "metadata": {
    "collapsed": true
   },
   "outputs": [],
   "source": [
    "write.table(testInd2, \"testInd2.txt\")"
   ]
  },
  {
   "cell_type": "markdown",
   "metadata": {},
   "source": [
    "## Export Sampled Data"
   ]
  },
  {
   "cell_type": "code",
   "execution_count": 74,
   "metadata": {
    "collapsed": true
   },
   "outputs": [],
   "source": [
    "fakeTrainData1 <- fakeNRCscores[fakeTrainInd1, ]\n",
    "\n",
    "realTrainData1 <- realNRCscores[realTrainInd1, ]"
   ]
  },
  {
   "cell_type": "markdown",
   "metadata": {},
   "source": []
  },
  {
   "cell_type": "code",
   "execution_count": 76,
   "metadata": {
    "collapsed": true
   },
   "outputs": [],
   "source": [
    "write.table(fakeTrainData1, \"fakeTrainData1.txt\")\n",
    "\n",
    "write.table(realTrainData1, \"realTrainData1.txt\")"
   ]
  },
  {
   "cell_type": "markdown",
   "metadata": {},
   "source": []
  },
  {
   "cell_type": "code",
   "execution_count": 78,
   "metadata": {
    "collapsed": true
   },
   "outputs": [],
   "source": [
    "fakeTrainData2 <- fakeNRCscores[fakeTrainInd2, ]\n",
    "\n",
    "realTrainData2 <- realNRCscores[realTrainInd2, ]"
   ]
  },
  {
   "cell_type": "markdown",
   "metadata": {},
   "source": []
  },
  {
   "cell_type": "code",
   "execution_count": 79,
   "metadata": {},
   "outputs": [],
   "source": [
    "write.table(fakeTrainData2, \"fakeTrainData2.txt\")\n",
    "\n",
    "write.table(realTrainData2, \"realTrainData2.txt\")"
   ]
  },
  {
   "cell_type": "markdown",
   "metadata": {},
   "source": []
  },
  {
   "cell_type": "code",
   "execution_count": 80,
   "metadata": {
    "collapsed": true
   },
   "outputs": [],
   "source": [
    "testData1 <- nrcSCORES[testInd1, ]"
   ]
  },
  {
   "cell_type": "markdown",
   "metadata": {},
   "source": []
  },
  {
   "cell_type": "code",
   "execution_count": 81,
   "metadata": {
    "collapsed": true
   },
   "outputs": [],
   "source": [
    "write.table(testData1, \"testData.txt\")"
   ]
  },
  {
   "cell_type": "markdown",
   "metadata": {},
   "source": []
  },
  {
   "cell_type": "code",
   "execution_count": 82,
   "metadata": {
    "collapsed": true
   },
   "outputs": [],
   "source": [
    "testData2 <- nrcSCORES[testInd2, ]"
   ]
  },
  {
   "cell_type": "markdown",
   "metadata": {},
   "source": []
  },
  {
   "cell_type": "code",
   "execution_count": 83,
   "metadata": {
    "collapsed": true
   },
   "outputs": [],
   "source": [
    "write.table(testData2, \"testData2.txt\")"
   ]
  },
  {
   "cell_type": "code",
   "execution_count": 56,
   "metadata": {},
   "outputs": [
    {
     "data": {
      "text/html": [
       "15456890"
      ],
      "text/latex": [
       "15456890"
      ],
      "text/markdown": [
       "15456890"
      ],
      "text/plain": [
       "[1] 15456890"
      ]
     },
     "metadata": {},
     "output_type": "display_data"
    },
    {
     "data": {
      "text/html": [
       "245770"
      ],
      "text/latex": [
       "245770"
      ],
      "text/markdown": [
       "245770"
      ],
      "text/plain": [
       "[1] 245770"
      ]
     },
     "metadata": {},
     "output_type": "display_data"
    },
    {
     "data": {
      "text/html": [
       "6216860"
      ],
      "text/latex": [
       "6216860"
      ],
      "text/markdown": [
       "6216860"
      ],
      "text/plain": [
       "[1] 6216860"
      ]
     },
     "metadata": {},
     "output_type": "display_data"
    }
   ],
   "source": [
    "nrow(NRCscoredTweets)\n",
    "nrow(fakeTweetsNRCsentiment)\n",
    "nrow(realTweetsNRCsentiment)\n",
    "\n",
    "fakeTestTrainIND <- sample(1:nrow(fakeNRCscoredTweets), 25000)\n",
    "realTestTrainIND <- sample(1:nrow(realNRCscoredTweets), 1500000)"
   ]
  },
  {
   "cell_type": "code",
   "execution_count": 39,
   "metadata": {},
   "outputs": [
    {
     "data": {
      "text/html": [
       "<ol class=list-inline>\n",
       "\t<li>'trust'</li>\n",
       "\t<li>'fear'</li>\n",
       "\t<li>'negative'</li>\n",
       "\t<li>'sadness'</li>\n",
       "\t<li>'anger'</li>\n",
       "\t<li>'surprise'</li>\n",
       "\t<li>'positive'</li>\n",
       "\t<li>'disgust'</li>\n",
       "\t<li>'joy'</li>\n",
       "\t<li>'anticipation'</li>\n",
       "</ol>\n"
      ],
      "text/latex": [
       "\\begin{enumerate*}\n",
       "\\item 'trust'\n",
       "\\item 'fear'\n",
       "\\item 'negative'\n",
       "\\item 'sadness'\n",
       "\\item 'anger'\n",
       "\\item 'surprise'\n",
       "\\item 'positive'\n",
       "\\item 'disgust'\n",
       "\\item 'joy'\n",
       "\\item 'anticipation'\n",
       "\\end{enumerate*}\n"
      ],
      "text/markdown": [
       "1. 'trust'\n",
       "2. 'fear'\n",
       "3. 'negative'\n",
       "4. 'sadness'\n",
       "5. 'anger'\n",
       "6. 'surprise'\n",
       "7. 'positive'\n",
       "8. 'disgust'\n",
       "9. 'joy'\n",
       "10. 'anticipation'\n",
       "\n",
       "\n"
      ],
      "text/plain": [
       " [1] \"trust\"        \"fear\"         \"negative\"     \"sadness\"      \"anger\"       \n",
       " [6] \"surprise\"     \"positive\"     \"disgust\"      \"joy\"          \"anticipation\""
      ]
     },
     "metadata": {},
     "output_type": "display_data"
    }
   ],
   "source": [
    "#fakeNRCscoredTweets\n",
    "nrcEMOTIONS"
   ]
  },
  {
   "cell_type": "code",
   "execution_count": 25,
   "metadata": {
    "collapsed": true
   },
   "outputs": [],
   "source": [
    "#scoredFakeTweets <- data.frame()\n",
    "#fakeNRCscoredTweets\n",
    "\n",
    "#NRCscoredTweets\n",
    "#filter(NRCscoredTweets, sentiment == \"joy\")"
   ]
  },
  {
   "cell_type": "code",
   "execution_count": 42,
   "metadata": {
    "collapsed": true
   },
   "outputs": [],
   "source": [
    "fakeNRCscores <- filter(nrcSCORES, realFAKEcat == 'fake')\n",
    "realNRCscores <- filter(nrcSCORES, realFAKEcat == 'real')"
   ]
  },
  {
   "cell_type": "code",
   "execution_count": 43,
   "metadata": {},
   "outputs": [
    {
     "data": {
      "text/html": [
       "1545689"
      ],
      "text/latex": [
       "1545689"
      ],
      "text/markdown": [
       "1545689"
      ],
      "text/plain": [
       "[1] 1545689"
      ]
     },
     "metadata": {},
     "output_type": "display_data"
    },
    {
     "data": {
      "text/html": [
       "58661"
      ],
      "text/latex": [
       "58661"
      ],
      "text/markdown": [
       "58661"
      ],
      "text/plain": [
       "[1] 58661"
      ]
     },
     "metadata": {},
     "output_type": "display_data"
    },
    {
     "data": {
      "text/html": [
       "1487028"
      ],
      "text/latex": [
       "1487028"
      ],
      "text/markdown": [
       "1487028"
      ],
      "text/plain": [
       "[1] 1487028"
      ]
     },
     "metadata": {},
     "output_type": "display_data"
    }
   ],
   "source": [
    "nrow(nrcSCORES)\n",
    "nrow(fakeNRCscores)\n",
    "nrow(realNRCscores)"
   ]
  },
  {
   "cell_type": "code",
   "execution_count": 44,
   "metadata": {},
   "outputs": [
    {
     "data": {
      "text/html": [
       "<table>\n",
       "<thead><tr><th scope=col>id</th><th scope=col>trust</th><th scope=col>fear</th><th scope=col>negative</th><th scope=col>sadness</th><th scope=col>anger</th><th scope=col>surprise</th><th scope=col>positive</th><th scope=col>disgust</th><th scope=col>joy</th><th scope=col>anticipation</th><th scope=col>realFAKEcat</th></tr></thead>\n",
       "<tbody>\n",
       "\t<tr><td>1023861511</td><td>1         </td><td>0         </td><td>0         </td><td>0         </td><td>0         </td><td>0         </td><td>0         </td><td>0         </td><td>0         </td><td>0         </td><td>fake      </td></tr>\n",
       "\t<tr><td>1183192955</td><td>0         </td><td>1         </td><td>1         </td><td>0         </td><td>0         </td><td>0         </td><td>0         </td><td>0         </td><td>0         </td><td>0         </td><td>fake      </td></tr>\n",
       "\t<tr><td>1189773795</td><td>0         </td><td>0         </td><td>1         </td><td>1         </td><td>0         </td><td>0         </td><td>0         </td><td>0         </td><td>0         </td><td>0         </td><td>fake      </td></tr>\n",
       "\t<tr><td>1204599498</td><td>0         </td><td>0         </td><td>0         </td><td>0         </td><td>0         </td><td>0         </td><td>1         </td><td>0         </td><td>0         </td><td>0         </td><td>fake      </td></tr>\n",
       "\t<tr><td>1210430389</td><td>2         </td><td>0         </td><td>0         </td><td>1         </td><td>0         </td><td>1         </td><td>4         </td><td>0         </td><td>2         </td><td>2         </td><td>fake      </td></tr>\n",
       "\t<tr><td>1213317158</td><td>1         </td><td>0         </td><td>0         </td><td>1         </td><td>0         </td><td>1         </td><td>2         </td><td>0         </td><td>1         </td><td>1         </td><td>fake      </td></tr>\n",
       "\t<tr><td>1226758528</td><td>1         </td><td>0         </td><td>0         </td><td>0         </td><td>0         </td><td>0         </td><td>1         </td><td>0         </td><td>0         </td><td>0         </td><td>fake      </td></tr>\n",
       "\t<tr><td>1230802453</td><td>0         </td><td>1         </td><td>1         </td><td>1         </td><td>0         </td><td>0         </td><td>0         </td><td>1         </td><td>0         </td><td>0         </td><td>fake      </td></tr>\n",
       "\t<tr><td>1235967720</td><td>0         </td><td>0         </td><td>0         </td><td>0         </td><td>0         </td><td>0         </td><td>1         </td><td>0         </td><td>0         </td><td>0         </td><td>fake      </td></tr>\n",
       "\t<tr><td>1248303008</td><td>0         </td><td>0         </td><td>0         </td><td>0         </td><td>0         </td><td>0         </td><td>0         </td><td>0         </td><td>0         </td><td>1         </td><td>fake      </td></tr>\n",
       "\t<tr><td>1248315583</td><td>1         </td><td>0         </td><td>0         </td><td>0         </td><td>0         </td><td>1         </td><td>1         </td><td>1         </td><td>1         </td><td>1         </td><td>fake      </td></tr>\n",
       "\t<tr><td>1257268832</td><td>1         </td><td>0         </td><td>0         </td><td>0         </td><td>0         </td><td>1         </td><td>1         </td><td>1         </td><td>1         </td><td>1         </td><td>fake      </td></tr>\n",
       "\t<tr><td>1261824330</td><td>1         </td><td>0         </td><td>0         </td><td>0         </td><td>0         </td><td>0         </td><td>1         </td><td>0         </td><td>1         </td><td>1         </td><td>fake      </td></tr>\n",
       "\t<tr><td>1265670629</td><td>1         </td><td>0         </td><td>0         </td><td>0         </td><td>0         </td><td>1         </td><td>1         </td><td>0         </td><td>1         </td><td>1         </td><td>fake      </td></tr>\n",
       "\t<tr><td>1273331935</td><td>0         </td><td>0         </td><td>0         </td><td>0         </td><td>0         </td><td>0         </td><td>1         </td><td>0         </td><td>0         </td><td>0         </td><td>fake      </td></tr>\n",
       "\t<tr><td>1274028569</td><td>0         </td><td>0         </td><td>1         </td><td>0         </td><td>0         </td><td>0         </td><td>0         </td><td>0         </td><td>0         </td><td>0         </td><td>fake      </td></tr>\n",
       "\t<tr><td>1277870540</td><td>1         </td><td>0         </td><td>0         </td><td>0         </td><td>0         </td><td>0         </td><td>1         </td><td>0         </td><td>1         </td><td>1         </td><td>fake      </td></tr>\n",
       "\t<tr><td>1284091600</td><td>0         </td><td>0         </td><td>1         </td><td>0         </td><td>1         </td><td>0         </td><td>0         </td><td>1         </td><td>0         </td><td>0         </td><td>fake      </td></tr>\n",
       "\t<tr><td>1317142395</td><td>0         </td><td>1         </td><td>1         </td><td>1         </td><td>1         </td><td>1         </td><td>0         </td><td>1         </td><td>0         </td><td>1         </td><td>fake      </td></tr>\n",
       "\t<tr><td>1330704084</td><td>0         </td><td>0         </td><td>0         </td><td>0         </td><td>0         </td><td>0         </td><td>0         </td><td>0         </td><td>0         </td><td>1         </td><td>fake      </td></tr>\n",
       "\t<tr><td>1330730973</td><td>2         </td><td>2         </td><td>4         </td><td>3         </td><td>2         </td><td>1         </td><td>2         </td><td>1         </td><td>2         </td><td>1         </td><td>fake      </td></tr>\n",
       "\t<tr><td>1330737617</td><td>1         </td><td>0         </td><td>0         </td><td>0         </td><td>0         </td><td>1         </td><td>2         </td><td>0         </td><td>1         </td><td>1         </td><td>fake      </td></tr>\n",
       "\t<tr><td>1330765639</td><td>0         </td><td>1         </td><td>1         </td><td>1         </td><td>0         </td><td>0         </td><td>0         </td><td>0         </td><td>0         </td><td>0         </td><td>fake      </td></tr>\n",
       "\t<tr><td>1348853138</td><td>0         </td><td>1         </td><td>1         </td><td>1         </td><td>0         </td><td>0         </td><td>0         </td><td>0         </td><td>0         </td><td>0         </td><td>fake      </td></tr>\n",
       "\t<tr><td>1387782384</td><td>1         </td><td>0         </td><td>0         </td><td>0         </td><td>0         </td><td>0         </td><td>2         </td><td>0         </td><td>1         </td><td>0         </td><td>fake      </td></tr>\n",
       "\t<tr><td>1392546412</td><td>0         </td><td>0         </td><td>0         </td><td>0         </td><td>0         </td><td>0         </td><td>0         </td><td>0         </td><td>0         </td><td>1         </td><td>fake      </td></tr>\n",
       "\t<tr><td>1395106681</td><td>0         </td><td>0         </td><td>0         </td><td>1         </td><td>0         </td><td>0         </td><td>0         </td><td>0         </td><td>0         </td><td>1         </td><td>fake      </td></tr>\n",
       "\t<tr><td>1395201197</td><td>1         </td><td>0         </td><td>0         </td><td>0         </td><td>0         </td><td>0         </td><td>1         </td><td>0         </td><td>1         </td><td>2         </td><td>fake      </td></tr>\n",
       "\t<tr><td>1395209740</td><td>0         </td><td>0         </td><td>1         </td><td>0         </td><td>1         </td><td>0         </td><td>1         </td><td>1         </td><td>1         </td><td>1         </td><td>fake      </td></tr>\n",
       "\t<tr><td>1427927588</td><td>0         </td><td>0         </td><td>1         </td><td>1         </td><td>0         </td><td>0         </td><td>0         </td><td>1         </td><td>0         </td><td>0         </td><td>fake      </td></tr>\n",
       "\t<tr><td>⋮</td><td>⋮</td><td>⋮</td><td>⋮</td><td>⋮</td><td>⋮</td><td>⋮</td><td>⋮</td><td>⋮</td><td>⋮</td><td>⋮</td><td>⋮</td></tr>\n",
       "\t<tr><td>99892075553763329</td><td>1                </td><td>0                </td><td>0                </td><td>0                </td><td>0                </td><td>0                </td><td>0                </td><td>0                </td><td>0                </td><td>1                </td><td>real             </td></tr>\n",
       "\t<tr><td>99892864728834048</td><td>0                </td><td>0                </td><td>0                </td><td>0                </td><td>0                </td><td>0                </td><td>1                </td><td>0                </td><td>1                </td><td>0                </td><td>real             </td></tr>\n",
       "\t<tr><td>99893394159050752</td><td>0                </td><td>0                </td><td>0                </td><td>0                </td><td>0                </td><td>0                </td><td>0                </td><td>1                </td><td>0                </td><td>0                </td><td>real             </td></tr>\n",
       "\t<tr><td>99895706571116544</td><td>1                </td><td>0                </td><td>0                </td><td>0                </td><td>0                </td><td>1                </td><td>1                </td><td>0                </td><td>1                </td><td>1                </td><td>real             </td></tr>\n",
       "\t<tr><td>99896158566096896</td><td>0                </td><td>0                </td><td>0                </td><td>0                </td><td>0                </td><td>0                </td><td>1                </td><td>0                </td><td>0                </td><td>0                </td><td>real             </td></tr>\n",
       "\t<tr><td>99898235065339904</td><td>0                </td><td>1                </td><td>1                </td><td>1                </td><td>1                </td><td>0                </td><td>0                </td><td>1                </td><td>0                </td><td>0                </td><td>real             </td></tr>\n",
       "\t<tr><td>99899088346152961</td><td>1                </td><td>0                </td><td>0                </td><td>0                </td><td>0                </td><td>0                </td><td>1                </td><td>0                </td><td>0                </td><td>1                </td><td>real             </td></tr>\n",
       "\t<tr><td>99902661935104002</td><td>1                </td><td>0                </td><td>1                </td><td>0                </td><td>0                </td><td>0                </td><td>0                </td><td>0                </td><td>0                </td><td>0                </td><td>real             </td></tr>\n",
       "\t<tr><td>999098069        </td><td>0                </td><td>0                </td><td>0                </td><td>0                </td><td>0                </td><td>0                </td><td>0                </td><td>0                </td><td>0                </td><td>1                </td><td>real             </td></tr>\n",
       "\t<tr><td>9991511556       </td><td>0                </td><td>1                </td><td>1                </td><td>0                </td><td>1                </td><td>1                </td><td>0                </td><td>0                </td><td>0                </td><td>0                </td><td>real             </td></tr>\n",
       "\t<tr><td>99916019371474944</td><td>1                </td><td>0                </td><td>0                </td><td>0                </td><td>0                </td><td>0                </td><td>0                </td><td>0                </td><td>0                </td><td>1                </td><td>real             </td></tr>\n",
       "\t<tr><td>9991845064       </td><td>0                </td><td>1                </td><td>1                </td><td>1                </td><td>0                </td><td>0                </td><td>0                </td><td>0                </td><td>0                </td><td>0                </td><td>real             </td></tr>\n",
       "\t<tr><td>99921540782632961</td><td>0                </td><td>0                </td><td>0                </td><td>0                </td><td>0                </td><td>0                </td><td>1                </td><td>0                </td><td>0                </td><td>0                </td><td>real             </td></tr>\n",
       "\t<tr><td>9992920426       </td><td>1                </td><td>0                </td><td>0                </td><td>0                </td><td>0                </td><td>0                </td><td>1                </td><td>0                </td><td>0                </td><td>0                </td><td>real             </td></tr>\n",
       "\t<tr><td>999335623        </td><td>1                </td><td>0                </td><td>0                </td><td>0                </td><td>0                </td><td>0                </td><td>0                </td><td>0                </td><td>0                </td><td>0                </td><td>real             </td></tr>\n",
       "\t<tr><td>9993556940       </td><td>2                </td><td>0                </td><td>0                </td><td>0                </td><td>0                </td><td>0                </td><td>1                </td><td>0                </td><td>1                </td><td>1                </td><td>real             </td></tr>\n",
       "\t<tr><td>999454921        </td><td>1                </td><td>0                </td><td>0                </td><td>0                </td><td>0                </td><td>0                </td><td>1                </td><td>0                </td><td>1                </td><td>0                </td><td>real             </td></tr>\n",
       "\t<tr><td>99945739437879296</td><td>0                </td><td>0                </td><td>0                </td><td>0                </td><td>0                </td><td>1                </td><td>1                </td><td>0                </td><td>0                </td><td>0                </td><td>real             </td></tr>\n",
       "\t<tr><td>999458614        </td><td>0                </td><td>0                </td><td>0                </td><td>0                </td><td>0                </td><td>1                </td><td>2                </td><td>0                </td><td>1                </td><td>1                </td><td>real             </td></tr>\n",
       "\t<tr><td>999475920        </td><td>0                </td><td>0                </td><td>0                </td><td>0                </td><td>0                </td><td>0                </td><td>0                </td><td>0                </td><td>0                </td><td>1                </td><td>real             </td></tr>\n",
       "\t<tr><td>99948350484381697</td><td>0                </td><td>0                </td><td>1                </td><td>0                </td><td>0                </td><td>0                </td><td>1                </td><td>0                </td><td>0                </td><td>1                </td><td>real             </td></tr>\n",
       "\t<tr><td>99949142712918017</td><td>0                </td><td>1                </td><td>2                </td><td>1                </td><td>2                </td><td>0                </td><td>0                </td><td>1                </td><td>0                </td><td>0                </td><td>real             </td></tr>\n",
       "\t<tr><td>99953361541005312</td><td>0                </td><td>0                </td><td>0                </td><td>0                </td><td>0                </td><td>0                </td><td>0                </td><td>0                </td><td>0                </td><td>2                </td><td>real             </td></tr>\n",
       "\t<tr><td>99958248064557057</td><td>1                </td><td>0                </td><td>0                </td><td>0                </td><td>0                </td><td>1                </td><td>1                </td><td>0                </td><td>1                </td><td>2                </td><td>real             </td></tr>\n",
       "\t<tr><td>9996364068       </td><td>0                </td><td>0                </td><td>0                </td><td>0                </td><td>0                </td><td>0                </td><td>1                </td><td>0                </td><td>0                </td><td>0                </td><td>real             </td></tr>\n",
       "\t<tr><td>999682705        </td><td>0                </td><td>0                </td><td>0                </td><td>0                </td><td>0                </td><td>0                </td><td>1                </td><td>0                </td><td>0                </td><td>0                </td><td>real             </td></tr>\n",
       "\t<tr><td>99973790699753473</td><td>0                </td><td>0                </td><td>0                </td><td>0                </td><td>0                </td><td>0                </td><td>1                </td><td>0                </td><td>0                </td><td>0                </td><td>real             </td></tr>\n",
       "\t<tr><td>9998069706       </td><td>0                </td><td>0                </td><td>1                </td><td>0                </td><td>1                </td><td>0                </td><td>0                </td><td>0                </td><td>0                </td><td>0                </td><td>real             </td></tr>\n",
       "\t<tr><td>9998131050       </td><td>1                </td><td>0                </td><td>0                </td><td>0                </td><td>0                </td><td>0                </td><td>1                </td><td>0                </td><td>0                </td><td>0                </td><td>real             </td></tr>\n",
       "\t<tr><td>99986578054717440</td><td>0                </td><td>1                </td><td>1                </td><td>1                </td><td>1                </td><td>0                </td><td>0                </td><td>1                </td><td>0                </td><td>0                </td><td>real             </td></tr>\n",
       "</tbody>\n",
       "</table>\n"
      ],
      "text/latex": [
       "\\begin{tabular}{r|llllllllllll}\n",
       " id & trust & fear & negative & sadness & anger & surprise & positive & disgust & joy & anticipation & realFAKEcat\\\\\n",
       "\\hline\n",
       "\t 1023861511 & 1          & 0          & 0          & 0          & 0          & 0          & 0          & 0          & 0          & 0          & fake      \\\\\n",
       "\t 1183192955 & 0          & 1          & 1          & 0          & 0          & 0          & 0          & 0          & 0          & 0          & fake      \\\\\n",
       "\t 1189773795 & 0          & 0          & 1          & 1          & 0          & 0          & 0          & 0          & 0          & 0          & fake      \\\\\n",
       "\t 1204599498 & 0          & 0          & 0          & 0          & 0          & 0          & 1          & 0          & 0          & 0          & fake      \\\\\n",
       "\t 1210430389 & 2          & 0          & 0          & 1          & 0          & 1          & 4          & 0          & 2          & 2          & fake      \\\\\n",
       "\t 1213317158 & 1          & 0          & 0          & 1          & 0          & 1          & 2          & 0          & 1          & 1          & fake      \\\\\n",
       "\t 1226758528 & 1          & 0          & 0          & 0          & 0          & 0          & 1          & 0          & 0          & 0          & fake      \\\\\n",
       "\t 1230802453 & 0          & 1          & 1          & 1          & 0          & 0          & 0          & 1          & 0          & 0          & fake      \\\\\n",
       "\t 1235967720 & 0          & 0          & 0          & 0          & 0          & 0          & 1          & 0          & 0          & 0          & fake      \\\\\n",
       "\t 1248303008 & 0          & 0          & 0          & 0          & 0          & 0          & 0          & 0          & 0          & 1          & fake      \\\\\n",
       "\t 1248315583 & 1          & 0          & 0          & 0          & 0          & 1          & 1          & 1          & 1          & 1          & fake      \\\\\n",
       "\t 1257268832 & 1          & 0          & 0          & 0          & 0          & 1          & 1          & 1          & 1          & 1          & fake      \\\\\n",
       "\t 1261824330 & 1          & 0          & 0          & 0          & 0          & 0          & 1          & 0          & 1          & 1          & fake      \\\\\n",
       "\t 1265670629 & 1          & 0          & 0          & 0          & 0          & 1          & 1          & 0          & 1          & 1          & fake      \\\\\n",
       "\t 1273331935 & 0          & 0          & 0          & 0          & 0          & 0          & 1          & 0          & 0          & 0          & fake      \\\\\n",
       "\t 1274028569 & 0          & 0          & 1          & 0          & 0          & 0          & 0          & 0          & 0          & 0          & fake      \\\\\n",
       "\t 1277870540 & 1          & 0          & 0          & 0          & 0          & 0          & 1          & 0          & 1          & 1          & fake      \\\\\n",
       "\t 1284091600 & 0          & 0          & 1          & 0          & 1          & 0          & 0          & 1          & 0          & 0          & fake      \\\\\n",
       "\t 1317142395 & 0          & 1          & 1          & 1          & 1          & 1          & 0          & 1          & 0          & 1          & fake      \\\\\n",
       "\t 1330704084 & 0          & 0          & 0          & 0          & 0          & 0          & 0          & 0          & 0          & 1          & fake      \\\\\n",
       "\t 1330730973 & 2          & 2          & 4          & 3          & 2          & 1          & 2          & 1          & 2          & 1          & fake      \\\\\n",
       "\t 1330737617 & 1          & 0          & 0          & 0          & 0          & 1          & 2          & 0          & 1          & 1          & fake      \\\\\n",
       "\t 1330765639 & 0          & 1          & 1          & 1          & 0          & 0          & 0          & 0          & 0          & 0          & fake      \\\\\n",
       "\t 1348853138 & 0          & 1          & 1          & 1          & 0          & 0          & 0          & 0          & 0          & 0          & fake      \\\\\n",
       "\t 1387782384 & 1          & 0          & 0          & 0          & 0          & 0          & 2          & 0          & 1          & 0          & fake      \\\\\n",
       "\t 1392546412 & 0          & 0          & 0          & 0          & 0          & 0          & 0          & 0          & 0          & 1          & fake      \\\\\n",
       "\t 1395106681 & 0          & 0          & 0          & 1          & 0          & 0          & 0          & 0          & 0          & 1          & fake      \\\\\n",
       "\t 1395201197 & 1          & 0          & 0          & 0          & 0          & 0          & 1          & 0          & 1          & 2          & fake      \\\\\n",
       "\t 1395209740 & 0          & 0          & 1          & 0          & 1          & 0          & 1          & 1          & 1          & 1          & fake      \\\\\n",
       "\t 1427927588 & 0          & 0          & 1          & 1          & 0          & 0          & 0          & 1          & 0          & 0          & fake      \\\\\n",
       "\t ⋮ & ⋮ & ⋮ & ⋮ & ⋮ & ⋮ & ⋮ & ⋮ & ⋮ & ⋮ & ⋮ & ⋮\\\\\n",
       "\t 99892075553763329 & 1                 & 0                 & 0                 & 0                 & 0                 & 0                 & 0                 & 0                 & 0                 & 1                 & real             \\\\\n",
       "\t 99892864728834048 & 0                 & 0                 & 0                 & 0                 & 0                 & 0                 & 1                 & 0                 & 1                 & 0                 & real             \\\\\n",
       "\t 99893394159050752 & 0                 & 0                 & 0                 & 0                 & 0                 & 0                 & 0                 & 1                 & 0                 & 0                 & real             \\\\\n",
       "\t 99895706571116544 & 1                 & 0                 & 0                 & 0                 & 0                 & 1                 & 1                 & 0                 & 1                 & 1                 & real             \\\\\n",
       "\t 99896158566096896 & 0                 & 0                 & 0                 & 0                 & 0                 & 0                 & 1                 & 0                 & 0                 & 0                 & real             \\\\\n",
       "\t 99898235065339904 & 0                 & 1                 & 1                 & 1                 & 1                 & 0                 & 0                 & 1                 & 0                 & 0                 & real             \\\\\n",
       "\t 99899088346152961 & 1                 & 0                 & 0                 & 0                 & 0                 & 0                 & 1                 & 0                 & 0                 & 1                 & real             \\\\\n",
       "\t 99902661935104002 & 1                 & 0                 & 1                 & 0                 & 0                 & 0                 & 0                 & 0                 & 0                 & 0                 & real             \\\\\n",
       "\t 999098069         & 0                 & 0                 & 0                 & 0                 & 0                 & 0                 & 0                 & 0                 & 0                 & 1                 & real             \\\\\n",
       "\t 9991511556        & 0                 & 1                 & 1                 & 0                 & 1                 & 1                 & 0                 & 0                 & 0                 & 0                 & real             \\\\\n",
       "\t 99916019371474944 & 1                 & 0                 & 0                 & 0                 & 0                 & 0                 & 0                 & 0                 & 0                 & 1                 & real             \\\\\n",
       "\t 9991845064        & 0                 & 1                 & 1                 & 1                 & 0                 & 0                 & 0                 & 0                 & 0                 & 0                 & real             \\\\\n",
       "\t 99921540782632961 & 0                 & 0                 & 0                 & 0                 & 0                 & 0                 & 1                 & 0                 & 0                 & 0                 & real             \\\\\n",
       "\t 9992920426        & 1                 & 0                 & 0                 & 0                 & 0                 & 0                 & 1                 & 0                 & 0                 & 0                 & real             \\\\\n",
       "\t 999335623         & 1                 & 0                 & 0                 & 0                 & 0                 & 0                 & 0                 & 0                 & 0                 & 0                 & real             \\\\\n",
       "\t 9993556940        & 2                 & 0                 & 0                 & 0                 & 0                 & 0                 & 1                 & 0                 & 1                 & 1                 & real             \\\\\n",
       "\t 999454921         & 1                 & 0                 & 0                 & 0                 & 0                 & 0                 & 1                 & 0                 & 1                 & 0                 & real             \\\\\n",
       "\t 99945739437879296 & 0                 & 0                 & 0                 & 0                 & 0                 & 1                 & 1                 & 0                 & 0                 & 0                 & real             \\\\\n",
       "\t 999458614         & 0                 & 0                 & 0                 & 0                 & 0                 & 1                 & 2                 & 0                 & 1                 & 1                 & real             \\\\\n",
       "\t 999475920         & 0                 & 0                 & 0                 & 0                 & 0                 & 0                 & 0                 & 0                 & 0                 & 1                 & real             \\\\\n",
       "\t 99948350484381697 & 0                 & 0                 & 1                 & 0                 & 0                 & 0                 & 1                 & 0                 & 0                 & 1                 & real             \\\\\n",
       "\t 99949142712918017 & 0                 & 1                 & 2                 & 1                 & 2                 & 0                 & 0                 & 1                 & 0                 & 0                 & real             \\\\\n",
       "\t 99953361541005312 & 0                 & 0                 & 0                 & 0                 & 0                 & 0                 & 0                 & 0                 & 0                 & 2                 & real             \\\\\n",
       "\t 99958248064557057 & 1                 & 0                 & 0                 & 0                 & 0                 & 1                 & 1                 & 0                 & 1                 & 2                 & real             \\\\\n",
       "\t 9996364068        & 0                 & 0                 & 0                 & 0                 & 0                 & 0                 & 1                 & 0                 & 0                 & 0                 & real             \\\\\n",
       "\t 999682705         & 0                 & 0                 & 0                 & 0                 & 0                 & 0                 & 1                 & 0                 & 0                 & 0                 & real             \\\\\n",
       "\t 99973790699753473 & 0                 & 0                 & 0                 & 0                 & 0                 & 0                 & 1                 & 0                 & 0                 & 0                 & real             \\\\\n",
       "\t 9998069706        & 0                 & 0                 & 1                 & 0                 & 1                 & 0                 & 0                 & 0                 & 0                 & 0                 & real             \\\\\n",
       "\t 9998131050        & 1                 & 0                 & 0                 & 0                 & 0                 & 0                 & 1                 & 0                 & 0                 & 0                 & real             \\\\\n",
       "\t 99986578054717440 & 0                 & 1                 & 1                 & 1                 & 1                 & 0                 & 0                 & 1                 & 0                 & 0                 & real             \\\\\n",
       "\\end{tabular}\n"
      ],
      "text/markdown": [
       "\n",
       "id | trust | fear | negative | sadness | anger | surprise | positive | disgust | joy | anticipation | realFAKEcat | \n",
       "|---|---|---|---|---|---|---|---|---|---|---|---|---|---|---|---|---|---|---|---|---|---|---|---|---|---|---|---|---|---|---|---|---|---|---|---|---|---|---|---|---|---|---|---|---|---|---|---|---|---|---|---|---|---|---|---|---|---|---|---|---|\n",
       "| 1023861511 | 1          | 0          | 0          | 0          | 0          | 0          | 0          | 0          | 0          | 0          | fake       | \n",
       "| 1183192955 | 0          | 1          | 1          | 0          | 0          | 0          | 0          | 0          | 0          | 0          | fake       | \n",
       "| 1189773795 | 0          | 0          | 1          | 1          | 0          | 0          | 0          | 0          | 0          | 0          | fake       | \n",
       "| 1204599498 | 0          | 0          | 0          | 0          | 0          | 0          | 1          | 0          | 0          | 0          | fake       | \n",
       "| 1210430389 | 2          | 0          | 0          | 1          | 0          | 1          | 4          | 0          | 2          | 2          | fake       | \n",
       "| 1213317158 | 1          | 0          | 0          | 1          | 0          | 1          | 2          | 0          | 1          | 1          | fake       | \n",
       "| 1226758528 | 1          | 0          | 0          | 0          | 0          | 0          | 1          | 0          | 0          | 0          | fake       | \n",
       "| 1230802453 | 0          | 1          | 1          | 1          | 0          | 0          | 0          | 1          | 0          | 0          | fake       | \n",
       "| 1235967720 | 0          | 0          | 0          | 0          | 0          | 0          | 1          | 0          | 0          | 0          | fake       | \n",
       "| 1248303008 | 0          | 0          | 0          | 0          | 0          | 0          | 0          | 0          | 0          | 1          | fake       | \n",
       "| 1248315583 | 1          | 0          | 0          | 0          | 0          | 1          | 1          | 1          | 1          | 1          | fake       | \n",
       "| 1257268832 | 1          | 0          | 0          | 0          | 0          | 1          | 1          | 1          | 1          | 1          | fake       | \n",
       "| 1261824330 | 1          | 0          | 0          | 0          | 0          | 0          | 1          | 0          | 1          | 1          | fake       | \n",
       "| 1265670629 | 1          | 0          | 0          | 0          | 0          | 1          | 1          | 0          | 1          | 1          | fake       | \n",
       "| 1273331935 | 0          | 0          | 0          | 0          | 0          | 0          | 1          | 0          | 0          | 0          | fake       | \n",
       "| 1274028569 | 0          | 0          | 1          | 0          | 0          | 0          | 0          | 0          | 0          | 0          | fake       | \n",
       "| 1277870540 | 1          | 0          | 0          | 0          | 0          | 0          | 1          | 0          | 1          | 1          | fake       | \n",
       "| 1284091600 | 0          | 0          | 1          | 0          | 1          | 0          | 0          | 1          | 0          | 0          | fake       | \n",
       "| 1317142395 | 0          | 1          | 1          | 1          | 1          | 1          | 0          | 1          | 0          | 1          | fake       | \n",
       "| 1330704084 | 0          | 0          | 0          | 0          | 0          | 0          | 0          | 0          | 0          | 1          | fake       | \n",
       "| 1330730973 | 2          | 2          | 4          | 3          | 2          | 1          | 2          | 1          | 2          | 1          | fake       | \n",
       "| 1330737617 | 1          | 0          | 0          | 0          | 0          | 1          | 2          | 0          | 1          | 1          | fake       | \n",
       "| 1330765639 | 0          | 1          | 1          | 1          | 0          | 0          | 0          | 0          | 0          | 0          | fake       | \n",
       "| 1348853138 | 0          | 1          | 1          | 1          | 0          | 0          | 0          | 0          | 0          | 0          | fake       | \n",
       "| 1387782384 | 1          | 0          | 0          | 0          | 0          | 0          | 2          | 0          | 1          | 0          | fake       | \n",
       "| 1392546412 | 0          | 0          | 0          | 0          | 0          | 0          | 0          | 0          | 0          | 1          | fake       | \n",
       "| 1395106681 | 0          | 0          | 0          | 1          | 0          | 0          | 0          | 0          | 0          | 1          | fake       | \n",
       "| 1395201197 | 1          | 0          | 0          | 0          | 0          | 0          | 1          | 0          | 1          | 2          | fake       | \n",
       "| 1395209740 | 0          | 0          | 1          | 0          | 1          | 0          | 1          | 1          | 1          | 1          | fake       | \n",
       "| 1427927588 | 0          | 0          | 1          | 1          | 0          | 0          | 0          | 1          | 0          | 0          | fake       | \n",
       "| ⋮ | ⋮ | ⋮ | ⋮ | ⋮ | ⋮ | ⋮ | ⋮ | ⋮ | ⋮ | ⋮ | ⋮ | \n",
       "| 99892075553763329 | 1                 | 0                 | 0                 | 0                 | 0                 | 0                 | 0                 | 0                 | 0                 | 1                 | real              | \n",
       "| 99892864728834048 | 0                 | 0                 | 0                 | 0                 | 0                 | 0                 | 1                 | 0                 | 1                 | 0                 | real              | \n",
       "| 99893394159050752 | 0                 | 0                 | 0                 | 0                 | 0                 | 0                 | 0                 | 1                 | 0                 | 0                 | real              | \n",
       "| 99895706571116544 | 1                 | 0                 | 0                 | 0                 | 0                 | 1                 | 1                 | 0                 | 1                 | 1                 | real              | \n",
       "| 99896158566096896 | 0                 | 0                 | 0                 | 0                 | 0                 | 0                 | 1                 | 0                 | 0                 | 0                 | real              | \n",
       "| 99898235065339904 | 0                 | 1                 | 1                 | 1                 | 1                 | 0                 | 0                 | 1                 | 0                 | 0                 | real              | \n",
       "| 99899088346152961 | 1                 | 0                 | 0                 | 0                 | 0                 | 0                 | 1                 | 0                 | 0                 | 1                 | real              | \n",
       "| 99902661935104002 | 1                 | 0                 | 1                 | 0                 | 0                 | 0                 | 0                 | 0                 | 0                 | 0                 | real              | \n",
       "| 999098069         | 0                 | 0                 | 0                 | 0                 | 0                 | 0                 | 0                 | 0                 | 0                 | 1                 | real              | \n",
       "| 9991511556        | 0                 | 1                 | 1                 | 0                 | 1                 | 1                 | 0                 | 0                 | 0                 | 0                 | real              | \n",
       "| 99916019371474944 | 1                 | 0                 | 0                 | 0                 | 0                 | 0                 | 0                 | 0                 | 0                 | 1                 | real              | \n",
       "| 9991845064        | 0                 | 1                 | 1                 | 1                 | 0                 | 0                 | 0                 | 0                 | 0                 | 0                 | real              | \n",
       "| 99921540782632961 | 0                 | 0                 | 0                 | 0                 | 0                 | 0                 | 1                 | 0                 | 0                 | 0                 | real              | \n",
       "| 9992920426        | 1                 | 0                 | 0                 | 0                 | 0                 | 0                 | 1                 | 0                 | 0                 | 0                 | real              | \n",
       "| 999335623         | 1                 | 0                 | 0                 | 0                 | 0                 | 0                 | 0                 | 0                 | 0                 | 0                 | real              | \n",
       "| 9993556940        | 2                 | 0                 | 0                 | 0                 | 0                 | 0                 | 1                 | 0                 | 1                 | 1                 | real              | \n",
       "| 999454921         | 1                 | 0                 | 0                 | 0                 | 0                 | 0                 | 1                 | 0                 | 1                 | 0                 | real              | \n",
       "| 99945739437879296 | 0                 | 0                 | 0                 | 0                 | 0                 | 1                 | 1                 | 0                 | 0                 | 0                 | real              | \n",
       "| 999458614         | 0                 | 0                 | 0                 | 0                 | 0                 | 1                 | 2                 | 0                 | 1                 | 1                 | real              | \n",
       "| 999475920         | 0                 | 0                 | 0                 | 0                 | 0                 | 0                 | 0                 | 0                 | 0                 | 1                 | real              | \n",
       "| 99948350484381697 | 0                 | 0                 | 1                 | 0                 | 0                 | 0                 | 1                 | 0                 | 0                 | 1                 | real              | \n",
       "| 99949142712918017 | 0                 | 1                 | 2                 | 1                 | 2                 | 0                 | 0                 | 1                 | 0                 | 0                 | real              | \n",
       "| 99953361541005312 | 0                 | 0                 | 0                 | 0                 | 0                 | 0                 | 0                 | 0                 | 0                 | 2                 | real              | \n",
       "| 99958248064557057 | 1                 | 0                 | 0                 | 0                 | 0                 | 1                 | 1                 | 0                 | 1                 | 2                 | real              | \n",
       "| 9996364068        | 0                 | 0                 | 0                 | 0                 | 0                 | 0                 | 1                 | 0                 | 0                 | 0                 | real              | \n",
       "| 999682705         | 0                 | 0                 | 0                 | 0                 | 0                 | 0                 | 1                 | 0                 | 0                 | 0                 | real              | \n",
       "| 99973790699753473 | 0                 | 0                 | 0                 | 0                 | 0                 | 0                 | 1                 | 0                 | 0                 | 0                 | real              | \n",
       "| 9998069706        | 0                 | 0                 | 1                 | 0                 | 1                 | 0                 | 0                 | 0                 | 0                 | 0                 | real              | \n",
       "| 9998131050        | 1                 | 0                 | 0                 | 0                 | 0                 | 0                 | 1                 | 0                 | 0                 | 0                 | real              | \n",
       "| 99986578054717440 | 0                 | 1                 | 1                 | 1                 | 1                 | 0                 | 0                 | 1                 | 0                 | 0                 | real              | \n",
       "\n",
       "\n"
      ],
      "text/plain": [
       "        id                trust fear negative sadness anger surprise positive\n",
       "1       1023861511        1     0    0        0       0     0        0       \n",
       "2       1183192955        0     1    1        0       0     0        0       \n",
       "3       1189773795        0     0    1        1       0     0        0       \n",
       "4       1204599498        0     0    0        0       0     0        1       \n",
       "5       1210430389        2     0    0        1       0     1        4       \n",
       "6       1213317158        1     0    0        1       0     1        2       \n",
       "7       1226758528        1     0    0        0       0     0        1       \n",
       "8       1230802453        0     1    1        1       0     0        0       \n",
       "9       1235967720        0     0    0        0       0     0        1       \n",
       "10      1248303008        0     0    0        0       0     0        0       \n",
       "11      1248315583        1     0    0        0       0     1        1       \n",
       "12      1257268832        1     0    0        0       0     1        1       \n",
       "13      1261824330        1     0    0        0       0     0        1       \n",
       "14      1265670629        1     0    0        0       0     1        1       \n",
       "15      1273331935        0     0    0        0       0     0        1       \n",
       "16      1274028569        0     0    1        0       0     0        0       \n",
       "17      1277870540        1     0    0        0       0     0        1       \n",
       "18      1284091600        0     0    1        0       1     0        0       \n",
       "19      1317142395        0     1    1        1       1     1        0       \n",
       "20      1330704084        0     0    0        0       0     0        0       \n",
       "21      1330730973        2     2    4        3       2     1        2       \n",
       "22      1330737617        1     0    0        0       0     1        2       \n",
       "23      1330765639        0     1    1        1       0     0        0       \n",
       "24      1348853138        0     1    1        1       0     0        0       \n",
       "25      1387782384        1     0    0        0       0     0        2       \n",
       "26      1392546412        0     0    0        0       0     0        0       \n",
       "27      1395106681        0     0    0        1       0     0        0       \n",
       "28      1395201197        1     0    0        0       0     0        1       \n",
       "29      1395209740        0     0    1        0       1     0        1       \n",
       "30      1427927588        0     0    1        1       0     0        0       \n",
       "⋮       ⋮                 ⋮     ⋮    ⋮        ⋮       ⋮     ⋮        ⋮       \n",
       "1545660 99892075553763329 1     0    0        0       0     0        0       \n",
       "1545661 99892864728834048 0     0    0        0       0     0        1       \n",
       "1545662 99893394159050752 0     0    0        0       0     0        0       \n",
       "1545663 99895706571116544 1     0    0        0       0     1        1       \n",
       "1545664 99896158566096896 0     0    0        0       0     0        1       \n",
       "1545665 99898235065339904 0     1    1        1       1     0        0       \n",
       "1545666 99899088346152961 1     0    0        0       0     0        1       \n",
       "1545667 99902661935104002 1     0    1        0       0     0        0       \n",
       "1545668 999098069         0     0    0        0       0     0        0       \n",
       "1545669 9991511556        0     1    1        0       1     1        0       \n",
       "1545670 99916019371474944 1     0    0        0       0     0        0       \n",
       "1545671 9991845064        0     1    1        1       0     0        0       \n",
       "1545672 99921540782632961 0     0    0        0       0     0        1       \n",
       "1545673 9992920426        1     0    0        0       0     0        1       \n",
       "1545674 999335623         1     0    0        0       0     0        0       \n",
       "1545675 9993556940        2     0    0        0       0     0        1       \n",
       "1545676 999454921         1     0    0        0       0     0        1       \n",
       "1545677 99945739437879296 0     0    0        0       0     1        1       \n",
       "1545678 999458614         0     0    0        0       0     1        2       \n",
       "1545679 999475920         0     0    0        0       0     0        0       \n",
       "1545680 99948350484381697 0     0    1        0       0     0        1       \n",
       "1545681 99949142712918017 0     1    2        1       2     0        0       \n",
       "1545682 99953361541005312 0     0    0        0       0     0        0       \n",
       "1545683 99958248064557057 1     0    0        0       0     1        1       \n",
       "1545684 9996364068        0     0    0        0       0     0        1       \n",
       "1545685 999682705         0     0    0        0       0     0        1       \n",
       "1545686 99973790699753473 0     0    0        0       0     0        1       \n",
       "1545687 9998069706        0     0    1        0       1     0        0       \n",
       "1545688 9998131050        1     0    0        0       0     0        1       \n",
       "1545689 99986578054717440 0     1    1        1       1     0        0       \n",
       "        disgust joy anticipation realFAKEcat\n",
       "1       0       0   0            fake       \n",
       "2       0       0   0            fake       \n",
       "3       0       0   0            fake       \n",
       "4       0       0   0            fake       \n",
       "5       0       2   2            fake       \n",
       "6       0       1   1            fake       \n",
       "7       0       0   0            fake       \n",
       "8       1       0   0            fake       \n",
       "9       0       0   0            fake       \n",
       "10      0       0   1            fake       \n",
       "11      1       1   1            fake       \n",
       "12      1       1   1            fake       \n",
       "13      0       1   1            fake       \n",
       "14      0       1   1            fake       \n",
       "15      0       0   0            fake       \n",
       "16      0       0   0            fake       \n",
       "17      0       1   1            fake       \n",
       "18      1       0   0            fake       \n",
       "19      1       0   1            fake       \n",
       "20      0       0   1            fake       \n",
       "21      1       2   1            fake       \n",
       "22      0       1   1            fake       \n",
       "23      0       0   0            fake       \n",
       "24      0       0   0            fake       \n",
       "25      0       1   0            fake       \n",
       "26      0       0   1            fake       \n",
       "27      0       0   1            fake       \n",
       "28      0       1   2            fake       \n",
       "29      1       1   1            fake       \n",
       "30      1       0   0            fake       \n",
       "⋮       ⋮       ⋮   ⋮            ⋮          \n",
       "1545660 0       0   1            real       \n",
       "1545661 0       1   0            real       \n",
       "1545662 1       0   0            real       \n",
       "1545663 0       1   1            real       \n",
       "1545664 0       0   0            real       \n",
       "1545665 1       0   0            real       \n",
       "1545666 0       0   1            real       \n",
       "1545667 0       0   0            real       \n",
       "1545668 0       0   1            real       \n",
       "1545669 0       0   0            real       \n",
       "1545670 0       0   1            real       \n",
       "1545671 0       0   0            real       \n",
       "1545672 0       0   0            real       \n",
       "1545673 0       0   0            real       \n",
       "1545674 0       0   0            real       \n",
       "1545675 0       1   1            real       \n",
       "1545676 0       1   0            real       \n",
       "1545677 0       0   0            real       \n",
       "1545678 0       1   1            real       \n",
       "1545679 0       0   1            real       \n",
       "1545680 0       0   1            real       \n",
       "1545681 1       0   0            real       \n",
       "1545682 0       0   2            real       \n",
       "1545683 0       1   2            real       \n",
       "1545684 0       0   0            real       \n",
       "1545685 0       0   0            real       \n",
       "1545686 0       0   0            real       \n",
       "1545687 0       0   0            real       \n",
       "1545688 0       0   0            real       \n",
       "1545689 1       0   0            real       "
      ]
     },
     "metadata": {},
     "output_type": "display_data"
    }
   ],
   "source": [
    "nrcSCORES"
   ]
  },
  {
   "cell_type": "markdown",
   "metadata": {},
   "source": [
    "Create Samples for training and testing"
   ]
  },
  {
   "cell_type": "code",
   "execution_count": 31,
   "metadata": {
    "collapsed": true
   },
   "outputs": [],
   "source": [
    "set.seed(158)\n",
    "fakeTRAINind <- sample(1:nrow(fakeNRCscores), 50000)"
   ]
  },
  {
   "cell_type": "code",
   "execution_count": 34,
   "metadata": {
    "collapsed": true
   },
   "outputs": [],
   "source": [
    "set.seed(231)\n",
    "realTRAINind <- sample(1:nrow(realNRCscores), 1300000)"
   ]
  },
  {
   "cell_type": "code",
   "execution_count": 36,
   "metadata": {},
   "outputs": [
    {
     "data": {
      "text/html": [
       "50000"
      ],
      "text/latex": [
       "50000"
      ],
      "text/markdown": [
       "50000"
      ],
      "text/plain": [
       "[1] 50000"
      ]
     },
     "metadata": {},
     "output_type": "display_data"
    },
    {
     "data": {
      "text/html": [
       "8661"
      ],
      "text/latex": [
       "8661"
      ],
      "text/markdown": [
       "8661"
      ],
      "text/plain": [
       "[1] 8661"
      ]
     },
     "metadata": {},
     "output_type": "display_data"
    }
   ],
   "source": [
    "fakeNRCscoresTRAIN <- fakeNRCscores[fakeTRAINind, ]\n",
    "fakeNRCscoresTEST <- fakeNRCscores[-fakeTRAINind, ]\n",
    "nrow(fakeNRCscoresTRAIN)\n",
    "nrow(fakeNRCscoresTEST)"
   ]
  },
  {
   "cell_type": "code",
   "execution_count": 38,
   "metadata": {},
   "outputs": [
    {
     "data": {
      "text/html": [
       "1300000"
      ],
      "text/latex": [
       "1300000"
      ],
      "text/markdown": [
       "1300000"
      ],
      "text/plain": [
       "[1] 1300000"
      ]
     },
     "metadata": {},
     "output_type": "display_data"
    },
    {
     "data": {
      "text/html": [
       "187028"
      ],
      "text/latex": [
       "187028"
      ],
      "text/markdown": [
       "187028"
      ],
      "text/plain": [
       "[1] 187028"
      ]
     },
     "metadata": {},
     "output_type": "display_data"
    }
   ],
   "source": [
    "realNRCscoresTRAIN <- realNRCscores[realTRAINind, ]\n",
    "realNRCscoresTEST <- realNRCscores[-realTRAINind, ]\n",
    "nrow(realNRCscoresTRAIN)\n",
    "nrow(realNRCscoresTEST)"
   ]
  },
  {
   "cell_type": "code",
   "execution_count": 62,
   "metadata": {
    "collapsed": true
   },
   "outputs": [],
   "source": [
    "NRCscoresTRAIN <- rbind(fakeNRCscoresTRAIN, realNRCscoresTRAIN)\n",
    "NRCscoresTEST <- rbind(fakeNRCscoresTEST, realNRCscoresTEST)"
   ]
  },
  {
   "cell_type": "code",
   "execution_count": 64,
   "metadata": {},
   "outputs": [
    {
     "data": {
      "text/html": [
       "1350000"
      ],
      "text/latex": [
       "1350000"
      ],
      "text/markdown": [
       "1350000"
      ],
      "text/plain": [
       "[1] 1350000"
      ]
     },
     "metadata": {},
     "output_type": "display_data"
    },
    {
     "data": {
      "text/html": [
       "195689"
      ],
      "text/latex": [
       "195689"
      ],
      "text/markdown": [
       "195689"
      ],
      "text/plain": [
       "[1] 195689"
      ]
     },
     "metadata": {},
     "output_type": "display_data"
    }
   ],
   "source": [
    "nrow(NRCscoresTRAIN)\n",
    "nrow(NRCscoresTEST)"
   ]
  }
 ],
 "metadata": {
  "kernelspec": {
   "display_name": "R",
   "language": "R",
   "name": "ir"
  },
  "language_info": {
   "codemirror_mode": "r",
   "file_extension": ".r",
   "mimetype": "text/x-r-source",
   "name": "R",
   "pygments_lexer": "r",
   "version": "3.4.2"
  }
 },
 "nbformat": 4,
 "nbformat_minor": 2
}
