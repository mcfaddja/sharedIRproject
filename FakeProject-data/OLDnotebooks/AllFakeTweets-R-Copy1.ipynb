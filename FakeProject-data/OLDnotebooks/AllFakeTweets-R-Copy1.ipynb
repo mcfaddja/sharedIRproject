{
 "cells": [
  {
   "cell_type": "markdown",
   "metadata": {},
   "source": [
    "# All Fake Tweets (*R*)\n",
    "\n",
    "In this notebooks, we will use the \"fake_followers.csv\" data file, from the dataset provided by the Fake Project, as our source data file.\n",
    "\n",
    "## Load the data file\n",
    "\n",
    "> First, we store the file name (*and its location*) in the string '**fileName**'."
   ]
  },
  {
   "cell_type": "code",
   "execution_count": 5,
   "metadata": {
    "collapsed": true
   },
   "outputs": [],
   "source": [
    "fileName0 = '../datasetsFULLcsv/fakeFollowersCSV/tweets.csv'\n",
    "\n",
    "fileNames = c('../datasetsFULLcsv/socialSpambots1csv/tweets.csv', '../datasetsFULLcsv/socialSpambots2csv/tweets.csv', '../datasetsFULLcsv/socialSpambots3csv/tweets.csv', '../datasetsFULLcsv/traditionalSpambots1csv/tweets.csv')"
   ]
  },
  {
   "cell_type": "markdown",
   "metadata": {},
   "source": [
    "> Using the CSV filename previously specified in '**fileName**', we can now load the file into the _data.frame_( ) named '**fakeCSV**'."
   ]
  },
  {
   "cell_type": "code",
   "execution_count": 4,
   "metadata": {
    "scrolled": true
   },
   "outputs": [
    {
     "name": "stderr",
     "output_type": "stream",
     "text": [
      "Warning message in scan(file = file, what = what, sep = sep, quote = quote, dec = dec, :\n",
      "“embedded nul(s) found in input”Warning message in scan(file = file, what = what, sep = sep, quote = quote, dec = dec, :\n",
      "“embedded nul(s) found in input”Warning message in scan(file = file, what = what, sep = sep, quote = quote, dec = dec, :\n",
      "“embedded nul(s) found in input”Warning message in scan(file = file, what = what, sep = sep, quote = quote, dec = dec, :\n",
      "“embedded nul(s) found in input”Warning message in scan(file = file, what = what, sep = sep, quote = quote, dec = dec, :\n",
      "“embedded nul(s) found in input”"
     ]
    }
   ],
   "source": [
    "fakeCSV = read.csv(fileName0)\n",
    "fakeTweets <- data.frame(userID = fakeCSV$user_id, id = fakeCSV$id, text = fakeCSV$text)\n",
    "\n",
    "for (filename in fileNames) {\n",
    "    temp0 = read.csv(filename)\n",
    "    #fakeCSV <- rbind(fakeCSV, temp0)\n",
    "    temp <- data.frame(userID = temp0$user_id, id = temp0$id, text = temp0$text)\n",
    "    fakeTweets <- rbind(fakeTweets, temp)\n",
    "}"
   ]
  },
  {
   "cell_type": "markdown",
   "metadata": {},
   "source": [
    "From the '**fakeCSV**' _data.frame_( ), we will create a smaller, simpler *data.frame*( ) named '**fakeTweets**'.  This reduction in size and complexity of '**fakeTweets**' is due to the fact that it only contains the ID number of the tweet in our database, the ID number of the user who generated the tweet, along with the text of the tweet.  "
   ]
  },
  {
   "cell_type": "code",
   "execution_count": null,
   "metadata": {
    "collapsed": true
   },
   "outputs": [],
   "source": [
    "#fakeTweets <- data.frame(userID = fakeCSV$user_id, id = fakeCSV$id, text = fakeCSV$text)"
   ]
  },
  {
   "cell_type": "markdown",
   "metadata": {
    "collapsed": true
   },
   "source": [
    "Now we remove web URLS, twitter usernames, twitter hashtags, punctuation, and stand-alone numeric digits."
   ]
  },
  {
   "cell_type": "code",
   "execution_count": 6,
   "metadata": {
    "collapsed": true
   },
   "outputs": [],
   "source": [
    "# remove web URLs\n",
    "fakeTweets <- data.frame(userID = fakeTweets$userID, id = fakeTweets$id, text = gsub(\"http[[:alnum:][:punct:]]*\", \"\", fakeTweets$text))\n",
    "\n",
    "# remove twitter handles (@<username>)\n",
    "fakeTweets <- data.frame(userID = fakeTweets$userID, id = fakeTweets$id, text = gsub(\"#[[:alnum:][:punct:]]*\", \"\", fakeTweets$text))\n",
    "\n",
    "# remove hashtags (#<hashtag name>)\n",
    "fakeTweets <- data.frame(userID = fakeTweets$userID, id = fakeTweets$id, text = gsub(\"@[[:alnum:][:punct:]]*\", \"\", fakeTweets$text))\n",
    "\n",
    "# remove punctuation\n",
    "fakeTweets <- data.frame(userID = fakeTweets$userID, id = fakeTweets$id, text = gsub('[[:punct:] ]+', ' ', fakeTweets$text))\n",
    "\n",
    "# remove numbers\n",
    "fakeTweets <- data.frame(userID = fakeTweets$userID, id = fakeTweets$id, text = gsub(\"[0-9]\", \"\", fakeTweets$text))\n",
    "\n",
    "# convert to lowercase\n",
    "fakeTweets <- data.frame(userID = fakeTweets$userID, id = fakeTweets$id, text = tolower(fakeTweets$text))"
   ]
  },
  {
   "cell_type": "markdown",
   "metadata": {},
   "source": [
    "## TidyText the data file\n",
    "\n",
    "> Now we must tokenize the text of each tweet using the '*tidytext*' and '*dplyr*' libraries.  First, we must import the '*tidytext*' and '*dplyr*' libraries,"
   ]
  },
  {
   "cell_type": "code",
   "execution_count": 7,
   "metadata": {},
   "outputs": [
    {
     "name": "stderr",
     "output_type": "stream",
     "text": [
      "\n",
      "Attaching package: ‘dplyr’\n",
      "\n",
      "The following objects are masked from ‘package:stats’:\n",
      "\n",
      "    filter, lag\n",
      "\n",
      "The following objects are masked from ‘package:base’:\n",
      "\n",
      "    intersect, setdiff, setequal, union\n",
      "\n"
     ]
    }
   ],
   "source": [
    "library(dplyr)\n",
    "library(tidytext)"
   ]
  },
  {
   "cell_type": "markdown",
   "metadata": {},
   "source": [
    "> Then we convert the data frame of '**fakeTweets**' to the type from the '*dplyr*' library,"
   ]
  },
  {
   "cell_type": "code",
   "execution_count": 8,
   "metadata": {
    "collapsed": true,
    "scrolled": true
   },
   "outputs": [],
   "source": [
    "fakeTweets <- data_frame(userID = fakeTweets$userID, id = fakeTweets$id, text = as.character(fakeTweets$text))"
   ]
  },
  {
   "cell_type": "markdown",
   "metadata": {},
   "source": [
    "> so that we can finally tokenize the text from each of the tweets,"
   ]
  },
  {
   "cell_type": "code",
   "execution_count": 9,
   "metadata": {
    "collapsed": true
   },
   "outputs": [],
   "source": [
    "fakeTweetsTOKENS <- fakeTweets %>%\n",
    "    unnest_tokens(word, text)"
   ]
  },
  {
   "cell_type": "markdown",
   "metadata": {},
   "source": [
    "## Remove '*Stop Words*'\n",
    "\n",
    "> Now, we will remove any stop words from the text of the tweets.  To do this, we first import the '*stop_words*' dataset from the '*tidytext*' library"
   ]
  },
  {
   "cell_type": "code",
   "execution_count": 10,
   "metadata": {
    "collapsed": true
   },
   "outputs": [],
   "source": [
    "data(stop_words)"
   ]
  },
  {
   "cell_type": "markdown",
   "metadata": {},
   "source": [
    "> Now, we use the '*anti_join*( )' function from the '*dplyr*' library to remove these stop wrods."
   ]
  },
  {
   "cell_type": "code",
   "execution_count": 11,
   "metadata": {},
   "outputs": [
    {
     "name": "stderr",
     "output_type": "stream",
     "text": [
      "Joining, by = \"word\"\n"
     ]
    }
   ],
   "source": [
    "fakeTweetsTOKENS <- fakeTweetsTOKENS %>%\n",
    "    anti_join(stop_words)"
   ]
  },
  {
   "cell_type": "code",
   "execution_count": 12,
   "metadata": {
    "collapsed": true
   },
   "outputs": [],
   "source": [
    "nrcWORDS <- get_sentiments(\"nrc\")\n",
    "nrcEMOTIONS <- unique(nrcWORDS$sentiment)"
   ]
  },
  {
   "cell_type": "code",
   "execution_count": 13,
   "metadata": {},
   "outputs": [
    {
     "name": "stderr",
     "output_type": "stream",
     "text": [
      "Joining, by = \"word\"\n",
      "Joining, by = \"id\"\n",
      "Joining, by = \"word\"\n",
      "Joining, by = c(\"id\", \"userID\", \"word\", \"sentiment\")\n",
      "Joining, by = \"word\"\n",
      "Joining, by = c(\"id\", \"userID\", \"word\", \"sentiment\")\n",
      "Joining, by = \"word\"\n",
      "Joining, by = c(\"id\", \"userID\", \"word\", \"sentiment\")\n",
      "Joining, by = \"word\"\n",
      "Joining, by = c(\"id\", \"userID\", \"word\", \"sentiment\")\n",
      "Joining, by = \"word\"\n",
      "Joining, by = c(\"id\", \"userID\", \"word\", \"sentiment\")\n",
      "Joining, by = \"word\"\n",
      "Joining, by = c(\"id\", \"userID\", \"word\", \"sentiment\")\n",
      "Joining, by = \"word\"\n",
      "Joining, by = c(\"id\", \"userID\", \"word\", \"sentiment\")\n",
      "Joining, by = \"word\"\n",
      "Joining, by = c(\"id\", \"userID\", \"word\", \"sentiment\")\n",
      "Joining, by = \"word\"\n",
      "Joining, by = c(\"id\", \"userID\", \"word\", \"sentiment\")\n"
     ]
    }
   ],
   "source": [
    "fakeTweetsNRCsentiment <- data.frame(id = 0)\n",
    "for (emotion in nrcEMOTIONS){\n",
    "    fakeTweetsNRCsentiment0 <- inner_join(fakeTweetsTOKENS, filter(nrcWORDS, sentiment == emotion))\n",
    "    fakeTweetsNRCsentiment <- full_join(fakeTweetsNRCsentiment, fakeTweetsNRCsentiment0)\n",
    "    }\n",
    "fakeTweetsNRCsentiment <- data.frame(fakeTweetsNRCsentiment[-1,])\n",
    "#fakeTweetsNRCsentiment"
   ]
  },
  {
   "cell_type": "code",
   "execution_count": 14,
   "metadata": {
    "collapsed": true
   },
   "outputs": [],
   "source": [
    "attach(fakeTweetsNRCsentiment)\n",
    "fakeNRCscoredTweets <- data.frame(table(id, sentiment), realFAKEcat = \"fake\")\n",
    "detach(fakeTweetsNRCsentiment)"
   ]
  },
  {
   "cell_type": "code",
   "execution_count": 15,
   "metadata": {},
   "outputs": [
    {
     "data": {
      "text/html": [
       "<table>\n",
       "<thead><tr><th scope=col>id</th><th scope=col>sentiment</th><th scope=col>Freq</th><th scope=col>realFAKEcat</th></tr></thead>\n",
       "<tbody>\n",
       "\t<tr><td>79932896</td><td>anger   </td><td>0       </td><td>fake    </td></tr>\n",
       "\t<tr><td>79932963</td><td>anger   </td><td>0       </td><td>fake    </td></tr>\n",
       "\t<tr><td>79933142</td><td>anger   </td><td>0       </td><td>fake    </td></tr>\n",
       "\t<tr><td>80053480</td><td>anger   </td><td>0       </td><td>fake    </td></tr>\n",
       "\t<tr><td>80161319</td><td>anger   </td><td>0       </td><td>fake    </td></tr>\n",
       "\t<tr><td>80162827</td><td>anger   </td><td>0       </td><td>fake    </td></tr>\n",
       "\t<tr><td>80559322</td><td>anger   </td><td>1       </td><td>fake    </td></tr>\n",
       "\t<tr><td>80608082</td><td>anger   </td><td>0       </td><td>fake    </td></tr>\n",
       "\t<tr><td>80615798</td><td>anger   </td><td>0       </td><td>fake    </td></tr>\n",
       "\t<tr><td>80615987</td><td>anger   </td><td>0       </td><td>fake    </td></tr>\n",
       "\t<tr><td>80626723</td><td>anger   </td><td>0       </td><td>fake    </td></tr>\n",
       "\t<tr><td>80804895</td><td>anger   </td><td>0       </td><td>fake    </td></tr>\n",
       "\t<tr><td>80913451</td><td>anger   </td><td>1       </td><td>fake    </td></tr>\n",
       "\t<tr><td>81001802</td><td>anger   </td><td>0       </td><td>fake    </td></tr>\n",
       "\t<tr><td>81128945</td><td>anger   </td><td>1       </td><td>fake    </td></tr>\n",
       "\t<tr><td>81164188</td><td>anger   </td><td>0       </td><td>fake    </td></tr>\n",
       "\t<tr><td>81267526</td><td>anger   </td><td>1       </td><td>fake    </td></tr>\n",
       "\t<tr><td>81451047</td><td>anger   </td><td>0       </td><td>fake    </td></tr>\n",
       "\t<tr><td>81463517</td><td>anger   </td><td>2       </td><td>fake    </td></tr>\n",
       "\t<tr><td>81465570</td><td>anger   </td><td>0       </td><td>fake    </td></tr>\n",
       "\t<tr><td>81553620</td><td>anger   </td><td>0       </td><td>fake    </td></tr>\n",
       "\t<tr><td>81639001</td><td>anger   </td><td>0       </td><td>fake    </td></tr>\n",
       "\t<tr><td>82119126</td><td>anger   </td><td>0       </td><td>fake    </td></tr>\n",
       "\t<tr><td>82139098</td><td>anger   </td><td>0       </td><td>fake    </td></tr>\n",
       "\t<tr><td>82308187</td><td>anger   </td><td>1       </td><td>fake    </td></tr>\n",
       "\t<tr><td>82314232</td><td>anger   </td><td>0       </td><td>fake    </td></tr>\n",
       "\t<tr><td>82368322</td><td>anger   </td><td>1       </td><td>fake    </td></tr>\n",
       "\t<tr><td>82368536</td><td>anger   </td><td>0       </td><td>fake    </td></tr>\n",
       "\t<tr><td>82432980</td><td>anger   </td><td>0       </td><td>fake    </td></tr>\n",
       "\t<tr><td>82433089</td><td>anger   </td><td>0       </td><td>fake    </td></tr>\n",
       "\t<tr><td>⋮</td><td>⋮</td><td>⋮</td><td>⋮</td></tr>\n",
       "\t<tr><td>532894547442163712</td><td>trust             </td><td>0                 </td><td>fake              </td></tr>\n",
       "\t<tr><td>532894718955651072</td><td>trust             </td><td>0                 </td><td>fake              </td></tr>\n",
       "\t<tr><td>532905789292544000</td><td>trust             </td><td>0                 </td><td>fake              </td></tr>\n",
       "\t<tr><td>532919377122062336</td><td>trust             </td><td>0                 </td><td>fake              </td></tr>\n",
       "\t<tr><td>532921346989498368</td><td>trust             </td><td>0                 </td><td>fake              </td></tr>\n",
       "\t<tr><td>532923053844733952</td><td>trust             </td><td>1                 </td><td>fake              </td></tr>\n",
       "\t<tr><td>532923594087874560</td><td>trust             </td><td>0                 </td><td>fake              </td></tr>\n",
       "\t<tr><td>532927475643596800</td><td>trust             </td><td>0                 </td><td>fake              </td></tr>\n",
       "\t<tr><td>532930042784124928</td><td>trust             </td><td>0                 </td><td>fake              </td></tr>\n",
       "\t<tr><td>532938683104886784</td><td>trust             </td><td>0                 </td><td>fake              </td></tr>\n",
       "\t<tr><td>532939138996371456</td><td>trust             </td><td>1                 </td><td>fake              </td></tr>\n",
       "\t<tr><td>532941490751021056</td><td>trust             </td><td>0                 </td><td>fake              </td></tr>\n",
       "\t<tr><td>532943081302405120</td><td>trust             </td><td>1                 </td><td>fake              </td></tr>\n",
       "\t<tr><td>532943880719990784</td><td>trust             </td><td>0                 </td><td>fake              </td></tr>\n",
       "\t<tr><td>532948655175921664</td><td>trust             </td><td>0                 </td><td>fake              </td></tr>\n",
       "\t<tr><td>532949027784896512</td><td>trust             </td><td>0                 </td><td>fake              </td></tr>\n",
       "\t<tr><td>532956466773516288</td><td>trust             </td><td>0                 </td><td>fake              </td></tr>\n",
       "\t<tr><td>532956538034749440</td><td>trust             </td><td>2                 </td><td>fake              </td></tr>\n",
       "\t<tr><td>532957964253282304</td><td>trust             </td><td>0                 </td><td>fake              </td></tr>\n",
       "\t<tr><td>532959276449693696</td><td>trust             </td><td>0                 </td><td>fake              </td></tr>\n",
       "\t<tr><td>532960093449764864</td><td>trust             </td><td>0                 </td><td>fake              </td></tr>\n",
       "\t<tr><td>532960094557044736</td><td>trust             </td><td>0                 </td><td>fake              </td></tr>\n",
       "\t<tr><td>532964303155261440</td><td>trust             </td><td>0                 </td><td>fake              </td></tr>\n",
       "\t<tr><td>532973524651356160</td><td>trust             </td><td>1                 </td><td>fake              </td></tr>\n",
       "\t<tr><td>532983696232824832</td><td>trust             </td><td>2                 </td><td>fake              </td></tr>\n",
       "\t<tr><td>532993993978937344</td><td>trust             </td><td>0                 </td><td>fake              </td></tr>\n",
       "\t<tr><td>532999590619144192</td><td>trust             </td><td>2                 </td><td>fake              </td></tr>\n",
       "\t<tr><td>533002441844084736</td><td>trust             </td><td>0                 </td><td>fake              </td></tr>\n",
       "\t<tr><td>533009106379227136</td><td>trust             </td><td>0                 </td><td>fake              </td></tr>\n",
       "\t<tr><td>533017084138381312</td><td>trust             </td><td>1                 </td><td>fake              </td></tr>\n",
       "</tbody>\n",
       "</table>\n"
      ],
      "text/latex": [
       "\\begin{tabular}{r|llll}\n",
       " id & sentiment & Freq & realFAKEcat\\\\\n",
       "\\hline\n",
       "\t 79932896 & anger    & 0        & fake    \\\\\n",
       "\t 79932963 & anger    & 0        & fake    \\\\\n",
       "\t 79933142 & anger    & 0        & fake    \\\\\n",
       "\t 80053480 & anger    & 0        & fake    \\\\\n",
       "\t 80161319 & anger    & 0        & fake    \\\\\n",
       "\t 80162827 & anger    & 0        & fake    \\\\\n",
       "\t 80559322 & anger    & 1        & fake    \\\\\n",
       "\t 80608082 & anger    & 0        & fake    \\\\\n",
       "\t 80615798 & anger    & 0        & fake    \\\\\n",
       "\t 80615987 & anger    & 0        & fake    \\\\\n",
       "\t 80626723 & anger    & 0        & fake    \\\\\n",
       "\t 80804895 & anger    & 0        & fake    \\\\\n",
       "\t 80913451 & anger    & 1        & fake    \\\\\n",
       "\t 81001802 & anger    & 0        & fake    \\\\\n",
       "\t 81128945 & anger    & 1        & fake    \\\\\n",
       "\t 81164188 & anger    & 0        & fake    \\\\\n",
       "\t 81267526 & anger    & 1        & fake    \\\\\n",
       "\t 81451047 & anger    & 0        & fake    \\\\\n",
       "\t 81463517 & anger    & 2        & fake    \\\\\n",
       "\t 81465570 & anger    & 0        & fake    \\\\\n",
       "\t 81553620 & anger    & 0        & fake    \\\\\n",
       "\t 81639001 & anger    & 0        & fake    \\\\\n",
       "\t 82119126 & anger    & 0        & fake    \\\\\n",
       "\t 82139098 & anger    & 0        & fake    \\\\\n",
       "\t 82308187 & anger    & 1        & fake    \\\\\n",
       "\t 82314232 & anger    & 0        & fake    \\\\\n",
       "\t 82368322 & anger    & 1        & fake    \\\\\n",
       "\t 82368536 & anger    & 0        & fake    \\\\\n",
       "\t 82432980 & anger    & 0        & fake    \\\\\n",
       "\t 82433089 & anger    & 0        & fake    \\\\\n",
       "\t ⋮ & ⋮ & ⋮ & ⋮\\\\\n",
       "\t 532894547442163712 & trust              & 0                  & fake              \\\\\n",
       "\t 532894718955651072 & trust              & 0                  & fake              \\\\\n",
       "\t 532905789292544000 & trust              & 0                  & fake              \\\\\n",
       "\t 532919377122062336 & trust              & 0                  & fake              \\\\\n",
       "\t 532921346989498368 & trust              & 0                  & fake              \\\\\n",
       "\t 532923053844733952 & trust              & 1                  & fake              \\\\\n",
       "\t 532923594087874560 & trust              & 0                  & fake              \\\\\n",
       "\t 532927475643596800 & trust              & 0                  & fake              \\\\\n",
       "\t 532930042784124928 & trust              & 0                  & fake              \\\\\n",
       "\t 532938683104886784 & trust              & 0                  & fake              \\\\\n",
       "\t 532939138996371456 & trust              & 1                  & fake              \\\\\n",
       "\t 532941490751021056 & trust              & 0                  & fake              \\\\\n",
       "\t 532943081302405120 & trust              & 1                  & fake              \\\\\n",
       "\t 532943880719990784 & trust              & 0                  & fake              \\\\\n",
       "\t 532948655175921664 & trust              & 0                  & fake              \\\\\n",
       "\t 532949027784896512 & trust              & 0                  & fake              \\\\\n",
       "\t 532956466773516288 & trust              & 0                  & fake              \\\\\n",
       "\t 532956538034749440 & trust              & 2                  & fake              \\\\\n",
       "\t 532957964253282304 & trust              & 0                  & fake              \\\\\n",
       "\t 532959276449693696 & trust              & 0                  & fake              \\\\\n",
       "\t 532960093449764864 & trust              & 0                  & fake              \\\\\n",
       "\t 532960094557044736 & trust              & 0                  & fake              \\\\\n",
       "\t 532964303155261440 & trust              & 0                  & fake              \\\\\n",
       "\t 532973524651356160 & trust              & 1                  & fake              \\\\\n",
       "\t 532983696232824832 & trust              & 2                  & fake              \\\\\n",
       "\t 532993993978937344 & trust              & 0                  & fake              \\\\\n",
       "\t 532999590619144192 & trust              & 2                  & fake              \\\\\n",
       "\t 533002441844084736 & trust              & 0                  & fake              \\\\\n",
       "\t 533009106379227136 & trust              & 0                  & fake              \\\\\n",
       "\t 533017084138381312 & trust              & 1                  & fake              \\\\\n",
       "\\end{tabular}\n"
      ],
      "text/markdown": [
       "\n",
       "id | sentiment | Freq | realFAKEcat | \n",
       "|---|---|---|---|---|---|---|---|---|---|---|---|---|---|---|---|---|---|---|---|---|---|---|---|---|---|---|---|---|---|---|---|---|---|---|---|---|---|---|---|---|---|---|---|---|---|---|---|---|---|---|---|---|---|---|---|---|---|---|---|---|\n",
       "| 79932896 | anger    | 0        | fake     | \n",
       "| 79932963 | anger    | 0        | fake     | \n",
       "| 79933142 | anger    | 0        | fake     | \n",
       "| 80053480 | anger    | 0        | fake     | \n",
       "| 80161319 | anger    | 0        | fake     | \n",
       "| 80162827 | anger    | 0        | fake     | \n",
       "| 80559322 | anger    | 1        | fake     | \n",
       "| 80608082 | anger    | 0        | fake     | \n",
       "| 80615798 | anger    | 0        | fake     | \n",
       "| 80615987 | anger    | 0        | fake     | \n",
       "| 80626723 | anger    | 0        | fake     | \n",
       "| 80804895 | anger    | 0        | fake     | \n",
       "| 80913451 | anger    | 1        | fake     | \n",
       "| 81001802 | anger    | 0        | fake     | \n",
       "| 81128945 | anger    | 1        | fake     | \n",
       "| 81164188 | anger    | 0        | fake     | \n",
       "| 81267526 | anger    | 1        | fake     | \n",
       "| 81451047 | anger    | 0        | fake     | \n",
       "| 81463517 | anger    | 2        | fake     | \n",
       "| 81465570 | anger    | 0        | fake     | \n",
       "| 81553620 | anger    | 0        | fake     | \n",
       "| 81639001 | anger    | 0        | fake     | \n",
       "| 82119126 | anger    | 0        | fake     | \n",
       "| 82139098 | anger    | 0        | fake     | \n",
       "| 82308187 | anger    | 1        | fake     | \n",
       "| 82314232 | anger    | 0        | fake     | \n",
       "| 82368322 | anger    | 1        | fake     | \n",
       "| 82368536 | anger    | 0        | fake     | \n",
       "| 82432980 | anger    | 0        | fake     | \n",
       "| 82433089 | anger    | 0        | fake     | \n",
       "| ⋮ | ⋮ | ⋮ | ⋮ | \n",
       "| 532894547442163712 | trust              | 0                  | fake               | \n",
       "| 532894718955651072 | trust              | 0                  | fake               | \n",
       "| 532905789292544000 | trust              | 0                  | fake               | \n",
       "| 532919377122062336 | trust              | 0                  | fake               | \n",
       "| 532921346989498368 | trust              | 0                  | fake               | \n",
       "| 532923053844733952 | trust              | 1                  | fake               | \n",
       "| 532923594087874560 | trust              | 0                  | fake               | \n",
       "| 532927475643596800 | trust              | 0                  | fake               | \n",
       "| 532930042784124928 | trust              | 0                  | fake               | \n",
       "| 532938683104886784 | trust              | 0                  | fake               | \n",
       "| 532939138996371456 | trust              | 1                  | fake               | \n",
       "| 532941490751021056 | trust              | 0                  | fake               | \n",
       "| 532943081302405120 | trust              | 1                  | fake               | \n",
       "| 532943880719990784 | trust              | 0                  | fake               | \n",
       "| 532948655175921664 | trust              | 0                  | fake               | \n",
       "| 532949027784896512 | trust              | 0                  | fake               | \n",
       "| 532956466773516288 | trust              | 0                  | fake               | \n",
       "| 532956538034749440 | trust              | 2                  | fake               | \n",
       "| 532957964253282304 | trust              | 0                  | fake               | \n",
       "| 532959276449693696 | trust              | 0                  | fake               | \n",
       "| 532960093449764864 | trust              | 0                  | fake               | \n",
       "| 532960094557044736 | trust              | 0                  | fake               | \n",
       "| 532964303155261440 | trust              | 0                  | fake               | \n",
       "| 532973524651356160 | trust              | 1                  | fake               | \n",
       "| 532983696232824832 | trust              | 2                  | fake               | \n",
       "| 532993993978937344 | trust              | 0                  | fake               | \n",
       "| 532999590619144192 | trust              | 2                  | fake               | \n",
       "| 533002441844084736 | trust              | 0                  | fake               | \n",
       "| 533009106379227136 | trust              | 0                  | fake               | \n",
       "| 533017084138381312 | trust              | 1                  | fake               | \n",
       "\n",
       "\n"
      ],
      "text/plain": [
       "         id                 sentiment Freq realFAKEcat\n",
       "1        79932896           anger     0    fake       \n",
       "2        79932963           anger     0    fake       \n",
       "3        79933142           anger     0    fake       \n",
       "4        80053480           anger     0    fake       \n",
       "5        80161319           anger     0    fake       \n",
       "6        80162827           anger     0    fake       \n",
       "7        80559322           anger     1    fake       \n",
       "8        80608082           anger     0    fake       \n",
       "9        80615798           anger     0    fake       \n",
       "10       80615987           anger     0    fake       \n",
       "11       80626723           anger     0    fake       \n",
       "12       80804895           anger     0    fake       \n",
       "13       80913451           anger     1    fake       \n",
       "14       81001802           anger     0    fake       \n",
       "15       81128945           anger     1    fake       \n",
       "16       81164188           anger     0    fake       \n",
       "17       81267526           anger     1    fake       \n",
       "18       81451047           anger     0    fake       \n",
       "19       81463517           anger     2    fake       \n",
       "20       81465570           anger     0    fake       \n",
       "21       81553620           anger     0    fake       \n",
       "22       81639001           anger     0    fake       \n",
       "23       82119126           anger     0    fake       \n",
       "24       82139098           anger     0    fake       \n",
       "25       82308187           anger     1    fake       \n",
       "26       82314232           anger     0    fake       \n",
       "27       82368322           anger     1    fake       \n",
       "28       82368536           anger     0    fake       \n",
       "29       82432980           anger     0    fake       \n",
       "30       82433089           anger     0    fake       \n",
       "⋮        ⋮                  ⋮         ⋮    ⋮          \n",
       "16129201 532894547442163712 trust     0    fake       \n",
       "16129202 532894718955651072 trust     0    fake       \n",
       "16129203 532905789292544000 trust     0    fake       \n",
       "16129204 532919377122062336 trust     0    fake       \n",
       "16129205 532921346989498368 trust     0    fake       \n",
       "16129206 532923053844733952 trust     1    fake       \n",
       "16129207 532923594087874560 trust     0    fake       \n",
       "16129208 532927475643596800 trust     0    fake       \n",
       "16129209 532930042784124928 trust     0    fake       \n",
       "16129210 532938683104886784 trust     0    fake       \n",
       "16129211 532939138996371456 trust     1    fake       \n",
       "16129212 532941490751021056 trust     0    fake       \n",
       "16129213 532943081302405120 trust     1    fake       \n",
       "16129214 532943880719990784 trust     0    fake       \n",
       "16129215 532948655175921664 trust     0    fake       \n",
       "16129216 532949027784896512 trust     0    fake       \n",
       "16129217 532956466773516288 trust     0    fake       \n",
       "16129218 532956538034749440 trust     2    fake       \n",
       "16129219 532957964253282304 trust     0    fake       \n",
       "16129220 532959276449693696 trust     0    fake       \n",
       "16129221 532960093449764864 trust     0    fake       \n",
       "16129222 532960094557044736 trust     0    fake       \n",
       "16129223 532964303155261440 trust     0    fake       \n",
       "16129224 532973524651356160 trust     1    fake       \n",
       "16129225 532983696232824832 trust     2    fake       \n",
       "16129226 532993993978937344 trust     0    fake       \n",
       "16129227 532999590619144192 trust     2    fake       \n",
       "16129228 533002441844084736 trust     0    fake       \n",
       "16129229 533009106379227136 trust     0    fake       \n",
       "16129230 533017084138381312 trust     1    fake       "
      ]
     },
     "metadata": {},
     "output_type": "display_data"
    }
   ],
   "source": [
    "fakeNRCscoredTweets\n",
    "#nrcEMOTIONS"
   ]
  },
  {
   "cell_type": "code",
   "execution_count": 16,
   "metadata": {},
   "outputs": [
    {
     "ename": "ERROR",
     "evalue": "Error in table(id, sentiment): object 'sentiment' not found\n",
     "output_type": "error",
     "traceback": [
      "Error in table(id, sentiment): object 'sentiment' not found\nTraceback:\n",
      "1. table(id, sentiment)"
     ]
    }
   ],
   "source": [
    "table(id, sentiment)\n",
    "#scoredFakeTweets <- data.frame()\n",
    "#fakeNRCscoredTweets\n"
   ]
  },
  {
   "cell_type": "code",
   "execution_count": null,
   "metadata": {
    "collapsed": true
   },
   "outputs": [],
   "source": [
    "trustScores <- data.frame(id = filter(fakeNRCscoredTweets, sentiment == \"trust\")$id, trust = filter(fakeNRCscoredTweets, sentiment == \"trust\")$Freq)\n",
    "fearScores <- data.frame(id = filter(fakeNRCscoredTweets, sentiment == \"fear\")$id, fear = filter(fakeNRCscoredTweets, sentiment == \"fear\")$Freq)\n",
    "negScores <- data.frame(id = filter(fakeNRCscoredTweets, sentiment == \"negative\")$id, negative = filter(fakeNRCscoredTweets, sentiment == \"negative\")$Freq)\n",
    "sadnessScores <- data.frame(id = filter(fakeNRCscoredTweets, sentiment == \"sadness\")$id, sadness = filter(fakeNRCscoredTweets, sentiment == \"sadness\")$Freq)\n",
    "angerScores <- data.frame(id = filter(fakeNRCscoredTweets, sentiment == \"anger\")$id, anger = filter(fakeNRCscoredTweets, sentiment == \"anger\")$Freq)\n",
    "surpriseScores <- data.frame(id = filter(fakeNRCscoredTweets, sentiment == \"surprise\")$id, surprise = filter(fakeNRCscoredTweets, sentiment == \"surprise\")$Freq)\n",
    "posScores <- data.frame(id = filter(fakeNRCscoredTweets, sentiment == \"positive\")$id, positive = filter(fakeNRCscoredTweets, sentiment == \"positive\")$Freq)\n",
    "disgustScores <- data.frame(id = filter(fakeNRCscoredTweets, sentiment == \"disgust\")$id, disgust = filter(fakeNRCscoredTweets, sentiment == \"disgust\")$Freq)\n",
    "joyScores <- data.frame(id = filter(fakeNRCscoredTweets, sentiment == \"joy\")$id, joy = filter(fakeNRCscoredTweets, sentiment == \"joy\")$Freq)\n",
    "anticipationScores <- data.frame(id = filter(fakeNRCscoredTweets, sentiment == \"anticipation\")$id, anticipation = filter(fakeNRCscoredTweets, sentiment == \"anticipation\")$Freq, realFAKEcat = filter(fakeNRCscoredTweets, sentiment == \"anticipation\")$realFAKEcat)"
   ]
  },
  {
   "cell_type": "code",
   "execution_count": null,
   "metadata": {
    "scrolled": true
   },
   "outputs": [],
   "source": [
    "nrcSCORES <- full_join(trustScores, full_join(fearScores, full_join(negScores, full_join(sadnessScores, full_join(angerScores, full_join(surpriseScores, full_join(posScores, full_join(disgustScores, full_join(joyScores, anticipationScores)))))))))"
   ]
  },
  {
   "cell_type": "code",
   "execution_count": null,
   "metadata": {
    "collapsed": true
   },
   "outputs": [],
   "source": [
    "#nrcSCORES"
   ]
  },
  {
   "cell_type": "code",
   "execution_count": null,
   "metadata": {
    "collapsed": true
   },
   "outputs": [],
   "source": []
  }
 ],
 "metadata": {
  "kernelspec": {
   "display_name": "R",
   "language": "R",
   "name": "ir"
  },
  "language_info": {
   "codemirror_mode": "r",
   "file_extension": ".r",
   "mimetype": "text/x-r-source",
   "name": "R",
   "pygments_lexer": "r",
   "version": "3.4.2"
  }
 },
 "nbformat": 4,
 "nbformat_minor": 2
}
