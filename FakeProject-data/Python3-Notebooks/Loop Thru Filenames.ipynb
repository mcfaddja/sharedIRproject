{
 "cells": [
  {
   "cell_type": "markdown",
   "metadata": {},
   "source": [
    "# Loop through Filenames\n",
    "\n",
    "We will carry out the same analysis we did on each individual dataset from the fake project, however, we will loop through **_ALL_** data files.  As we loop through each file, we will save each file's results individually.  In addition, as we loop, we will build a complete list (*array*) of all tweet information from all data files.  Each element of this complete list will also be tagged with its source data file.   Once the loop is done, we will then save the results of the complete list to its own file.\n",
    "\n",
    "## Define Files\n",
    "\n",
    "> First, we must define the files (*their __names__ and __locations__*).  This will be done using a _**locator**_ string for each file.  This _**locator**_ string will have the **Filename** specified *with* its **path** (*location*).  For clarity we will break this into the following file groups:\n",
    "\n",
    "> * Fake Followers **_and_** Genuine Accounts\n",
    "> * Social SpamBots (*1 - 3*)\n",
    "> * Tradititional SpamBots (*1 - 4*)\n",
    "\n",
    "> ### Fake Followers **_and_** Genuine Accounts\n",
    "\n",
    ">> The Filename and location for the **_Fake Followers_** data file is"
   ]
  },
  {
   "cell_type": "code",
   "execution_count": 1,
   "metadata": {
    "collapsed": true
   },
   "outputs": [],
   "source": [
    "fakeFollowersFILENAME = 'datasetsFULLcsv/fakeFollowersCSV/tweets.csv'"
   ]
  },
  {
   "cell_type": "markdown",
   "metadata": {},
   "source": [
    ">> The Filename and location for the **_Genuine Accounts_** data file is"
   ]
  },
  {
   "cell_type": "code",
   "execution_count": 2,
   "metadata": {
    "collapsed": true
   },
   "outputs": [],
   "source": [
    "genuineAccountsFILENAME = 'datasetsFULLcsv/genuineAccountsCSV/tweets.csv'"
   ]
  },
  {
   "cell_type": "markdown",
   "metadata": {},
   "source": [
    "> ### Social SpamBots\n",
    "\n",
    ">> For file indices *1 - 3*, the Filename and location for each of the **_Social SpamBots_** data filies is"
   ]
  },
  {
   "cell_type": "code",
   "execution_count": 3,
   "metadata": {
    "collapsed": true
   },
   "outputs": [],
   "source": [
    "# file index 1\n",
    "socialSpamBots1filename = 'datasetsFULLcsv/socialSpambots1csv/tweets.csv'\n",
    "\n",
    "# file index 2\n",
    "socialSpamBots2filename = 'datasetsFULLcsv/socialSpambots2csv/tweets.csv'\n",
    "\n",
    "# file index 1\n",
    "socialSpamBots3filename = 'datasetsFULLcsv/socialSpambots3csv/tweets.csv'"
   ]
  },
  {
   "cell_type": "markdown",
   "metadata": {},
   "source": [
    "> ### Tranditional SpamBots\n",
    "\n",
    ">> For file indices *1 - 4*, the Filename and location for each of the **_Traditional SpamBots_** data filies is"
   ]
  },
  {
   "cell_type": "code",
   "execution_count": 4,
   "metadata": {
    "collapsed": true
   },
   "outputs": [],
   "source": [
    "# file index 1\n",
    "traditionalSpamBots1filename = 'datasetsFULLcsv/traditionalSpambots1csv/tweets.csv'"
   ]
  },
  {
   "cell_type": "markdown",
   "metadata": {},
   "source": [
    "> ### Combine Filenames into Array\n",
    "\n",
    ">> To allow us to easily loop through them, we now combine all the Filenames into a single string array, called '**filenames**[ ]'."
   ]
  },
  {
   "cell_type": "code",
   "execution_count": 5,
   "metadata": {
    "collapsed": true
   },
   "outputs": [],
   "source": [
    "# create array\n",
    "filenames = []\n",
    "\n",
    "# add Fake Followers and Genuine Account Filenames\n",
    "filenames.append(fakeFollowersFILENAME)\n",
    "filenames.append(genuineAccountsFILENAME)\n",
    "\n",
    "# add Social SpamBots Filenames\n",
    "filenames.append(socialSpamBots1filename)\n",
    "filenames.append(socialSpamBots2filename)\n",
    "filenames.append(socialSpamBots3filename)\n",
    "\n",
    "# add Traditional SpamBots Filenames\n",
    "filenames.append(traditionalSpamBots1filename)"
   ]
  },
  {
   "cell_type": "markdown",
   "metadata": {},
   "source": [
    "## Load Data Files\n",
    "\n",
    "> To load the data files, we must first take care of library import and storage variable definition preliminaries.  Once these preliminaries are done, we can then import all the files.\n",
    "\n",
    "> ## File Import Preliminaries\n",
    "\n",
    ">> The first preliminary is to import the Python library for reading CSV files."
   ]
  },
  {
   "cell_type": "code",
   "execution_count": 6,
   "metadata": {
    "collapsed": true
   },
   "outputs": [],
   "source": [
    "import csv"
   ]
  },
  {
   "cell_type": "markdown",
   "metadata": {},
   "source": [
    ">> The other preliminary requires that we create a **_master_** import array which will hold the entirety of the import from a CSV file in one of cell of this array.  We will call this _**master**_ import array '**csvDATAin**[ ]', and define it such that its indices directly correlate the the file described by the entry with the same index in '**filenames**[ ]'."
   ]
  },
  {
   "cell_type": "code",
   "execution_count": 7,
   "metadata": {
    "collapsed": true
   },
   "outputs": [],
   "source": [
    "csvDATAin = []"
   ]
  },
  {
   "cell_type": "markdown",
   "metadata": {},
   "source": [
    "> ### Loop through Filenames\n",
    "\n",
    ">> Now that the preliminaries are done, we can loop through all the files in our list of filenames."
   ]
  },
  {
   "cell_type": "code",
   "execution_count": 8,
   "metadata": {
    "collapsed": true
   },
   "outputs": [],
   "source": [
    "for name in filenames:\n",
    "    # create temporary loop level storage for the imported data\n",
    "    tempIN = []\n",
    "    \n",
    "    # import currently specified file\n",
    "    with open(name, 'r', encoding = \"ISO-8859-1\") as csvFileIN:\n",
    "        csvReaderIN = csv.reader(x.replace('\\0', '') for x in csvFileIN)\n",
    "        \n",
    "        # nested loop going through all rows in the current file\n",
    "        for row in csvReaderIN:\n",
    "            temp = row\n",
    "            tempIN.append(temp)\n",
    "            \n",
    "        # add to master array of imports\n",
    "        csvDATAin.append(tempIN)"
   ]
  },
  {
   "cell_type": "code",
   "execution_count": null,
   "metadata": {
    "collapsed": true
   },
   "outputs": [],
   "source": []
  }
 ],
 "metadata": {
  "kernelspec": {
   "display_name": "Python 3",
   "language": "python",
   "name": "python3"
  },
  "language_info": {
   "codemirror_mode": {
    "name": "ipython",
    "version": 3
   },
   "file_extension": ".py",
   "mimetype": "text/x-python",
   "name": "python",
   "nbconvert_exporter": "python",
   "pygments_lexer": "ipython3",
   "version": "3.6.3"
  }
 },
 "nbformat": 4,
 "nbformat_minor": 2
}
