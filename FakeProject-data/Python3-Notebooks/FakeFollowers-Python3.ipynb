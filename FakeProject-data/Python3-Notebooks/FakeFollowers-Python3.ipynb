{
 "cells": [
  {
   "cell_type": "markdown",
   "metadata": {},
   "source": [
    "# Fake Followers (*python3*)\n",
    "\n",
    "In this notebooks, we will use the \"fake_followers.csv\" data file, from the dataset provided by the Fake Project, as our source data file.\n",
    "\n",
    "## Load the data file\n",
    "\n",
    "> First, we import the Python library for reading CSV files."
   ]
  },
  {
   "cell_type": "code",
   "execution_count": 1,
   "metadata": {
    "collapsed": true
   },
   "outputs": [],
   "source": [
    "import csv"
   ]
  },
  {
   "cell_type": "markdown",
   "metadata": {},
   "source": [
    "> Next, we create the array '**fakeCSV**[ ]' to hold the lines of the imported CSV file, followed by storing the filename (*and its location*) in the string '**fileName**'."
   ]
  },
  {
   "cell_type": "code",
   "execution_count": 2,
   "metadata": {
    "collapsed": true
   },
   "outputs": [],
   "source": [
    "fakeCSV = []\n",
    "fileName = 'datasetsFULLcsv/fakeFollowersCSV/tweets.csv'"
   ]
  },
  {
   "cell_type": "markdown",
   "metadata": {},
   "source": [
    "> *Now*, we can open the CSV file, create a CSV reader, and then read each row from the CSV reader into '**fakeCSV**[ ]' one-by-one"
   ]
  },
  {
   "cell_type": "code",
   "execution_count": 3,
   "metadata": {
    "collapsed": true
   },
   "outputs": [],
   "source": [
    "with open(fileName, 'r', encoding = \"ISO-8859-1\") as csvFile:\n",
    "    csvReader = csv.reader(x.replace('\\0', '') for x in csvFile)\n",
    "    \n",
    "    for row in csvReader:\n",
    "        temp = row\n",
    "        fakeCSV.append(temp)"
   ]
  },
  {
   "cell_type": "markdown",
   "metadata": {},
   "source": [
    "## Clean the Tweet text\n",
    "\n",
    "> Now, we must clean the text of each tweet by removing web URLs, Twitter user handles (@__<__*username*__>__), Twitter hashtags (#__<__*hashtag name*__>__), punctuation, numerical characters, leading spaces, and trailing spaces.  We must also convert the characters in text of each Tweet to **lowercase**.\n",
    "\n",
    "> ### Import libraries and create variables\n",
    "\n",
    ">> The first step in cleaning the text of the tweets in to import the '**_re_**' library so we can substitute out parts of the strings."
   ]
  },
  {
   "cell_type": "code",
   "execution_count": 4,
   "metadata": {
    "collapsed": true
   },
   "outputs": [],
   "source": [
    "import re"
   ]
  },
  {
   "cell_type": "markdown",
   "metadata": {},
   "source": [
    ">> Next, we must create '**fakeTweets**[ ]' as a new array variable to store all the data for the newly cleaned tweets."
   ]
  },
  {
   "cell_type": "code",
   "execution_count": 5,
   "metadata": {
    "collapsed": true
   },
   "outputs": [],
   "source": [
    "fakeTweets = []"
   ]
  },
  {
   "cell_type": "markdown",
   "metadata": {},
   "source": [
    "> ### Clean the tweets\n",
    "\n",
    ">> *Now*, we can loop through every tweet that we imported and stored in the '**fakeCSV**[ ]' array.  First, we will create a temporary copy of each *row* in '**fakeCSV**[ ]'; which we will store in the array '**tempROW**[ ]'.  Next, we will select the sub-array element with the text of the tweet (*index = 2*) and store it in the temporary string variable '**temp**'.  It is *this* temporary string variable that we will pass through the commands being run to carry out the '*cleaning*'.  *Now* that the temporary string is cleaned, we can insert it back into the proper place (*index = 2*) in the temporary copy of the current row.  Following this insertion (*replacement*), the current row's temporary copy is now cleaned as well.  This __*finally*__ allows us to append the temporary copy of the current row to the new array of cleaned tweet data."
   ]
  },
  {
   "cell_type": "code",
   "execution_count": 6,
   "metadata": {
    "collapsed": true
   },
   "outputs": [],
   "source": [
    "for row in fakeCSV:\n",
    "    tempROW = row\n",
    "    temp = tempROW[2]\n",
    "    \n",
    "    # remove web addresses\n",
    "    temp = re.sub(r\"http\\S+\", \"\", temp)\n",
    "    \n",
    "    # remove twitter handles (@<username>)\n",
    "    temp = re.sub(r\"@\\S+\", \"\", temp)\n",
    "    \n",
    "    # remove hashtags (#<hashtag name>)\n",
    "    temp = re.sub(r\"#\\S+\", \"\", temp)\n",
    "    \n",
    "    # remove punctuation\n",
    "    temp = re.sub(r'[^\\w\\s]', \"\", temp)\n",
    "    \n",
    "    # remove numbers and their extra spaces\n",
    "    temp = re.sub(r'[0-9]+', '', temp)\n",
    "    temp = re.sub(r\"  \", \" \", temp)\n",
    "    \n",
    "    # strip leading and trailing spaces\n",
    "    temp = temp.lstrip()\n",
    "    temp = temp.rstrip()\n",
    "    \n",
    "    # convert to lowercase\n",
    "    temp = temp.lower()\n",
    "    \n",
    "    \n",
    "    # replace the tweet text in the current row and append to the array of processed tweet information\n",
    "    tempROW[2] = temp\n",
    "    fakeTweets.append(tempROW)"
   ]
  },
  {
   "cell_type": "code",
   "execution_count": 7,
   "metadata": {},
   "outputs": [
    {
     "name": "stdout",
     "output_type": "stream",
     "text": [
      "['Sun Jul 10 18:22:33 +0000 2011', '90123759553495040', 'only days to go then weeks off for the summeri so deserve it o', '<a href=\"http://blackberry.com/twitter\" rel=\"nofollow\">Twitter for BlackBerryÂ®</a>', '10935572', '', '0', '0', '', 'NULL', '', '', '', '0', '0', '0', '', '', 'NULL', '0', '0', '0', '2011-07-10 20:22:33']\n"
     ]
    }
   ],
   "source": [
    "print(fakeTweets[200])"
   ]
  }
 ],
 "metadata": {
  "kernelspec": {
   "display_name": "Python 3",
   "language": "python",
   "name": "python3"
  },
  "language_info": {
   "codemirror_mode": {
    "name": "ipython",
    "version": 3
   },
   "file_extension": ".py",
   "mimetype": "text/x-python",
   "name": "python",
   "nbconvert_exporter": "python",
   "pygments_lexer": "ipython3",
   "version": "3.6.3"
  }
 },
 "nbformat": 4,
 "nbformat_minor": 2
}
