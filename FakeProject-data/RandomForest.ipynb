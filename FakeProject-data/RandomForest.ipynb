{
 "cells": [
  {
   "cell_type": "markdown",
   "metadata": {},
   "source": [
    "# Random Forests"
   ]
  },
  {
   "cell_type": "code",
   "execution_count": 18,
   "metadata": {
    "collapsed": true
   },
   "outputs": [],
   "source": [
    "fakeTrainData1 = read.csv(\"fakeTrainData1.csv\")\n",
    "realTrainData1 = read.csv(\"realTrainData1.csv\")\n",
    "trainData1 = sample(rbind(fakeTrainData1, realTrainData1))"
   ]
  },
  {
   "cell_type": "code",
   "execution_count": 19,
   "metadata": {
    "collapsed": true
   },
   "outputs": [],
   "source": [
    "#I mix <real> and <fake> together\n",
    "set.seed(99)\n",
    "trainData1 = trainData1[sample(nrow(trainData1)),]"
   ]
  },
  {
   "cell_type": "code",
   "execution_count": 20,
   "metadata": {
    "collapsed": true
   },
   "outputs": [],
   "source": [
    "k = 5 # number of folds\n",
    "n = floor(nrow(trainData1)/k)"
   ]
  },
  {
   "cell_type": "code",
   "execution_count": 21,
   "metadata": {
    "collapsed": true
   },
   "outputs": [],
   "source": [
    "recall.vect = rep(NA,k)\n",
    "precision.vect= rep(NA,k)\n",
    "accu.vect = rep(NA,k)"
   ]
  },
  {
   "cell_type": "code",
   "execution_count": 22,
   "metadata": {
    "collapsed": true
   },
   "outputs": [],
   "source": [
    "#choose features; play with threshold; randomForest parameter\n",
    "features=setdiff(colnames(trainData1),c(\"id\",\"realFAKEcat\"))\n",
    "factor=\"realFAKEcat\"\n",
    "thresh = 0.5\n",
    "ntree=250"
   ]
  },
  {
   "cell_type": "code",
   "execution_count": 23,
   "metadata": {},
   "outputs": [
    {
     "name": "stderr",
     "output_type": "stream",
     "text": [
      "start fold:1\n"
     ]
    },
    {
     "name": "stdout",
     "output_type": "stream",
     "text": [
      "[1] \"AUC for fold 1 : 0.549\"\n",
      "[1] \"Recall for fold 1 : 0.512308313155771\"\n",
      "[1] \"Precision for fold 1 : 0.54814335060449\"\n"
     ]
    },
    {
     "name": "stderr",
     "output_type": "stream",
     "text": [
      "start fold:2\n"
     ]
    },
    {
     "name": "stdout",
     "output_type": "stream",
     "text": [
      "[1] \"AUC for fold 2 : 0.5405\"\n",
      "[1] \"Recall for fold 2 : 0.510761259465923\"\n",
      "[1] \"Precision for fold 2 : 0.544971294918137\"\n"
     ]
    },
    {
     "name": "stderr",
     "output_type": "stream",
     "text": [
      "start fold:3\n"
     ]
    },
    {
     "name": "stdout",
     "output_type": "stream",
     "text": [
      "[1] \"AUC for fold 3 : 0.5381\"\n",
      "[1] \"Recall for fold 3 : 0.497154072620216\"\n",
      "[1] \"Precision for fold 3 : 0.551851851851852\"\n"
     ]
    },
    {
     "name": "stderr",
     "output_type": "stream",
     "text": [
      "start fold:4\n"
     ]
    },
    {
     "name": "stdout",
     "output_type": "stream",
     "text": [
      "[1] \"AUC for fold 4 : 0.5508\"\n",
      "[1] \"Recall for fold 4 : 0.526539708265802\"\n",
      "[1] \"Precision for fold 4 : 0.54669751787968\"\n"
     ]
    },
    {
     "name": "stderr",
     "output_type": "stream",
     "text": [
      "start fold:5\n"
     ]
    },
    {
     "name": "stdout",
     "output_type": "stream",
     "text": [
      "[1] \"AUC for fold 5 : 0.5498\"\n",
      "[1] \"Recall for fold 5 : 0.510910910910911\"\n",
      "[1] \"Precision for fold 5 : 0.553459119496855\"\n"
     ]
    }
   ],
   "source": [
    "library(randomForest)\n",
    "for(i in 1:k) {\n",
    " #i=1 \n",
    "  message(\"start fold\", \":\", i)\n",
    "  \n",
    "  s1 = ((i-1)* n+1)\n",
    "  s2 = (i*n)\n",
    "  subset = s1:s2\n",
    "  \n",
    "  cv.train = trainData1[-subset,]\n",
    "  cv.test = trainData1[subset,]\n",
    "  \n",
    "  RF_model = randomForest(x = cv.train[,features],y = as.factor(cv.train[,factor]), ntree=ntree)\n",
    "  RF_pred = predict(RF_model,newdata = cv.test[,features], type=\"prob\")\n",
    "\n",
    "tp = length(which(cv.test[, factor] == \"real\" & RF_pred[, 2] >= thresh))\n",
    "fp = length(which(cv.test[, factor] == \"fake\" & RF_pred[, 2] >= thresh))\n",
    "tn = length(which(cv.test[, factor] == \"fake\" & RF_pred[, 2] < thresh))\n",
    "fn = length(which(cv.test[, factor] == \"real\" & RF_pred[, 2] < thresh))\n",
    "precision = tp / (tp + fp)\n",
    "recall = tp / (tp + fn)\n",
    "accuracy = (tp + tn) / (tp + fp + tn + fn)\n",
    "\n",
    "accu.vect[i] = accuracy\n",
    "recall.vect[i] = recall\n",
    "precision.vect[i]= precision\n",
    "\n",
    "  print(paste(\"AUC for fold\", i, \":\",accu.vect[i]))\n",
    "  print(paste(\"Recall for fold\", i, \":\",recall.vect[i]))\n",
    "  print(paste(\"Precision for fold\", i, \":\",precision.vect[i]))\n",
    "\n",
    "} # end of for i loop"
   ]
  },
  {
   "cell_type": "code",
   "execution_count": null,
   "metadata": {
    "collapsed": true
   },
   "outputs": [],
   "source": []
  }
 ],
 "metadata": {
  "kernelspec": {
   "display_name": "R",
   "language": "R",
   "name": "ir"
  },
  "language_info": {
   "codemirror_mode": "r",
   "file_extension": ".r",
   "mimetype": "text/x-r-source",
   "name": "R",
   "pygments_lexer": "r",
   "version": "3.4.2"
  }
 },
 "nbformat": 4,
 "nbformat_minor": 2
}
