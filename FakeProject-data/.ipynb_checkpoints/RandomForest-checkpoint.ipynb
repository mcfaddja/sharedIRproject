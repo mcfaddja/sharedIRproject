{
 "cells": [
  {
   "cell_type": "markdown",
   "metadata": {},
   "source": [
    "# Random Forests"
   ]
  },
  {
   "cell_type": "code",
   "execution_count": 3,
   "metadata": {},
   "outputs": [],
   "source": [
    "fakeTrainData1 = read.csv(\"fakeTrainData1.csv\")\n",
    "realTrainData1 = read.csv(\"realTrainData1.csv\")"
   ]
  },
  {
   "cell_type": "code",
   "execution_count": 5,
   "metadata": {},
   "outputs": [],
   "source": [
    "trainData1=rbind(fakeTrainData1, realTrainData1)"
   ]
  },
  {
   "cell_type": "code",
   "execution_count": 10,
   "metadata": {
    "collapsed": true
   },
   "outputs": [],
   "source": [
    "k = 10 # number of folds\n",
    "n = floor(nrow(trainData1)/k)"
   ]
  },
  {
   "cell_type": "code",
   "execution_count": 11,
   "metadata": {},
   "outputs": [],
   "source": [
    "recall.vect = rep(NA,k)\n",
    "precision.vect= rep(NA,k)\n",
    "accu.vect = rep(NA,k)"
   ]
  },
  {
   "cell_type": "code",
   "execution_count": 13,
   "metadata": {},
   "outputs": [
    {
     "name": "stderr",
     "output_type": "stream",
     "text": [
      "randomForest 4.6-12\n",
      "Type rfNews() to see new features/changes/bug fixes.\n"
     ]
    }
   ],
   "source": [
    "library(randomForest)"
   ]
  },
  {
   "cell_type": "code",
   "execution_count": null,
   "metadata": {},
   "outputs": [
    {
     "name": "stderr",
     "output_type": "stream",
     "text": [
      "start fold:1\n"
     ]
    }
   ],
   "source": [
    "for(i in 1:k) {\n",
    " #i=1 \n",
    "  message(\"start fold\", \":\", i)\n",
    "  \n",
    "  s1 = ((i-1)* n+1)\n",
    "  s2 = (i*n)\n",
    "  subset = s1:s2\n",
    "  \n",
    "  cv.train = trainData1[-subset,]\n",
    "  cv.test = trainData1[subset,]\n",
    "  RF_model = randomForest(x=cv.train[,-12], y = as.factor(cv.train[,12]), ntree=250)\n",
    "\n",
    "  RF_pred = predict(RF_model,newdata = cv.test[,-12], type=\"prob\")\n",
    "\n",
    "thresh = 0.5\n",
    "tp = length(which(cv.test[, 12] == 1 & RF_pred[, 2] >= thresh))\n",
    "fp = length(which(cv.test[, 12] == 0 & RF_pred[, 2] >= thresh))\n",
    "tn = length(which(cv.test[, 12] == 0 & RF_pred[, 2] < thresh))\n",
    "fn = length(which(cv.test[, 12] == 1 & RF_pred[, 2] < thresh))\n",
    "precision = tp / (tp + fp)\n",
    "recall = tp / (tp + fn)\n",
    "accuracy = (tp + tn) / (tp + fp + tn + fn)\n",
    "\n",
    "  \n",
    "\n",
    "accu.vect[i] = accuracy\n",
    "recall.vect[i] = recall\n",
    "precision.vect[i]= precision\n",
    "\n",
    "  print(paste(\"AUC for for fold\", i, \":\",accu.vect[i]))\n",
    "  print(paste(\"Recall for for fold\", i, \":\",recall.vect[i]))\n",
    "  print(paste(\"Precision for for fold\", i, \":\",precision.vect[i]))\n",
    "\n",
    "  \n",
    "  \n",
    "  \n",
    "  \n",
    "} # end of for i loop"
   ]
  },
  {
   "cell_type": "code",
   "execution_count": null,
   "metadata": {
    "collapsed": true
   },
   "outputs": [],
   "source": []
  }
 ],
 "metadata": {
  "kernelspec": {
   "display_name": "R",
   "language": "R",
   "name": "ir"
  },
  "language_info": {
   "codemirror_mode": "r",
   "file_extension": ".r",
   "mimetype": "text/x-r-source",
   "name": "R",
   "pygments_lexer": "r",
   "version": "3.4.2"
  }
 },
 "nbformat": 4,
 "nbformat_minor": 2
}
