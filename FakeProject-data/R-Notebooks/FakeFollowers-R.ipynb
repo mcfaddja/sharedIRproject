{
 "cells": [
  {
   "cell_type": "markdown",
   "metadata": {},
   "source": [
    "# Fake Followers (*R*)\n",
    "\n",
    "In this notebooks, we will use the \"fake_followers.csv\" data file, from the dataset provided by the Fake Project, as our source data file.\n",
    "\n",
    "## Load the data file\n",
    "\n",
    "> First, we store the file name (*and its location*) in the string '**fileName**'."
   ]
  },
  {
   "cell_type": "code",
   "execution_count": 1,
   "metadata": {
    "collapsed": true
   },
   "outputs": [],
   "source": [
    "fileName = 'datasetsFULLcsv/fakeFollowersCSV/tweets.csv'"
   ]
  },
  {
   "cell_type": "markdown",
   "metadata": {},
   "source": [
    "> Using the CSV filename previously specified in '**fileName**', we can now load the file into the _data.frame_( ) named '**fakeCSV**'."
   ]
  },
  {
   "cell_type": "code",
   "execution_count": 2,
   "metadata": {
    "scrolled": true
   },
   "outputs": [
    {
     "name": "stderr",
     "output_type": "stream",
     "text": [
      "Warning message in scan(file = file, what = what, sep = sep, quote = quote, dec = dec, :\n",
      "“embedded nul(s) found in input”"
     ]
    }
   ],
   "source": [
    "fakeCSV = read.csv(fileName)"
   ]
  },
  {
   "cell_type": "markdown",
   "metadata": {},
   "source": [
    "From the '**fakeCSV**' _data.frame_( ), we will create a smaller, simpler *data.frame*( ) named '**fakeTweets**'.  This reduction in size and complexity of '**fakeTweets**' is due to the fact that it only contains the ID number of the tweet in our database, the ID number of the user who generated the tweet, along with the text of the tweet.  "
   ]
  },
  {
   "cell_type": "code",
   "execution_count": 3,
   "metadata": {
    "collapsed": true
   },
   "outputs": [],
   "source": [
    "fakeTweets <- data.frame(userID = fakeCSV$user_id, id = fakeCSV$id, text = fakeCSV$text)"
   ]
  },
  {
   "cell_type": "markdown",
   "metadata": {
    "collapsed": true
   },
   "source": [
    "Now we remove web URLS, twitter usernames, twitter hashtags, punctuation, and stand-alone numeric digits."
   ]
  },
  {
   "cell_type": "code",
   "execution_count": 4,
   "metadata": {
    "collapsed": true
   },
   "outputs": [],
   "source": [
    "# remove web URLs\n",
    "fakeTweets <- data.frame(userID = fakeTweets$userID, id = fakeTweets$id, text = gsub(\"http[[:alnum:][:punct:]]*\", \"\", fakeTweets$text))\n",
    "\n",
    "# remove twitter handles (@<username>)\n",
    "fakeTweets <- data.frame(userID = fakeTweets$userID, id = fakeTweets$id, text = gsub(\"#[[:alnum:][:punct:]]*\", \"\", fakeTweets$text))\n",
    "\n",
    "# remove hashtags (#<hashtag name>)\n",
    "fakeTweets <- data.frame(userID = fakeTweets$userID, id = fakeTweets$id, text = gsub(\"@[[:alnum:][:punct:]]*\", \"\", fakeTweets$text))\n",
    "\n",
    "# remove punctuation\n",
    "fakeTweets <- data.frame(userID = fakeTweets$userID, id = fakeTweets$id, text = gsub('[[:punct:] ]+', ' ', fakeTweets$text))\n",
    "\n",
    "# remove numbers\n",
    "fakeTweets <- data.frame(userID = fakeTweets$userID, id = fakeTweets$id, text = gsub(\"[0-9]\", \"\", fakeTweets$text))\n",
    "\n",
    "# convert to lowercase\n",
    "fakeTweets <- data.frame(userID = fakeTweets$userID, id = fakeTweets$id, text = tolower(fakeTweets$text))"
   ]
  },
  {
   "cell_type": "markdown",
   "metadata": {},
   "source": [
    "## TidyText the data file\n",
    "\n",
    "> Now we must tokenize the text of each tweet using the '*tidytext*' and '*dplyr*' libraries.  First, we must import the '*tidytext*' and '*dplyr*' libraries,"
   ]
  },
  {
   "cell_type": "code",
   "execution_count": 5,
   "metadata": {},
   "outputs": [
    {
     "name": "stderr",
     "output_type": "stream",
     "text": [
      "\n",
      "Attaching package: ‘dplyr’\n",
      "\n",
      "The following objects are masked from ‘package:stats’:\n",
      "\n",
      "    filter, lag\n",
      "\n",
      "The following objects are masked from ‘package:base’:\n",
      "\n",
      "    intersect, setdiff, setequal, union\n",
      "\n"
     ]
    }
   ],
   "source": [
    "library(dplyr)\n",
    "library(tidytext)"
   ]
  },
  {
   "cell_type": "markdown",
   "metadata": {},
   "source": [
    "> Then we convert the data frame of '**fakeTweets**' to the type from the '*dplyr*' library,"
   ]
  },
  {
   "cell_type": "code",
   "execution_count": 6,
   "metadata": {
    "collapsed": true,
    "scrolled": true
   },
   "outputs": [],
   "source": [
    "fakeTweets <- data_frame(userID = fakeTweets$userID, id = fakeTweets$id, text = as.character(fakeTweets$text))"
   ]
  },
  {
   "cell_type": "markdown",
   "metadata": {},
   "source": [
    "> so that we can finally tokenize the text from each of the tweets,"
   ]
  },
  {
   "cell_type": "code",
   "execution_count": 7,
   "metadata": {
    "collapsed": true
   },
   "outputs": [],
   "source": [
    "fakeTweetsTOKENS <- fakeTweets %>%\n",
    "    unnest_tokens(word, text)"
   ]
  },
  {
   "cell_type": "markdown",
   "metadata": {},
   "source": [
    "## Remove '*Stop Words*'\n",
    "\n",
    "> Now, we will remove any stop words from the text of the tweets.  To do this, we first import the '*stop_words*' dataset from the '*tidytext*' library"
   ]
  },
  {
   "cell_type": "code",
   "execution_count": 8,
   "metadata": {
    "collapsed": true
   },
   "outputs": [],
   "source": [
    "data(stop_words)"
   ]
  },
  {
   "cell_type": "markdown",
   "metadata": {},
   "source": [
    "> Now, we use the '*anti_join*( )' function from the '*dplyr*' library to remove these stop wrods."
   ]
  },
  {
   "cell_type": "code",
   "execution_count": 9,
   "metadata": {},
   "outputs": [
    {
     "name": "stderr",
     "output_type": "stream",
     "text": [
      "Joining, by = \"word\"\n"
     ]
    }
   ],
   "source": [
    "fakeTweetsTOKENS <- fakeTweetsTOKENS %>%\n",
    "    anti_join(stop_words)"
   ]
  },
  {
   "cell_type": "code",
   "execution_count": 10,
   "metadata": {
    "collapsed": true
   },
   "outputs": [],
   "source": [
    "nrcWORDS <- get_sentiments(\"nrc\")\n",
    "nrcEMOTIONS <- unique(nrcWORDS$sentiment)"
   ]
  },
  {
   "cell_type": "code",
   "execution_count": 19,
   "metadata": {},
   "outputs": [
    {
     "name": "stderr",
     "output_type": "stream",
     "text": [
      "Joining, by = \"word\"\n",
      "Joining, by = \"id\"\n",
      "Joining, by = \"word\"\n",
      "Joining, by = c(\"id\", \"userID\", \"word\", \"sentiment\")\n",
      "Joining, by = \"word\"\n",
      "Joining, by = c(\"id\", \"userID\", \"word\", \"sentiment\")\n",
      "Joining, by = \"word\"\n",
      "Joining, by = c(\"id\", \"userID\", \"word\", \"sentiment\")\n",
      "Joining, by = \"word\"\n",
      "Joining, by = c(\"id\", \"userID\", \"word\", \"sentiment\")\n",
      "Joining, by = \"word\"\n",
      "Joining, by = c(\"id\", \"userID\", \"word\", \"sentiment\")\n",
      "Joining, by = \"word\"\n",
      "Joining, by = c(\"id\", \"userID\", \"word\", \"sentiment\")\n",
      "Joining, by = \"word\"\n",
      "Joining, by = c(\"id\", \"userID\", \"word\", \"sentiment\")\n",
      "Joining, by = \"word\"\n",
      "Joining, by = c(\"id\", \"userID\", \"word\", \"sentiment\")\n",
      "Joining, by = \"word\"\n",
      "Joining, by = c(\"id\", \"userID\", \"word\", \"sentiment\")\n"
     ]
    }
   ],
   "source": [
    "fakeTweetsNRCsentiment <- data.frame(id = 0)\n",
    "for (emotion in nrcEMOTIONS){\n",
    "    fakeTweetsNRCsentiment0 <- inner_join(fakeTweetsTOKENS, filter(nrcWORDS, sentiment == emotion))\n",
    "    fakeTweetsNRCsentiment <- full_join(fakeTweetsNRCsentiment, fakeTweetsNRCsentiment0)\n",
    "    }\n",
    "#akeTweetsNRCsentiment <- data.frame(fakeTweetsNRCsentiment[-1,])\n",
    "#fakeTweetsNRCsentiment"
   ]
  },
  {
   "cell_type": "code",
   "execution_count": 12,
   "metadata": {
    "collapsed": true
   },
   "outputs": [],
   "source": [
    "attach(fakeTweetsNRCsentiment)\n",
    "fakeNRCscoredTweets <- data.frame(table(id, sentiment), realFAKEcat = \"fake\")\n",
    "detach(fakeTweetsNRCsentiment)"
   ]
  },
  {
   "cell_type": "code",
   "execution_count": 13,
   "metadata": {},
   "outputs": [
    {
     "data": {
      "text/html": [
       "<table>\n",
       "<thead><tr><th scope=col>id</th><th scope=col>sentiment</th><th scope=col>Freq</th><th scope=col>realFAKEcat</th></tr></thead>\n",
       "<tbody>\n",
       "\t<tr><td>0         </td><td>anger     </td><td>0         </td><td>fake      </td></tr>\n",
       "\t<tr><td>1023861511</td><td>anger     </td><td>0         </td><td>fake      </td></tr>\n",
       "\t<tr><td>1183192955</td><td>anger     </td><td>0         </td><td>fake      </td></tr>\n",
       "\t<tr><td>1189773795</td><td>anger     </td><td>0         </td><td>fake      </td></tr>\n",
       "\t<tr><td>1204599498</td><td>anger     </td><td>0         </td><td>fake      </td></tr>\n",
       "\t<tr><td>1210430389</td><td>anger     </td><td>0         </td><td>fake      </td></tr>\n",
       "\t<tr><td>1213317158</td><td>anger     </td><td>0         </td><td>fake      </td></tr>\n",
       "\t<tr><td>1226758528</td><td>anger     </td><td>0         </td><td>fake      </td></tr>\n",
       "\t<tr><td>1230802453</td><td>anger     </td><td>0         </td><td>fake      </td></tr>\n",
       "\t<tr><td>1235967720</td><td>anger     </td><td>0         </td><td>fake      </td></tr>\n",
       "\t<tr><td>1248303008</td><td>anger     </td><td>0         </td><td>fake      </td></tr>\n",
       "\t<tr><td>1248315583</td><td>anger     </td><td>0         </td><td>fake      </td></tr>\n",
       "\t<tr><td>1257268832</td><td>anger     </td><td>0         </td><td>fake      </td></tr>\n",
       "\t<tr><td>1261824330</td><td>anger     </td><td>0         </td><td>fake      </td></tr>\n",
       "\t<tr><td>1265670629</td><td>anger     </td><td>0         </td><td>fake      </td></tr>\n",
       "\t<tr><td>1273331935</td><td>anger     </td><td>0         </td><td>fake      </td></tr>\n",
       "\t<tr><td>1274028569</td><td>anger     </td><td>0         </td><td>fake      </td></tr>\n",
       "\t<tr><td>1277870540</td><td>anger     </td><td>0         </td><td>fake      </td></tr>\n",
       "\t<tr><td>1284091600</td><td>anger     </td><td>1         </td><td>fake      </td></tr>\n",
       "\t<tr><td>1317142395</td><td>anger     </td><td>1         </td><td>fake      </td></tr>\n",
       "\t<tr><td>1330704084</td><td>anger     </td><td>0         </td><td>fake      </td></tr>\n",
       "\t<tr><td>1330730973</td><td>anger     </td><td>2         </td><td>fake      </td></tr>\n",
       "\t<tr><td>1330737617</td><td>anger     </td><td>0         </td><td>fake      </td></tr>\n",
       "\t<tr><td>1330765639</td><td>anger     </td><td>0         </td><td>fake      </td></tr>\n",
       "\t<tr><td>1348853138</td><td>anger     </td><td>0         </td><td>fake      </td></tr>\n",
       "\t<tr><td>1387782384</td><td>anger     </td><td>0         </td><td>fake      </td></tr>\n",
       "\t<tr><td>1392546412</td><td>anger     </td><td>0         </td><td>fake      </td></tr>\n",
       "\t<tr><td>1395106681</td><td>anger     </td><td>0         </td><td>fake      </td></tr>\n",
       "\t<tr><td>1395201197</td><td>anger     </td><td>0         </td><td>fake      </td></tr>\n",
       "\t<tr><td>1395209740</td><td>anger     </td><td>1         </td><td>fake      </td></tr>\n",
       "\t<tr><td>⋮</td><td>⋮</td><td>⋮</td><td>⋮</td></tr>\n",
       "\t<tr><td>335204383342084096</td><td>trust             </td><td>0                 </td><td>fake              </td></tr>\n",
       "\t<tr><td>335204396520595456</td><td>trust             </td><td>1                 </td><td>fake              </td></tr>\n",
       "\t<tr><td>335204420797218816</td><td>trust             </td><td>0                 </td><td>fake              </td></tr>\n",
       "\t<tr><td>335204441357688832</td><td>trust             </td><td>0                 </td><td>fake              </td></tr>\n",
       "\t<tr><td>335204460999606272</td><td>trust             </td><td>1                 </td><td>fake              </td></tr>\n",
       "\t<tr><td>335204497355853824</td><td>trust             </td><td>0                 </td><td>fake              </td></tr>\n",
       "\t<tr><td>335204500111495168</td><td>trust             </td><td>0                 </td><td>fake              </td></tr>\n",
       "\t<tr><td>335204521187889152</td><td>trust             </td><td>1                 </td><td>fake              </td></tr>\n",
       "\t<tr><td>335204523264065536</td><td>trust             </td><td>0                 </td><td>fake              </td></tr>\n",
       "\t<tr><td>335204554889101312</td><td>trust             </td><td>1                 </td><td>fake              </td></tr>\n",
       "\t<tr><td>335204602905493504</td><td>trust             </td><td>1                 </td><td>fake              </td></tr>\n",
       "\t<tr><td>335204620441894912</td><td>trust             </td><td>0                 </td><td>fake              </td></tr>\n",
       "\t<tr><td>335204623168192512</td><td>trust             </td><td>3                 </td><td>fake              </td></tr>\n",
       "\t<tr><td>335204629610631168</td><td>trust             </td><td>0                 </td><td>fake              </td></tr>\n",
       "\t<tr><td>335204682916052992</td><td>trust             </td><td>2                 </td><td>fake              </td></tr>\n",
       "\t<tr><td>335204758761660416</td><td>trust             </td><td>1                 </td><td>fake              </td></tr>\n",
       "\t<tr><td>335204766600802304</td><td>trust             </td><td>1                 </td><td>fake              </td></tr>\n",
       "\t<tr><td>335204790646759424</td><td>trust             </td><td>1                 </td><td>fake              </td></tr>\n",
       "\t<tr><td>335204796531367936</td><td>trust             </td><td>1                 </td><td>fake              </td></tr>\n",
       "\t<tr><td>335204823249084416</td><td>trust             </td><td>0                 </td><td>fake              </td></tr>\n",
       "\t<tr><td>335204899417636864</td><td>trust             </td><td>0                 </td><td>fake              </td></tr>\n",
       "\t<tr><td>335204943982116864</td><td>trust             </td><td>0                 </td><td>fake              </td></tr>\n",
       "\t<tr><td>335204987841941504</td><td>trust             </td><td>1                 </td><td>fake              </td></tr>\n",
       "\t<tr><td>335205120369385472</td><td>trust             </td><td>0                 </td><td>fake              </td></tr>\n",
       "\t<tr><td>335205280885399552</td><td>trust             </td><td>0                 </td><td>fake              </td></tr>\n",
       "\t<tr><td>335205298291757056</td><td>trust             </td><td>0                 </td><td>fake              </td></tr>\n",
       "\t<tr><td>335205423038750720</td><td>trust             </td><td>1                 </td><td>fake              </td></tr>\n",
       "\t<tr><td>335205484053274624</td><td>trust             </td><td>0                 </td><td>fake              </td></tr>\n",
       "\t<tr><td>335205487383568384</td><td>trust             </td><td>1                 </td><td>fake              </td></tr>\n",
       "\t<tr><td>335206083503194112</td><td>trust             </td><td>0                 </td><td>fake              </td></tr>\n",
       "</tbody>\n",
       "</table>\n"
      ],
      "text/latex": [
       "\\begin{tabular}{r|llll}\n",
       " id & sentiment & Freq & realFAKEcat\\\\\n",
       "\\hline\n",
       "\t 0          & anger      & 0          & fake      \\\\\n",
       "\t 1023861511 & anger      & 0          & fake      \\\\\n",
       "\t 1183192955 & anger      & 0          & fake      \\\\\n",
       "\t 1189773795 & anger      & 0          & fake      \\\\\n",
       "\t 1204599498 & anger      & 0          & fake      \\\\\n",
       "\t 1210430389 & anger      & 0          & fake      \\\\\n",
       "\t 1213317158 & anger      & 0          & fake      \\\\\n",
       "\t 1226758528 & anger      & 0          & fake      \\\\\n",
       "\t 1230802453 & anger      & 0          & fake      \\\\\n",
       "\t 1235967720 & anger      & 0          & fake      \\\\\n",
       "\t 1248303008 & anger      & 0          & fake      \\\\\n",
       "\t 1248315583 & anger      & 0          & fake      \\\\\n",
       "\t 1257268832 & anger      & 0          & fake      \\\\\n",
       "\t 1261824330 & anger      & 0          & fake      \\\\\n",
       "\t 1265670629 & anger      & 0          & fake      \\\\\n",
       "\t 1273331935 & anger      & 0          & fake      \\\\\n",
       "\t 1274028569 & anger      & 0          & fake      \\\\\n",
       "\t 1277870540 & anger      & 0          & fake      \\\\\n",
       "\t 1284091600 & anger      & 1          & fake      \\\\\n",
       "\t 1317142395 & anger      & 1          & fake      \\\\\n",
       "\t 1330704084 & anger      & 0          & fake      \\\\\n",
       "\t 1330730973 & anger      & 2          & fake      \\\\\n",
       "\t 1330737617 & anger      & 0          & fake      \\\\\n",
       "\t 1330765639 & anger      & 0          & fake      \\\\\n",
       "\t 1348853138 & anger      & 0          & fake      \\\\\n",
       "\t 1387782384 & anger      & 0          & fake      \\\\\n",
       "\t 1392546412 & anger      & 0          & fake      \\\\\n",
       "\t 1395106681 & anger      & 0          & fake      \\\\\n",
       "\t 1395201197 & anger      & 0          & fake      \\\\\n",
       "\t 1395209740 & anger      & 1          & fake      \\\\\n",
       "\t ⋮ & ⋮ & ⋮ & ⋮\\\\\n",
       "\t 335204383342084096 & trust              & 0                  & fake              \\\\\n",
       "\t 335204396520595456 & trust              & 1                  & fake              \\\\\n",
       "\t 335204420797218816 & trust              & 0                  & fake              \\\\\n",
       "\t 335204441357688832 & trust              & 0                  & fake              \\\\\n",
       "\t 335204460999606272 & trust              & 1                  & fake              \\\\\n",
       "\t 335204497355853824 & trust              & 0                  & fake              \\\\\n",
       "\t 335204500111495168 & trust              & 0                  & fake              \\\\\n",
       "\t 335204521187889152 & trust              & 1                  & fake              \\\\\n",
       "\t 335204523264065536 & trust              & 0                  & fake              \\\\\n",
       "\t 335204554889101312 & trust              & 1                  & fake              \\\\\n",
       "\t 335204602905493504 & trust              & 1                  & fake              \\\\\n",
       "\t 335204620441894912 & trust              & 0                  & fake              \\\\\n",
       "\t 335204623168192512 & trust              & 3                  & fake              \\\\\n",
       "\t 335204629610631168 & trust              & 0                  & fake              \\\\\n",
       "\t 335204682916052992 & trust              & 2                  & fake              \\\\\n",
       "\t 335204758761660416 & trust              & 1                  & fake              \\\\\n",
       "\t 335204766600802304 & trust              & 1                  & fake              \\\\\n",
       "\t 335204790646759424 & trust              & 1                  & fake              \\\\\n",
       "\t 335204796531367936 & trust              & 1                  & fake              \\\\\n",
       "\t 335204823249084416 & trust              & 0                  & fake              \\\\\n",
       "\t 335204899417636864 & trust              & 0                  & fake              \\\\\n",
       "\t 335204943982116864 & trust              & 0                  & fake              \\\\\n",
       "\t 335204987841941504 & trust              & 1                  & fake              \\\\\n",
       "\t 335205120369385472 & trust              & 0                  & fake              \\\\\n",
       "\t 335205280885399552 & trust              & 0                  & fake              \\\\\n",
       "\t 335205298291757056 & trust              & 0                  & fake              \\\\\n",
       "\t 335205423038750720 & trust              & 1                  & fake              \\\\\n",
       "\t 335205484053274624 & trust              & 0                  & fake              \\\\\n",
       "\t 335205487383568384 & trust              & 1                  & fake              \\\\\n",
       "\t 335206083503194112 & trust              & 0                  & fake              \\\\\n",
       "\\end{tabular}\n"
      ],
      "text/markdown": [
       "\n",
       "id | sentiment | Freq | realFAKEcat | \n",
       "|---|---|---|---|---|---|---|---|---|---|---|---|---|---|---|---|---|---|---|---|---|---|---|---|---|---|---|---|---|---|---|---|---|---|---|---|---|---|---|---|---|---|---|---|---|---|---|---|---|---|---|---|---|---|---|---|---|---|---|---|---|\n",
       "| 0          | anger      | 0          | fake       | \n",
       "| 1023861511 | anger      | 0          | fake       | \n",
       "| 1183192955 | anger      | 0          | fake       | \n",
       "| 1189773795 | anger      | 0          | fake       | \n",
       "| 1204599498 | anger      | 0          | fake       | \n",
       "| 1210430389 | anger      | 0          | fake       | \n",
       "| 1213317158 | anger      | 0          | fake       | \n",
       "| 1226758528 | anger      | 0          | fake       | \n",
       "| 1230802453 | anger      | 0          | fake       | \n",
       "| 1235967720 | anger      | 0          | fake       | \n",
       "| 1248303008 | anger      | 0          | fake       | \n",
       "| 1248315583 | anger      | 0          | fake       | \n",
       "| 1257268832 | anger      | 0          | fake       | \n",
       "| 1261824330 | anger      | 0          | fake       | \n",
       "| 1265670629 | anger      | 0          | fake       | \n",
       "| 1273331935 | anger      | 0          | fake       | \n",
       "| 1274028569 | anger      | 0          | fake       | \n",
       "| 1277870540 | anger      | 0          | fake       | \n",
       "| 1284091600 | anger      | 1          | fake       | \n",
       "| 1317142395 | anger      | 1          | fake       | \n",
       "| 1330704084 | anger      | 0          | fake       | \n",
       "| 1330730973 | anger      | 2          | fake       | \n",
       "| 1330737617 | anger      | 0          | fake       | \n",
       "| 1330765639 | anger      | 0          | fake       | \n",
       "| 1348853138 | anger      | 0          | fake       | \n",
       "| 1387782384 | anger      | 0          | fake       | \n",
       "| 1392546412 | anger      | 0          | fake       | \n",
       "| 1395106681 | anger      | 0          | fake       | \n",
       "| 1395201197 | anger      | 0          | fake       | \n",
       "| 1395209740 | anger      | 1          | fake       | \n",
       "| ⋮ | ⋮ | ⋮ | ⋮ | \n",
       "| 335204383342084096 | trust              | 0                  | fake               | \n",
       "| 335204396520595456 | trust              | 1                  | fake               | \n",
       "| 335204420797218816 | trust              | 0                  | fake               | \n",
       "| 335204441357688832 | trust              | 0                  | fake               | \n",
       "| 335204460999606272 | trust              | 1                  | fake               | \n",
       "| 335204497355853824 | trust              | 0                  | fake               | \n",
       "| 335204500111495168 | trust              | 0                  | fake               | \n",
       "| 335204521187889152 | trust              | 1                  | fake               | \n",
       "| 335204523264065536 | trust              | 0                  | fake               | \n",
       "| 335204554889101312 | trust              | 1                  | fake               | \n",
       "| 335204602905493504 | trust              | 1                  | fake               | \n",
       "| 335204620441894912 | trust              | 0                  | fake               | \n",
       "| 335204623168192512 | trust              | 3                  | fake               | \n",
       "| 335204629610631168 | trust              | 0                  | fake               | \n",
       "| 335204682916052992 | trust              | 2                  | fake               | \n",
       "| 335204758761660416 | trust              | 1                  | fake               | \n",
       "| 335204766600802304 | trust              | 1                  | fake               | \n",
       "| 335204790646759424 | trust              | 1                  | fake               | \n",
       "| 335204796531367936 | trust              | 1                  | fake               | \n",
       "| 335204823249084416 | trust              | 0                  | fake               | \n",
       "| 335204899417636864 | trust              | 0                  | fake               | \n",
       "| 335204943982116864 | trust              | 0                  | fake               | \n",
       "| 335204987841941504 | trust              | 1                  | fake               | \n",
       "| 335205120369385472 | trust              | 0                  | fake               | \n",
       "| 335205280885399552 | trust              | 0                  | fake               | \n",
       "| 335205298291757056 | trust              | 0                  | fake               | \n",
       "| 335205423038750720 | trust              | 1                  | fake               | \n",
       "| 335205484053274624 | trust              | 0                  | fake               | \n",
       "| 335205487383568384 | trust              | 1                  | fake               | \n",
       "| 335206083503194112 | trust              | 0                  | fake               | \n",
       "\n",
       "\n"
      ],
      "text/plain": [
       "       id                 sentiment Freq realFAKEcat\n",
       "1      0                  anger     0    fake       \n",
       "2      1023861511         anger     0    fake       \n",
       "3      1183192955         anger     0    fake       \n",
       "4      1189773795         anger     0    fake       \n",
       "5      1204599498         anger     0    fake       \n",
       "6      1210430389         anger     0    fake       \n",
       "7      1213317158         anger     0    fake       \n",
       "8      1226758528         anger     0    fake       \n",
       "9      1230802453         anger     0    fake       \n",
       "10     1235967720         anger     0    fake       \n",
       "11     1248303008         anger     0    fake       \n",
       "12     1248315583         anger     0    fake       \n",
       "13     1257268832         anger     0    fake       \n",
       "14     1261824330         anger     0    fake       \n",
       "15     1265670629         anger     0    fake       \n",
       "16     1273331935         anger     0    fake       \n",
       "17     1274028569         anger     0    fake       \n",
       "18     1277870540         anger     0    fake       \n",
       "19     1284091600         anger     1    fake       \n",
       "20     1317142395         anger     1    fake       \n",
       "21     1330704084         anger     0    fake       \n",
       "22     1330730973         anger     2    fake       \n",
       "23     1330737617         anger     0    fake       \n",
       "24     1330765639         anger     0    fake       \n",
       "25     1348853138         anger     0    fake       \n",
       "26     1387782384         anger     0    fake       \n",
       "27     1392546412         anger     0    fake       \n",
       "28     1395106681         anger     0    fake       \n",
       "29     1395201197         anger     0    fake       \n",
       "30     1395209740         anger     1    fake       \n",
       "⋮      ⋮                  ⋮         ⋮    ⋮          \n",
       "586591 335204383342084096 trust     0    fake       \n",
       "586592 335204396520595456 trust     1    fake       \n",
       "586593 335204420797218816 trust     0    fake       \n",
       "586594 335204441357688832 trust     0    fake       \n",
       "586595 335204460999606272 trust     1    fake       \n",
       "586596 335204497355853824 trust     0    fake       \n",
       "586597 335204500111495168 trust     0    fake       \n",
       "586598 335204521187889152 trust     1    fake       \n",
       "586599 335204523264065536 trust     0    fake       \n",
       "586600 335204554889101312 trust     1    fake       \n",
       "586601 335204602905493504 trust     1    fake       \n",
       "586602 335204620441894912 trust     0    fake       \n",
       "586603 335204623168192512 trust     3    fake       \n",
       "586604 335204629610631168 trust     0    fake       \n",
       "586605 335204682916052992 trust     2    fake       \n",
       "586606 335204758761660416 trust     1    fake       \n",
       "586607 335204766600802304 trust     1    fake       \n",
       "586608 335204790646759424 trust     1    fake       \n",
       "586609 335204796531367936 trust     1    fake       \n",
       "586610 335204823249084416 trust     0    fake       \n",
       "586611 335204899417636864 trust     0    fake       \n",
       "586612 335204943982116864 trust     0    fake       \n",
       "586613 335204987841941504 trust     1    fake       \n",
       "586614 335205120369385472 trust     0    fake       \n",
       "586615 335205280885399552 trust     0    fake       \n",
       "586616 335205298291757056 trust     0    fake       \n",
       "586617 335205423038750720 trust     1    fake       \n",
       "586618 335205484053274624 trust     0    fake       \n",
       "586619 335205487383568384 trust     1    fake       \n",
       "586620 335206083503194112 trust     0    fake       "
      ]
     },
     "metadata": {},
     "output_type": "display_data"
    }
   ],
   "source": [
    "fakeNRCscoredTweets"
   ]
  },
  {
   "cell_type": "code",
   "execution_count": null,
   "metadata": {
    "collapsed": true
   },
   "outputs": [],
   "source": []
  }
 ],
 "metadata": {
  "kernelspec": {
   "display_name": "R",
   "language": "R",
   "name": "ir"
  },
  "language_info": {
   "codemirror_mode": "r",
   "file_extension": ".r",
   "mimetype": "text/x-r-source",
   "name": "R",
   "pygments_lexer": "r",
   "version": "3.4.2"
  }
 },
 "nbformat": 4,
 "nbformat_minor": 2
}
